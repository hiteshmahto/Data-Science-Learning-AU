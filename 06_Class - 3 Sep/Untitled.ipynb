{
 "cells": [
  {
   "cell_type": "code",
   "execution_count": 3,
   "id": "1c451b5e-e039-4339-a58c-6aceb70cd0b2",
   "metadata": {},
   "outputs": [
    {
     "name": "stdout",
     "output_type": "stream",
     "text": [
      "<_io.TextIOWrapper name='googleplaystore.csv' mode='r' encoding='utf-8'>\n",
      "<class '_io.TextIOWrapper'>\n"
     ]
    }
   ],
   "source": [
    "from csv import reader # reader is function and csv is a module\n",
    "file = open(\"googleplaystore.csv\", \"r\", encoding=\"utf-8\")\n",
    "print(file)\n",
    "print(type(file))\n",
    "# <class '_io.TextIOWrapper'>, indicates that file is an instance of the _io.TextIOWrapper class, a type of file object in Python used for text file operations"
   ]
  },
  {
   "cell_type": "code",
   "execution_count": 9,
   "id": "c739871f-d832-4198-9c92-0d6231a4e892",
   "metadata": {},
   "outputs": [
    {
     "name": "stdout",
     "output_type": "stream",
     "text": [
      "App,Category,Rating,Reviews,Size,Installs,Type,Price,Content Rating,Genres,Last Updated,Current Ver,Android Ver\n",
      "\n",
      "Photo Editor & Candy Camera & Grid & ScrapBook,ART_AND_DESIGN,4.1,159,19M,\"10,000+\",Free,0,Everyone,Art & Design,\"January 7, 2018\",1.0.0,4.0.3 and up\n",
      "\n",
      "Coloring book moana,ART_AND_DESIGN,3.9,967,14M,\"500,000+\",Free,0,Everyone,Art & Design;Pretend Play,\"January 15, 2018\",2.0.0,4.0.3 and up\n",
      "\n",
      "\"U Launcher Lite â€“ FREE Live Cool Themes, Hide Apps\",ART_AND_DESIGN,4.7,87510,8.7M,\"5,000,000+\",Free,0,Everyone,Art & Design,\"August 1, 2018\",1.2.4,4.0.3 and up\n",
      "\n",
      "Sketch - Draw & Paint,ART_AND_DESIGN,4.5,215644,25M,\"50,000,000+\",Free,0,Teen,Art & Design,\"June 8, 2018\",Varies with device,4.2 and up\n",
      "\n"
     ]
    }
   ],
   "source": [
    "from csv import reader\n",
    "file = open(\"googleplaystore.csv\", \"r\")\n",
    "counter = 0\n",
    "# printing 5 rows of the googleplaystore.csv file\n",
    "for rows in file:\n",
    "    if counter == 5:\n",
    "        break\n",
    "    print(rows)\n",
    "    counter += 1"
   ]
  },
  {
   "cell_type": "code",
   "execution_count": 13,
   "id": "92d47b6a-c18b-466e-a819-58c35feea359",
   "metadata": {},
   "outputs": [
    {
     "name": "stdout",
     "output_type": "stream",
     "text": [
      "<_csv.reader object at 0x000002E8EA917F40>\n"
     ]
    }
   ],
   "source": [
    "from csv import reader\n",
    "file = open(\"googleplaystore.csv\", \"r\", encoding=\"utf-8\")\n",
    "android = reader(file) # This reads the CSV file and parses it into rows, where each row is represented as a list of strings, corresponding to the values in that row\n",
    "# android variable is an object created by the reader() from the csv module. Specifically, android is a reader object that allows you to iterate over the lines in the googleplaystore.csv file. Each iteration returns a list representing a row in the CSV file, where each element of the list corresponds to a field in that row.\n",
    "print(android)\n",
    "# for rows in android:\n",
    "#     print(rows)"
   ]
  },
  {
   "cell_type": "code",
   "execution_count": 16,
   "id": "06357706-ea4d-4142-a5c9-0c76ec1486a6",
   "metadata": {},
   "outputs": [
    {
     "name": "stdout",
     "output_type": "stream",
     "text": [
      "['App', 'Category', 'Rating', 'Reviews', 'Size', 'Installs', 'Type', 'Price', 'Content Rating', 'Genres', 'Last Updated', 'Current Ver', 'Android Ver']\n",
      "['App', 'Category', 'Rating', 'Reviews', 'Size', 'Installs', 'Type', 'Price', 'Content Rating', 'Genres', 'Last Updated', 'Current Ver', 'Android Ver']\n"
     ]
    }
   ],
   "source": [
    "from csv import reader\n",
    "file = open(\"googleplaystore.csv\", \"r\", encoding=\"utf-8\")\n",
    "android_list = list(reader(file))\n",
    "print(android_list[0])\n",
    "\n",
    "header = android_list[0]\n",
    "app_list = android_list[1:]\n",
    "print(header)"
   ]
  },
  {
   "cell_type": "code",
   "execution_count": 27,
   "id": "c160c031-276a-4294-a61a-7e91fbdc1aad",
   "metadata": {},
   "outputs": [
    {
     "name": "stdout",
     "output_type": "stream",
     "text": [
      "[['Coloring book moana', 'ART_AND_DESIGN', '3.9', '967', '14M', '500,000+', 'Free', '0', 'Everyone', 'Art & Design;Pretend Play', 'January 15, 2018', '2.0.0', '4.0.3 and up'], ['U Launcher Lite – FREE Live Cool Themes, Hide Apps', 'ART_AND_DESIGN', '4.7', '87510', '8.7M', '5,000,000+', 'Free', '0', 'Everyone', 'Art & Design', 'August 1, 2018', '1.2.4', '4.0.3 and up'], ['Sketch - Draw & Paint', 'ART_AND_DESIGN', '4.5', '215644', '25M', '50,000,000+', 'Free', '0', 'Teen', 'Art & Design', 'June 8, 2018', 'Varies with device', '4.2 and up'], ['Pixel Draw - Number Art Coloring Book', 'ART_AND_DESIGN', '4.3', '967', '2.8M', '100,000+', 'Free', '0', 'Everyone', 'Art & Design;Creativity', 'June 20, 2018', '1.1', '4.4 and up'], ['Paper flowers instructions', 'ART_AND_DESIGN', '4.4', '167', '5.6M', '50,000+', 'Free', '0', 'Everyone', 'Art & Design', 'March 26, 2017', '1.0', '2.3 and up']]\n",
      "\n",
      "{'rows': 4, 'columns': 13}\n"
     ]
    }
   ],
   "source": [
    "def explore_data(dataset, start, end, row_col = False):\n",
    "    if row_col:\n",
    "        return {\"rows\": end - start + 1, \"columns\": len(dataset[end])}\n",
    "    return dataset[start:end + 1]\n",
    "\n",
    "\n",
    "from csv import reader\n",
    "file = open(\"googleplaystore.csv\", \"r\", encoding=\"utf-8\")\n",
    "android = list(reader(file))\n",
    "header = android[0]\n",
    "app_list = android[1:]\n",
    "\n",
    "print(explore_data(app_list, 1, 5))\n",
    "print()\n",
    "print(explore_data(app_list, 6, 9, True))"
   ]
  },
  {
   "cell_type": "code",
   "execution_count": 39,
   "id": "e39f545d-ae84-44e1-b27f-f5d1a7d577b5",
   "metadata": {},
   "outputs": [
    {
     "name": "stdout",
     "output_type": "stream",
     "text": [
      "['Smoke Effect Photo Maker - Smoke Editor', 'ART_AND_DESIGN', '3.8', '178', '19M', '50,000+', 'Free', '0', 'Everyone', 'Art & Design', 'April 26, 2018', '1.1', '4.0.3 and up']\n",
      "\n",
      "['Infinite Painter', 'ART_AND_DESIGN', '4.1', '36815', '29M', '1,000,000+', 'Free', '0', 'Everyone', 'Art & Design', 'June 14, 2018', '6.1.61.1', '4.2 and up']\n",
      "\n",
      "['Garden Coloring Book', 'ART_AND_DESIGN', '4.4', '13791', '33M', '1,000,000+', 'Free', '0', 'Everyone', 'Art & Design', 'September 20, 2017', '2.9.2', '3.0 and up']\n",
      "\n",
      "Length of rows: 9\n",
      "Length of columns: 13\n"
     ]
    }
   ],
   "source": [
    "from csv import reader\n",
    "file = open(\"googleplaystore.csv\", \"r\", encoding=\"utf-8\")\n",
    "android = list(reader(file))\n",
    "header = android[0]\n",
    "app_list = android[1:]\n",
    "\n",
    "def explore_data(dataset, start, end, row_columns = False):\n",
    "    dataslice = dataset[start:end + 1]\n",
    "    if row_columns:\n",
    "        print(\"Length of rows:\", len(dataslice))\n",
    "        print(\"Length of columns:\", len(dataset[0]))\n",
    "        return\n",
    "    for row in dataslice:\n",
    "        print(row, end=\"\\n\\n\")\n",
    "\n",
    "explore_data(app_list, 6, 8)\n",
    "explore_data(app_list, 0, 8, True)"
   ]
  },
  {
   "cell_type": "code",
   "execution_count": 42,
   "id": "2244eda1-09ce-406b-931c-5260229fba0a",
   "metadata": {},
   "outputs": [
    {
     "name": "stdout",
     "output_type": "stream",
     "text": [
      "['Facebook Pages Manager', 'BUSINESS', '4.0', '1279184', 'Varies with device', '50,000,000+', 'Free', '0', 'Everyone', 'Business', 'August 2, 2018', 'Varies with device', 'Varies with device']\n",
      "['Facebook Ads Manager', 'BUSINESS', '4.1', '19023', 'Varies with device', '1,000,000+', 'Free', '0', 'Everyone', 'Business', 'August 1, 2018', '99.0.0.35.75', '4.1 and up']\n",
      "['Facebook', 'SOCIAL', '4.1', '78158306', 'Varies with device', '1,000,000,000+', 'Free', '0', 'Teen', 'Social', 'August 3, 2018', 'Varies with device', 'Varies with device']\n",
      "['Facebook Lite', 'SOCIAL', '4.3', '8606259', 'Varies with device', '500,000,000+', 'Free', '0', 'Teen', 'Social', 'August 1, 2018', 'Varies with device', 'Varies with device']\n",
      "['Who Viewed My Facebook Profile - Stalkers Visitors', 'SOCIAL', '4.6', '271445', '9.9M', '5,000,000+', 'Free', '0', 'Everyone', 'Social', 'June 24, 2018', '4.1.1', '4.0.3 and up']\n",
      "['Facebook Local', 'SOCIAL', '4.2', '4751', 'Varies with device', '1,000,000+', 'Free', '0', 'Teen', 'Social', 'June 30, 2018', '13.0', '4.1 and up']\n",
      "['HTC Social Plugin - Facebook', 'SOCIAL', '3.6', '13223', '2.8M', '10,000,000+', 'Free', '0', 'Mature 17+', 'Social', 'June 8, 2016', '8.00.752746', '4.4 and up']\n",
      "['Facebook', 'SOCIAL', '4.1', '78128208', 'Varies with device', '1,000,000,000+', 'Free', '0', 'Teen', 'Social', 'August 3, 2018', 'Varies with device', 'Varies with device']\n",
      "['Facebook Lite', 'SOCIAL', '4.3', '8595964', 'Varies with device', '500,000,000+', 'Free', '0', 'Teen', 'Social', 'August 1, 2018', 'Varies with device', 'Varies with device']\n",
      "['Video Downloader for Facebook', 'TOOLS', '4.6', '894435', '3.1M', '50,000,000+', 'Free', '0', 'Teen', 'Tools', 'July 1, 2018', '2.2.8', '4.0 and up']\n",
      "['Dp for Facebook', 'SOCIAL', '4.1', '56', '10M', '5,000+', 'Free', '0', 'Everyone', 'Social', 'May 16, 2017', '1.0', '4.0.3 and up']\n",
      "['EZ Video Download for Facebook', 'SOCIAL', '4.1', '34079', '1.3M', '1,000,000+', 'Free', '0', 'Teen', 'Social', 'March 14, 2017', '2.001', '4.0.3 and up']\n",
      "['Facebook Face to Face Events', 'BUSINESS', '4.4', '4518', '26M', '1,000,000+', 'Free', '0', 'Everyone', 'Business', 'March 1, 2018', '1.5', '4.1 and up']\n",
      "['Facebook Creator', 'SOCIAL', '4.2', '3895', 'Varies with device', '1,000,000+', 'Free', '0', 'Teen', 'Social', 'June 27, 2018', '176.0.0.29.0', '4.4 and up']\n",
      "['Swift for Facebook Lite', 'SOCIAL', '4.3', '9562', '5.8M', '500,000+', 'Free', '0', 'Teen', 'Social', 'May 31, 2018', '4.1.0', 'Varies with device']\n",
      "['Friendly for Facebook', 'SOCIAL', '4.5', '42621', '23M', '1,000,000+', 'Free', '0', 'Teen', 'Social', 'August 7, 2018', '2.1.05', '4.4 and up']\n",
      "['Facebook Pages Manager', 'BUSINESS', '4.0', '1279800', 'Varies with device', '50,000,000+', 'Free', '0', 'Everyone', 'Business', 'August 6, 2018', 'Varies with device', 'Varies with device']\n",
      "['Faster for Facebook Lite', 'SOCIAL', '4.3', '24456', '4.6M', '1,000,000+', 'Free', '0', 'Teen', 'Social', 'May 29, 2018', '4.7', '4.1 and up']\n",
      "['Facebook Ads Manager', 'BUSINESS', '4.1', '19051', 'Varies with device', '1,000,000+', 'Free', '0', 'Everyone', 'Business', 'August 1, 2018', '99.0.0.35.75', '4.1 and up']\n",
      "['Puffin for Facebook', 'SOCIAL', '4.0', '10743', 'Varies with device', '500,000+', 'Free', '0', 'Teen', 'Social', 'December 28, 2017', '7.0.4.17908', '4.1 and up']\n",
      "['Lite for Facebook Messenger', 'COMMUNICATION', '4.3', '76498', '4.3M', '1,000,000+', 'Free', '0', 'Teen', 'Communication', 'June 20, 2018', '6.3.2', 'Varies with device']\n",
      "['Profile Tracker - Who Viewed My Facebook Profile', 'SOCIAL', '4.7', '37090', '4.8M', '500,000+', 'Free', '0', 'Teen', 'Social', 'August 1, 2018', '5.4', '4.1 and up']\n",
      "['Pink Color for Facebook', 'SOCIAL', '4.1', '5285', '4.0M', '500,000+', 'Free', '0', 'Everyone', 'Social', 'July 1, 2018', '2.0.5', '4.1 and up']\n",
      "['Who Viewed My Facebook Profile - Stalkers Visitors', 'SOCIAL', '4.6', '273244', '9.9M', '5,000,000+', 'Free', '0', 'Everyone', 'Social', 'June 24, 2018', '4.1.1', '4.0.3 and up']\n",
      "['Phoenix - Facebook & Messenger', 'SOCIAL', '4.3', '9606', '3.4M', '100,000+', 'Free', '0', 'Teen', 'Social', 'July 18, 2018', '2.2.0717', '5.0 and up']\n",
      "['Faster Social for Facebook', 'SOCIAL', '4.2', '1236', '3.3M', '100,000+', 'Free', '0', 'Teen', 'Social', 'August 2, 2018', '1.8', '4.3 and up']\n",
      "['Videos downloader for Facebook:fast fb video saver', 'VIDEO_PLAYERS', '4.3', '20', '5.1M', '5,000+', 'Free', '0', 'Everyone', 'Video Players & Editors', 'April 27, 2018', '1.0.0', '4.0.3 and up']\n",
      "['Stickers for Facebook', 'SOCIAL', '4.3', '11066', '10M', '1,000,000+', 'Free', '0', 'Everyone', 'Social', 'March 13, 2018', '1.4', '4.4 and up']\n",
      "['Lite Messenger for Facebook Lite', 'SOCIAL', '3.8', '108', '2.8M', '10,000+', 'Free', '0', 'Teen', 'Social', 'May 28, 2018', '3.1', '4.2 and up']\n",
      "['Download Facebook Photo Albums', 'TOOLS', '4.0', '3840', '2.5M', '100,000+', 'Free', '0', 'Everyone', 'Tools', 'June 2, 2017', '2.4', '4.4 and up']\n",
      "['Mini for Facebook lite', 'SOCIAL', '4.1', '260', '1.3M', '10,000+', 'Free', '0', 'Teen', 'Social', 'June 21, 2018', '1.2', '3.0 and up']\n",
      "['IDM for Facebook ★ Downloader', 'PRODUCTIVITY', '4.3', '1905', '3.1M', '100,000+', 'Free', '0', 'Everyone', 'Productivity', 'October 17, 2015', '7.95', '2.3 and up']\n",
      "['HD Video Download for Facebook', 'VIDEO_PLAYERS', '4.4', '20755', '17M', '1,000,000+', 'Free', '0', 'Everyone', 'Video Players & Editors', 'March 16, 2018', '4.0.3', '4.1 and up']\n"
     ]
    }
   ],
   "source": [
    "# printing the rows in which app name is \"Instagram\" or app name includes \"Instagram\"\n",
    "from csv import reader\n",
    "file = open(\"googleplaystore.csv\", \"r\", encoding=\"utf-8\")\n",
    "android = list(reader(file))\n",
    "header = android[0]\n",
    "app_list = android[1:]\n",
    "\n",
    "def print_row_app(dataset, appname):\n",
    "    for app in dataset:\n",
    "        if appname in app[0]:\n",
    "            print(app)\n",
    "\n",
    "# print_row_app(app_list, \"Instagram\")\n",
    "print_row_app(app_list, \"Facebook\")"
   ]
  },
  {
   "cell_type": "code",
   "execution_count": 63,
   "id": "b8917346-661e-40b3-83f1-0ba3e5fd9581",
   "metadata": {},
   "outputs": [
    {
     "name": "stdout",
     "output_type": "stream",
     "text": [
      "['Instagram', 'SOCIAL', '4.5', '66577313', 'Varies with device', '1,000,000,000+', 'Free', '0', 'Teen', 'Social', 'July 31, 2018', 'Varies with device', 'Varies with device']\n",
      "['Instagram', 'SOCIAL', '4.5', '66577446', 'Varies with device', '1,000,000,000+', 'Free', '0', 'Teen', 'Social', 'July 31, 2018', 'Varies with device', 'Varies with device']\n",
      "['Instagram', 'SOCIAL', '4.5', '66577313', 'Varies with device', '1,000,000,000+', 'Free', '0', 'Teen', 'Social', 'July 31, 2018', 'Varies with device', 'Varies with device']\n",
      "['Instagram', 'SOCIAL', '4.5', '66509917', 'Varies with device', '1,000,000,000+', 'Free', '0', 'Teen', 'Social', 'July 31, 2018', 'Varies with device', 'Varies with device']\n"
     ]
    }
   ],
   "source": [
    "# printing the rows in which app name is \"Instagram\"\n",
    "from csv import reader\n",
    "file = open(\"googleplaystore.csv\", \"r\", encoding=\"utf-8\")\n",
    "android = list(reader(file))\n",
    "header = android[0]\n",
    "app_list = android[1:]\n",
    "\n",
    "def print_row_app(dataset, appname):\n",
    "    for app in dataset:\n",
    "        if appname == app[0]:\n",
    "            print(app)\n",
    "\n",
    "print_row_app(app_list, \"Instagram\")"
   ]
  },
  {
   "cell_type": "code",
   "execution_count": 48,
   "id": "4da3534a-0af4-45ac-932e-cf8eba8d2cac",
   "metadata": {},
   "outputs": [
    {
     "name": "stdout",
     "output_type": "stream",
     "text": [
      "[['b', 23, True], ['c', 13, False], ['d', 90, True]]\n"
     ]
    }
   ],
   "source": [
    "y =[\n",
    "    [\"a\", 67, True],\n",
    "    [\"b\", 23, True],\n",
    "    [\"c\", 13, False],\n",
    "    [\"d\", 90, True],\n",
    "    [\"e\", 71, False]\n",
    "]\n",
    "\n",
    "del(y[0])\n",
    "del(y[3])\n",
    "\n",
    "print(y)"
   ]
  },
  {
   "cell_type": "code",
   "execution_count": 66,
   "id": "0d4fd875-aceb-4663-828d-836620224199",
   "metadata": {},
   "outputs": [
    {
     "name": "stdout",
     "output_type": "stream",
     "text": [
      "Unique Values: ['black', 'red', 'green', 'blue', 'orange', 'white']\n",
      "Repeated Values: ['green', 'red', 'black']\n"
     ]
    }
   ],
   "source": [
    "color_list = ['black', 'red', 'green', 'green', 'red', 'blue', 'orange', 'red', 'black', 'white', 'black']\n",
    "unique_value = []\n",
    "repeated_value = []\n",
    "\n",
    "for color in color_list:\n",
    "    if color not in unique_value:\n",
    "        unique_value.append(color)\n",
    "    else:\n",
    "        if color not in repeated_value:\n",
    "            repeated_value.append(color)\n",
    "\n",
    "print(\"Unique Values:\", unique_value)\n",
    "print(\"Repeated Values:\", repeated_value)"
   ]
  },
  {
   "cell_type": "code",
   "execution_count": 67,
   "id": "2287ec0b-838e-407a-912a-ee1b667a1613",
   "metadata": {},
   "outputs": [
    {
     "name": "stdout",
     "output_type": "stream",
     "text": [
      "['Quick PDF Scanner + OCR FREE', 'Box', 'Google My Business', 'ZOOM Cloud Meetings', 'join.me - Simple Meetings', 'Zenefits', 'Google Ads', 'Slack', 'FreshBooks Classic', 'Insightly CRM', 'QuickBooks Accounting: Invoicing & Expenses', 'HipChat - Chat Built for Teams', 'Xero Accounting Software', 'MailChimp - Email, Marketing Automation', 'Crew - Free Messaging and Scheduling', 'Asana: organize team projects', 'Google Analytics', 'AdWords Express', 'Accounting App - Zoho Books', 'Invoice & Time Tracking - Zoho', 'Invoice 2go — Professional Invoices and Estimates', 'SignEasy | Sign and Fill PDF and other Documents', 'Genius Scan - PDF Scanner', 'Tiny Scanner - PDF Scanner App', 'Fast Scanner : Free PDF Scan', 'Mobile Doc Scanner (MDScan) Lite', 'TurboScan: scan documents and receipts in PDF', 'Tiny Scanner Pro: PDF Doc Scan', 'Docs To Go™ Free Office Suite', 'OfficeSuite : Free Office + PDF Editor', 'WhatsApp Messenger', 'Messenger – Text and Video Chat for Free', 'imo free video calls and chat', 'Viber Messenger', 'Hangouts', 'WeChat', 'Telegram', 'Who', 'Google Voice', 'Android Messages', 'Firefox Focus: The privacy browser', 'Google Allo', 'Google Chrome: Fast & Secure', 'Firefox Browser fast & private', 'Puffin Web Browser', 'Opera Browser: Fast and Secure', 'Opera Mini - fast web browser', 'UC Browser Mini -Tiny Fast Private & Secure', 'UC Browser - Fast Download Private & Secure', 'Calls & Text by Mo+', 'Call Blocker', 'Gmail', 'Yahoo Mail – Stay Organized', 'free video calls and chat', 'Skype - free IM & video calls', 'Glide - Video Chat Messenger', 'Talkray - Free Calls & Texts', 'LINE: Free Calls & Messages', 'KakaoTalk: Free Calls & Text', 'OkCupid Dating', 'CMB Free Dating App', 'Hily: Dating, Chat, Match, Meet & Hook up', 'Hinge: Dating & Relationships', 'BBW Dating & Plus Size Chat', 'Casual Dating & Adult Singles - Joyride', 'EliteSingles – Dating for Single Professionals', 'Clover Dating App', 'Moco - Chat, Meet People', 'Hot or Not - Find someone right now', 'Just She - Top Lesbian Dating', 'Once - Quality Matches Every day', 'Sudy – Meet Elite & Rich Single', 'muzmatch: Muslim & Arab Singles, Marriage & Dating', 'Chispa, the Dating App for Latino, Latina Singles', 'Blendr - Chat, Flirt & Meet', 'Find Real Love — YouLove Premium Dating', 'Cougar Dating Life : Date Older Women Sugar Mummy', 'stranger chat - anonymous chat', 'Millionaire Match: Rich Singles Dating App', 'Dating for 50 plus Mature Singles – FINALLY', 'Moco+ - Chat, Meet People', 'Chat Rooms, Avatars, Date - Galaxy', 'FastMeet: Chat, Dating, Love', 'Christian Dating For Free App', 'Meet24 - Love, Chat, Singles', 'Black White Interracial Dating - Interracial Match', 'Gay Sugar Daddy Dating & Hookup – Sudy Gay', 'Adult Dirty Emojis', 'Hide App, Private Dating, Safe Chat - PrivacyHider', 'Meet4U - Chat, Love, Singles!', '95Live -SG#1 Live Streaming App', 'O-Star', 'Random Video Chat', 'Black People Meet Singles Date', 'Howlr', 'Free Dating & Flirt Chat - Choice of Love', 'Cardi B Live Stream Video Chat - Prank', 'Chat Kids - Chat Room For Kids', 'Transenger – Ts Dating and Chat for Free', 'BBW Dating & Curvy Singles Chat- LargeFriends', 'MouseMingle', 'FlirtChat - ♥Free Dating/Flirting App♥', 'Live Talk - Free Text and Video Chat', 'Free Cam Girls - Live Webcam', 'Random Video Chat App With Strangers', 'Live Girls Talk - Free Video Chat', 'Girls Live Chat - Free Text & Video Chat', 'Free Dating App - Meet Local Singles - Flirt Chat', 'iPair-Meet, Chat, Dating', 'Free Dating Hook Up Messenger', 'Free Dating App - YoCutie - Flirt, Chat & Meet', 'Khan Academy', 'TED', 'Lumosity: #1 Brain Games & Cognitive Training App', 'Udemy - Online Courses', 'Duolingo: Learn Languages Free', 'Quizlet: Learn Languages & Vocab with Flashcards', 'Coursera: Online courses', 'Udacity - Lifelong Learning', 'edX - Online Courses by Harvard, MIT & more', 'Lynda - Online Training Videos', 'Learn languages, grammar & vocabulary with Memrise', 'Brilliant', 'Babbel – Learn Languages', 'Rosetta Stone: Learn to Speak & Read New Languages', 'Learn English with Wlingua', 'Google Classroom', 'Learn 50 languages', 'Mango Languages: Lovable Language Courses', 'busuu: Learn Languages - Spanish, English & More', 'My Class Schedule: Timetable', 'Socratic - Math Answers & Homework Help', 'ClassDojo', 'HelloTalk — Chat, Speak & Learn Foreign Languages', 'Movies by Flixster, with Rotten Tomatoes', 'IMDb Movies & TV', 'Netflix', 'Tubi TV - Free Movies & TV', 'Crunchyroll - Everything Anime', 'STARZ', 'Crackle - Free TV & Movies', 'CBS - Full Episodes & Live TV', 'Nick', 'Hulu: Stream TV, Movies & more', 'FOX NOW - On Demand & Live TV', 'The CW', 'HISTORY: Watch TV Show Full Episodes & Specials', 'HBO NOW: Stream TV & Movies', 'A&E - Watch Full Episodes of TV Shows', 'VH1', 'Lifetime - Watch Full Episodes & Original Movies', 'BET NOW - Watch Shows', 'Food Network', 'Viki: Asian TV Dramas & Movies', 'Univision NOW - Live TV and On Demand', 'SHOWTIME', 'MTV', 'Comedy Central', 'FOX', 'Telemundo Now', 'Fandango Movies - Times + Tickets', 'Google Pay', 'Wells Fargo Daily Change', 'Credit Karma', 'Robinhood - Investing, No Fees', 'Digit Save Money Automatically', 'Acorns - Invest Spare Change', 'Money Lover: Expense Tracker, Budget Planner', 'Mint: Budget, Bills, Finance', 'Simple - Better Banking', 'PayPal', 'Wells Fargo Mobile', 'Capital One® Mobile', 'Grubhub: Food Delivery', 'Postmates Food Delivery: Order Eats & Alcohol', \"Domino's Pizza USA\", 'Chick-fil-A', 'Zomato - Restaurant Finder and Food Delivery App', 'Run with Map My Run', 'Weight Loss Running by Verv', 'Nike+ Run Club', 'Runtastic Running App & Mile Tracker', '8fit Workouts & Meal Planner', 'Daily Yoga - Yoga Fitness Plans', 'Pocket Yoga', 'Calorie Counter - MyFitnessPal', 'Seven - 7 Minute Workout Training Challenge', 'Weight Watchers Mobile', 'Walk with Map My Walk', 'Workout Trainer: fitness coach', 'Nike Training Club - Workouts & Fitness Plans', 'Fitbit Coach', 'Endomondo - Running & Walking', 'Runkeeper - GPS Track Run Walk', 'Lose It! - Calorie Counter', 'Calorie Counter - MyNetDiary', '10 Best Foods for You', 'MyPlate Calorie Tracker', 'Weight Loss Tracker - RecStyle', 'Calorie Counter by FatSecret', 'Calorie Counter - Macros', 'My Diet Diary Calorie Counter', 'Lark - 24/7 Health Coach', 'Calorie Counter & Diet Tracker', 'MealLogger-Photo Food Journal', 'Health and Nutrition Guide', 'Food Calorie Calculator', 'Relax Meditation: Sleep with Sleep Sounds', 'Meditation Music - Relax, Yoga', '21-Day Meditation Experience', 'Fabulous: Motivate Me! Meditate, Relax, Sleep', 'Calm - Meditate, Sleep, Relax', 'Relax Melodies: Sleep Sounds', 'Simple Habit Meditation', 'Headspace: Meditation & Mindfulness', 'Houzz Interior Design Ideas', 'Mortgage by Zillow: Calculator & Rates', 'Redfin Real Estate', 'Apartment List: Housing, Apt, and Property Rentals', 'Realtor.com Real Estate: Homes for Sale and Rent', 'Trulia Real Estate & Rentals', 'Zillow: Find Houses for Sale & Apartments for Rent', 'Apartments & Rentals - Zillow', 'Trulia Rent Apartments & Homes', 'Apartments.com Rental Search', 'Vaniday - Beauty Booking App', 'StyleSeat', 'JOANN - Crafts & Coupons', 'Fashion in Vogue', 'Wheretoget: Shop in style', 'My Dressing - Fashion closet', 'Chictopia', 'Scarf Fashion Designer', 'Zara', 'Subway Surfers', 'ROBLOX', 'Pou', '8 Ball Pool', 'Clash of Clans', 'Candy Crush Saga', 'Plants vs. Zombies FREE', 'My Talking Angela', 'Bubble Shooter', 'Word Search', 'Candy Crush Soda Saga', 'Fishdom', 'Block Puzzle', 'Clash Royale', 'Sniper 3D Gun Shooter: Free Shooting Games - FPS', 'Granny', 'Galaxy Attack: Alien Shooter', 'Angry Birds Rio', 'Zombie Catchers', 'Zombie Hunter King', 'Temple Run 2', 'Zombie Tsunami', 'Farm Heroes Saga', 'Super Jim Jump - pixel 3d', 'slither.io', 'Angry Birds Classic', 'Flow Free', 'Helix Jump', 'Toon Blast', 'Kick the Buddy', 'Magic Tiles 3', 'Bowmasters', 'Wordscapes', 'Block Craft 3D: Building Simulator Games For Free', 'PUBG MOBILE', 'DRAGON BALL LEGENDS', 'Harry Potter: Hogwarts Mystery', 'MARVEL Strike Force', 'Merge Dragons!', 'Honkai Impact 3rd', 'Toy Blast', 'Homescapes', 'Cooking Fever', 'Gardenscapes', 'Score! Hero', 'Dream League Soccer 2018', 'Fruits Bomb', 'Talking Tom Gold Run', 'My Talking Tom', 'Hill Climb Racing', 'Pixel Art: Color by Number Game', 'Rider', 'Garena Free Fire', 'Miraculous Ladybug & Cat Noir - The Official Game', 'Solitaire', 'Traffic Racer', 'Earn to Die 2', 'Bubble Shooter 2', 'Candy Crush Jelly Saga', 'Cut the Rope FULL FREE', 'Jewels Star: OZ adventure', 'Hungry Shark Evolution', 'Best Fiends - Free Puzzle Game', 'Hill Climb Racing 2', 'Swamp Attack', 'Block Puzzle Classic Legend !', 'DEAD TARGET: FPS Zombie Apocalypse Survival Games', 'YouTube Kids', 'Candy Bomb', 'Princess Coloring Book', 'Hello Kitty Nail Salon', 'Dog Run - Pet Dog Simulator', 'Coloring book moana', 'Barbie™ Fashion Closet', 'Minion Rush: Despicable Me Official Game', 'No.Draw - Colors by Number 2018', 'Super ABC! Learning games for kids! Preschool apps', 'PJ Masks: Moonlight Heroes', 'Hot Wheels: Race Off', 'Farming Simulator 14', 'Mcqueen Coloring pages', 'Monster Truck Driver & Racing', 'Strawberry Shortcake BerryRush', 'DC Super Hero Girls™', 'Toca Kitchen 2', 'Disney Magic Kingdoms: Build Your Own Magical Park', 'Toca Life: City', 'Papumba Academy - Fun Learning For Kids', 'Kids Balloon Pop Game Free 🎈', 'Sounds for Toddlers FREE', 'Elmo Calls by Sesame Street', 'Sago Mini Friends', 'Tee and Mo Bath Time Free', 'Bita and the Animals - Pelos Ares', 'TO-FU Oh!SUSHI', 'DreamWorks Friends', 'Avokiddo Emotions', 'Nighty Night Circus', 'Sago Mini Babies', \"Dr. Panda & Toto's Treehouse\", 'PlayKids - Educational cartoons and games for kids', 'Baby Panda Care', 'Monster High™', 'Shopkins World!', 'DisneyNOW – TV Shows & Games', 'Equestria Girls', 'Frozen Free Fall', 'Thomas & Friends: Race On!', 'Inside Out Thought Bubbles', 'School of Dragons', 'Peak – Brain Games & Training', 'Period Tracker', 'Vargo Anesthesia Mega App', 'Monash Uni Low FODMAP Diet', 'mySugr: the blood sugar tracker made just for you', 'Human Anatomy Atlas 2018: Complete 3D Human Body', 'ASCCP Mobile', 'Paramedic Protocol Provider', '2017 EMRA Antibiotic Guide', 'Essential Anatomy 3', 'EMT PASS', 'Block Buddy', 'EMT Review Plus', 'Journal Club: Medicine', 'Pedi STAT', 'AnatomyMapp', 'Diabetes & Diet Tracker', 'A Manual of Acupuncture', 'PTA Content Master', 'Muscle Premium - Human Anatomy, Kinesiology, Bones', 'Cardiac diagnosis (heart rate, arrhythmia)', 'Medical ID - In Case of Emergency (ICE)', 'IBM Micromedex Drug Info', 'Advanced Comprehension Therapy', 'Hospitalist Handbook', 'Teladoc Member', 'Ada - Your Health Guide', 'Ovia Fertility Tracker & Ovulation Calculator', 'Youper - AI Therapy', 'MoodSpace', 'Super Hearing Super Ear Amplifier', 'Penn State Health OnDemand', 'ScriptSave WellRx Rx Discounts', 'Free Blood Pressure', 'All Mental disorders', 'Nurse Grid', 'JH Blood Pressure Monitor', 'Blood Pressure', 'RT 516 VET', 'Anthem Anywhere', 'Sway Medical', \"fred's Pharmacy\", 'Breastfeeding Tracker Baby Log', 'Banfield Pet Health Tracker', '1800 Contacts - Lens Store', 'TextNow - free text + calls', 'Tumblr', 'Snapchat', 'Instagram', 'Periscope - Live Video', 'Pinterest', 'MeetMe: Chat & Meet New People', 'ooVoo Video Calls, Messaging & Stories', 'LinkedIn', 'Tango - Live Video Broadcast', 'SayHi Chat, Meet New People', 'Tapatalk - 100,000+ Forums', 'Badoo - Free Chat & Dating App', 'Nextdoor - Local neighborhood news & classifieds', 'Meetup', 'Text Free: WiFi Calling App', 'textPlus: Free Text & Calls', 'POF Free Dating App', 'Tagged - Meet, Chat & Dating', 'LOVOO', 'SKOUT - Meet, Chat, Go Live', 'Jaumo Dating, Flirt & Live Video', 'Couple - Relationship App', 'Wish - Shopping Made Fun', 'SnipSnap Coupon App', 'Extreme Coupon Finder', 'Checkout 51: Grocery coupons', 'The Coupons App', 'RetailMeNot - Coupons, Deals & Discount Shopping', 'Groupon - Shop Deals, Discounts & Coupons', 'Stocard - Rewards Cards Wallet', 'eBay: Buy & Sell this Summer - Discover Deals Now!', 'Gyft - Mobile Gift Card Wallet', 'Shopkick: Free Gift Cards, Shop Rewards & Deals', 'Shopular: Coupons, Weekly Ads & Shopping Deals', 'Carousell: Snap-Sell, Chat-Buy', 'Walmart', 'Ibotta: Cash Back Savings, Rewards & Coupons App', 'AliExpress - Smarter Shopping, Better Living', 'LivingSocial - Local Deals', 'Amazon Shopping', 'Poshmark - Buy & Sell Fashion', 'Target - now with Cartwheel', 'ZALORA Fashion Shopping', 'Fancy', \"Modcloth – Unique Indie Women's Fashion & Style\", \"JackThreads: Men's Shopping\", 'Zappos – Shoe shopping made simple', 'Wanelo Shopping', 'Etsy: Handmade & Vintage Goods', 'Slickdeals: Coupons & Shopping', 'ASOS', 'Google Photos', 'Shutterfly: Free Prints, Photo Books, Cards, Gifts', 'InstaBeauty -Makeup Selfie Cam', 'B612 - Beauty & Filter Camera', 'BeautyPlus - Easy Photo Editor & Selfie Camera', 'YouCam Perfect - Selfie Photo Editor', 'Muzy - Share photos & collages', 'QuickPic - Photo Gallery with Google Drive Support', 'Flickr', 'Open Camera', 'Camera for Android', 'Cymera Camera- Photo Editor, Filter,Collage,Layout', 'Candy Camera - selfie, beauty camera, photo editor', 'Camera360: Selfie Photo Editor with Funny Sticker', 'Facetune - For Free', 'Photo Editor Selfie Camera Filter & Mirror Image', 'HD Camera for Android', 'Photo Editor Pro', 'YouCam Makeup - Magic Selfie Makeovers', 'Photo Editor-', 'Photo Editor', 'Adobe Photoshop Express:Photo Editor Collage Maker', 'InstaSize Photo Filters & Collage Editor', 'CBS Sports App - Scores, News, Stats & Watch Live', 'Yahoo Fantasy Sports - #1 Rated Fantasy App', 'ESPN', 'NFL', 'Bleacher Report: sports news, scores, & highlights', 'ESPN Fantasy Sports', 'theScore: Live Sports Scores, News, Stats & Videos', 'MLB At Bat', 'WatchESPN', 'Hole19: Golf GPS App, Rangefinder & Scorecard', 'CBS Sports Fantasy', 'Yahoo Sports - scores, stats, news, & highlights', 'FotMob - Live Soccer Scores', 'US Open Tennis Championships 2018', 'FIFA - Tournaments, Soccer News & Live Scores', 'Golfshot: Golf GPS + Tee Times', 'BBC Sport', 'MLB Ballpark', 'FOX Sports: Live Streaming, Scores & News', 'Fantasy Football', 'PGA TOUR', 'UFC', 'trivago: Hotels & Travel', 'Expedia Hotels, Flights & Car Rental Travel Deals', 'TripAdvisor Hotels Flights Restaurants Attractions', 'Skyscanner', 'Booking.com Travel Deals', 'Priceline Hotel Deals, Rental Cars & Flights', 'United Airlines', 'Southwest Airlines', 'Hopper - Watch & Book Flights', 'Fly Delta', 'KAYAK Flights, Hotels & Cars', 'American Airlines', 'Orbitz - Hotels, Flights & Package Deals', 'Hotels.com: Book Hotel Rooms & Find Vacation Deals', 'Hostelworld: Hostels & Cheap Hotels Travel App', 'Airbnb', 'HotelTonight: Book amazing deals at great hotels', 'Maps - Navigate & Explore', 'Google Street View', 'Calculator', 'Gboard - the Google Keyboard', 'ZEDGE™ Ringtones & Wallpapers', 'Nova Launcher', 'Apex Launcher', 'Smart Launcher 5', 'Google Keep', 'Evernote – Organizer, Planner for Notes & Memos', 'ES File Explorer File Manager', 'Microsoft Word', 'Google Drive', 'Adobe Acrobat Reader', 'Google PDF Viewer', 'Microsoft Excel', 'Google Docs', 'Microsoft PowerPoint', 'Microsoft OneNote', 'Google Calendar', 'Wunderlist: To-Do List & Tasks', 'Any.do: To-do list, Calendar, Reminders & Planner', 'Todoist: To-do lists for task management & errands', 'Planner Pro-Personal Organizer', 'Microsoft OneDrive', 'Dropbox', 'MX Player', 'Video Editor', 'Google News', 'Flipboard: News For Our Time', 'BBC News', 'Fox News – Breaking News, Live Video & News Alerts', 'USA TODAY', 'CNN Breaking US & World News', 'Twitter', 'NPR News', 'Haystack TV: Local & World News - Free', 'ABC News - US & World News', 'NBC News', 'The Wall Street Journal: Business & Market News', 'NYTimes - Latest News', 'Newsroom: News Worth Sharing', 'BuzzFeed: News, Tasty, Quizzes', 'Flashlight', 'Agar.io', 'LEGO® Juniors Create & Cruise', 'Google Translate', 'Pokémon GO', 'PAC-MAN', 'Colorfy: Coloring Book for Adults - Free', 'YouTube', \"Alto's Adventure\", 'Facebook', 'VPN Free - Betternet Hotspot VPN & Private Browser', 'EMT Tutor NREMT-B Study Guide', 'EMT-B Pocket Prep', 'Diary with lock', 'C Programming', 'CppDroid - C/C++ IDE', 'Learn C++', 'Google Duo - High Quality Video Calls', 'Crossy Road', 'E*TRADE Mobile', 'WWE', 'Amazon Kindle', 'Microsoft Edge', 'Microsoft Outlook', 'Ebook Reader', 'Flipkart Online Shopping App', 'Facebook Lite', 'Messenger Lite: Free Calls & Messages', 'imo beta free calls and text', 'Geometry Dash World', 'Google+', 'Google', 'G Cloud Backup', 'H&M', 'H TV', 'Talking Ben the Dog', 'Sonic Dash', 'Talkatone: Free Texts, Calls & Phone Number', 'Textgram - write on photos', 'Jetpack Joyride', 'Anger of stick 5 : zombie', 'Turbo FAST', 'K PLUS', 'PowerDirector Video Editor App: 4K, Slow Mo & More', 'Fuzzy Numbers: Pre-K Number Foundation', 'LiveMe - Video chat, new friends, and make money', 'letgo: Buy & Sell Used Stuff, Cars & Real Estate', 'Love Balls', 'Last Day on Earth: Survival', 'Minecraft', 'MEGA', 'I’m Expecting - Pregnancy App', 'Diabetes:M', 'PicsArt Photo Studio: Collage Maker & Pic Editor', 'Quora', 'SHAREit - Transfer & Share', 'Topbuzz: Breaking News, Videos & Funny GIFs', 'Twitch: Livestream Multiplayer Games & Esports', 'myAT&T', 'Truecaller: Caller ID, SMS spam blocking & Dialer', 'Showtime Anytime', 'Uber', 'VLC for Android', 'Vigo Video', 'Wattpad 📖 Free Books', 'Waze - GPS, Maps, Traffic Alerts & Live Navigation', 'Dating App, Flirt & Chat : W-Match', 'WPS Office - Word, Docs, PDF, Note, Slide & Sheet', 'LINE WEBTOON - Free Comics', 'WhatsApp Business', 'We Heart It', 'Telegram X', 'Share Music & Transfer Files - Xender', 'Yandex Browser with Protect', 'YouTube Studio', 'PBS KIDS Video', 'YouTube Gaming', 'GO Keyboard - Emoticon keyboard, Free Theme, GIF', 'Zello PTT Walkie Talkie', 'Z Camera - Photo Editor, Beauty Selfie, Collage', 'Six Pack in 30 Days - Abs Workout', 'Angry Birds 2', 'AC - Tips & News for Android™', 'CM Browser - Ad Blocker , Fast Download , Privacy', 'Mobi Calculator free & AD free!', 'Flipp - Weekly Shopping', 'Camera FV-5 Lite', 'All Football - Latest News & Videos', 'Maricopa AH', 'Animal Jam - Play Wild!', 'RULES OF SURVIVAL', 'Amazon for Tablets', 'Final Fantasy XV: A New Empire', 'The Sims™ FreePlay', 'Text free - Free Text + Call', '365Scores - Live Scores', 'DINO HUNTER: DEADLY SHORES', 'AP Mobile - Breaking News', 'Reuters News', 'AccuWeather: Daily Forecast & Live Weather Reports', 'Moovit: Bus Time & Train Time Live Info', 'Jurassic World™ Alive', 'Overstock – Home Decor, Furniture Shopping', 'Choices: Stories You Play', 'Runtastic Sleep Better: Sleep Cycle & Smart Alarm', 'Ringtone Maker', 'Plants vs. Zombies™ Heroes', 'CM FILE MANAGER HD', 'realestate.com.au - Buy, Rent & Sell Property', 'Video Player All Format', 'DEER HUNTER 2018', 'Google Play Games', 'ai.type Free Emoji Keyboard', 'Manga AZ - Manga Comic Reader', 'British Airways', 'Anthem BC Anywhere', 'Transit: Real-Time Transit App', 'PMHNP-BC Pocket Prep', 'Backgrounds HD (Wallpapers)', 'Blur Image Background', 'Newegg Mobile', 'English Dictionary - Offline', 'English Grammar Test', 'Daily Manga - Comic & Webtoon', 'BBM - Free Calls & Messages', 'BeyondMenu Food Delivery', 'NOOK: Read eBooks & Magazines', 'NOOK App for NOOK Devices', 'HBO GO: Stream with TV Package', 'No Crop & Square for Instagram', 'Hungry Shark World', 'iBP Blood Pressure', 'Blood Pressure Log - MyDiary', 'Blood Pressure(BP) Diary', 'BP Journal - Blood Pressure Diary', 'Blood Pressure Monitor', 'Blood Pressure Companion', 'High Blood Pressure Symptoms', 'QR Scanner & Barcode Scanner 2018', 'Camera FV-5', 'Camera MX - Free Photo & Video Camera', 'Cardboard', 'Maps & GPS Navigation — OsmAnd', 'Beautiful Widgets Pro', 'Beautiful Widgets Free', 'HD Widgets', 'Color by Number – New Coloring Book', 'Photo Editor by Aviary', 'UNICORN - Color By Number & Pixel Art Coloring', '420 BZ Budeze Delivery', 'BZWBK24 mobile', 'Zoosk Dating App: Meet Singles', 'Cricbuzz - Live Cricket Scores & News', 'Cheapflights – Flight Search', 'Chrome Beta', 'Chrome Dev', 'CJmall', 'Castle Clash: Heroes of the Empire US', 'CM Launcher 3D - Theme, Wallpapers, Efficient', 'CM Locker - Security Lockscreen', 'CM Flashlight (Compass, SOS)', 'Ruler', 'Cartoon Network App', 'LEGO® TV', 'Brit + Co', 'CT Scan Cross Sectional Anatomy', 'Shadow Fight 2', 'Curriculum vitae App CV Builder Free Resume Maker', 'CW Seed', 'Camera360 Lite - Selfie Camera', 'Mapy.cz - Cycling & Hiking offline maps', 'Face Filter, Selfie Editor - Sweet Camera', 'Metal Soldiers 2', \"COOKING MAMA Let's Cook!\", 'Run Sausage Run!', 'Knife Hit', 'DC Comics', 'MARVEL Contest of Champions', 'wetter.com - Weather and Radar', 'CallApp: Caller ID, Blocker & Phone Call Recorder', 'LINE Camera - Photo editor', 'Racing in Car 2', 'Dungeon Hunter Champions: Epic Online Action RPG', 'Red Bull TV: Live Sports, Music & Entertainment', 'Idle Heroes', 'Free phone calls, free texting SMS on free number', 'Phone Tracker : Family Locator', 'My Photo Keyboard', 'Whoscall - Caller ID & Block', 'Google Sheets', 'Video Downloader', 'Notepad & To do list', 'Polaris Office - Word, Docs, Sheets, Slide, PDF', 'Do It Later: Tasks & To-Dos', 'To-Do Calendar Planner', 'TickTick: To Do List with Reminder, Day Planner', 'ColorNote Notepad Notes', 'Dude Perfect 2', 'Dairy Queen', 'SONIC Drive-In', \"McDonald's\", 'Wendy’s – Food and Offers', \"Dunkin' Donuts\", 'SUBWAY®', 'Panera Bread', 'Starbucks', 'Cache Cleaner-DU Speed Booster (booster & cleaner)', 'DU Browser—Browse fast & fun', 'Real Racing 3', 'My Little Pony Celebration', 'My Little Pony: Harmony Quest', 'The Emirates App', 'Phogy, 3D Camera', 'Weather by eltiempo.es', 'The Game of Life', 'Spanish English Translator', \"Game for KIDS: KIDS match'em\", 'Dictionary - Merriam-Webster', 'Edmodo', 'Chess Free', 'Oxford Dictionary of English : Free', 'Masha and the Bear Child Games', 'Episode - Choose Your Story', 'The NBC App - Watch Live TV and Full Episodes', 'Moto File Manager', 'Moneycontrol – Stocks, Sensex, Mutual Funds, IPO', 'CNBC: Breaking Business News & Live Market Data', 'Google Earth', 'Amino: Communities and Chats', 'Hangouts Dialer - Call Phones', 'Offline Maps & Navigation', 'Strawberry Shortcake Ice Cream Island', 'Home Workout - No Equipment', 'Home Security Camera WardenCam - reuse old phones', 'Web Browser for Android', 'Airway Ex - Intubate. Anesthetize. Train.', 'FilterGrid - Cam&Photo Editor', 'Messages, Text and Video Chat for Messenger', 'All Social Networks', 'Premier League - Official App', 'Fallout Shelter', 'Facebook Pages Manager', 'Facebook Ads Manager', 'Who Viewed My Facebook Profile - Stalkers Visitors', 'The 5th Stand', 'osmino Wi-Fi: free WiFi', 'Fun Kid Racing - Motocross', 'Podcast App: Free & Offline Podcasts by Player FM', 'Motorola FM Radio', 'FarmersOnly Dating', 'FP Notebook', 'AAFP']\n"
     ]
    }
   ],
   "source": [
    "# print the list of apps name which are being repeated in the app_list\n",
    "from csv import reader\n",
    "file = open(\"googleplaystore.csv\", \"r\", encoding=\"utf-8\")\n",
    "android = list(reader(file))\n",
    "app_list = android[1:]\n",
    "\n",
    "unique_app_list = []\n",
    "repeated_app_list = []\n",
    "\n",
    "for row in app_list:\n",
    "    app = row[0]\n",
    "    if app not in unique_app_list:\n",
    "        unique_app_list.append(app)\n",
    "    elif app not in repeated_app_list:\n",
    "        repeated_app_list.append(app)\n",
    "\n",
    "print(repeated_app_list)"
   ]
  }
 ],
 "metadata": {
  "kernelspec": {
   "display_name": "Python 3 (ipykernel)",
   "language": "python",
   "name": "python3"
  },
  "language_info": {
   "codemirror_mode": {
    "name": "ipython",
    "version": 3
   },
   "file_extension": ".py",
   "mimetype": "text/x-python",
   "name": "python",
   "nbconvert_exporter": "python",
   "pygments_lexer": "ipython3",
   "version": "3.12.4"
  }
 },
 "nbformat": 4,
 "nbformat_minor": 5
}

{
 "cells": [
  {
   "cell_type": "code",
   "execution_count": 13,
   "id": "2d67607b-0ee2-4258-8710-8fd57fefeb6e",
   "metadata": {},
   "outputs": [
    {
     "name": "stdout",
     "output_type": "stream",
     "text": [
      "True\n",
      "False\n",
      "True\n",
      "True\n",
      "True\n",
      "True\n",
      "True\n",
      "True\n",
      "False\n",
      "False\n",
      "dict_values(['Hitesh', 'Mehta', 21])\n",
      "True\n",
      "False\n",
      "False\n"
     ]
    }
   ],
   "source": [
    "# membership operator - used to test whether a specific value or item is present within a sequence, such as string, list, tuple or set\n",
    "# always returns \"True or False\" as a output\n",
    "\n",
    "# Strings\n",
    "text = \"Hello, World!\"\n",
    "print('Hello' in text)  # True\n",
    "print('hello' in text)  # False (case-sensitive)\n",
    "print('Goodbye' not in text)  # True\n",
    "\n",
    "# Lists\n",
    "fruits = ['apple', 'banana', 'cherry']\n",
    "print('banana' in fruits)  # True\n",
    "print('grape' not in fruits)  # True\n",
    "\n",
    "# Tuple\n",
    "numbers = (1, 2, 3, 4, 5)\n",
    "print(3 in numbers)  # True\n",
    "print(6 not in numbers)  # True\n",
    "\n",
    "# Dictionaries\n",
    "me = {\n",
    "    'firstName': 'Hitesh',\n",
    "    'lastName': 'Mehta',\n",
    "    'age': 21\n",
    "}\n",
    "print('firstName' in me)  # True\n",
    "print('Hitesh' in me)  # False (checking for keys, not values)\n",
    "print('age' not in me)  # False\n",
    "\n",
    "print(me.values())\n",
    "# To check for values, you need to use the values() method:\n",
    "print('Hitesh' in me.values())  # True\n",
    "\n",
    "# Ranges\n",
    "numbers_range = range(1, 10)\n",
    "print(10 in numbers_range)  # False\n",
    "print(5 not in numbers_range)  # False"
   ]
  },
  {
   "cell_type": "code",
   "execution_count": null,
   "id": "0533963d-8f0e-48fb-b452-0eb158d20610",
   "metadata": {},
   "outputs": [],
   "source": [
    "# Identity Operator:\n",
    "\n"
   ]
  }
 ],
 "metadata": {
  "kernelspec": {
   "display_name": "Python 3 (ipykernel)",
   "language": "python",
   "name": "python3"
  },
  "language_info": {
   "codemirror_mode": {
    "name": "ipython",
    "version": 3
   },
   "file_extension": ".py",
   "mimetype": "text/x-python",
   "name": "python",
   "nbconvert_exporter": "python",
   "pygments_lexer": "ipython3",
   "version": "3.12.4"
  }
 },
 "nbformat": 4,
 "nbformat_minor": 5
}

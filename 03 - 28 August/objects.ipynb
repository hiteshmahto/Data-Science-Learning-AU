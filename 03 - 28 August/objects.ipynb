{
 "cells": [
  {
   "cell_type": "code",
   "execution_count": 13,
   "id": "4ab50288-60db-44d0-bdd7-c49d63056ed3",
   "metadata": {},
   "outputs": [
    {
     "name": "stdout",
     "output_type": "stream",
     "text": [
      "<class 'dict'>\n",
      "dict_keys(['name', 'age', 'marks', 'friend', 'address'])\n",
      "dict_values(['Hitesh', 21, 99.99, ['shyam', 'dhruv'], {'city': 'Jaipur', 'country': 'India', 'pin-code': 215456}])\n",
      "dict_items([('name', 'Hitesh'), ('age', 21), ('marks', 99.99), ('friend', ['shyam', 'dhruv']), ('address', {'city': 'Jaipur', 'country': 'India', 'pin-code': 215456})])\n",
      "{'city': 'Jaipur', 'country': 'India', 'pin-code': 215456}\n",
      "dict_keys(['city', 'country', 'pin-code'])\n",
      "dict_values(['Jaipur', 'India', 215456])\n",
      "dict_items([('city', 'Jaipur'), ('country', 'India'), ('pin-code', 215456)])\n"
     ]
    }
   ],
   "source": [
    "me = {\n",
    "    \"name\": \"Hitesh\",\n",
    "    \"age\": 21,\n",
    "    \"marks\": 99.99,\n",
    "    \"friend\": [\"shyam\", \"dhruv\"],\n",
    "    \"address\": {\n",
    "        \"city\": \"Jaipur\",\n",
    "        \"country\": \"India\",\n",
    "        \"pin-code\": 215456\n",
    "    }\n",
    "}\n",
    "print(type(me)) # dict\n",
    "# print(me)\n",
    "print(me.keys())\n",
    "print(me.values())\n",
    "print(me.items())\n",
    "\n",
    "print(me[\"address\"])\n",
    "print(me[\"address\"].keys())\n",
    "print(me[\"address\"].values())\n",
    "print(me[\"address\"].items())"
   ]
  },
  {
   "cell_type": "code",
   "execution_count": 18,
   "id": "303ff9b6-da57-4ff4-9631-28f37ad8f986",
   "metadata": {},
   "outputs": [
    {
     "name": "stdout",
     "output_type": "stream",
     "text": [
      "name: Hitesh\n",
      "age: 21\n",
      "marks: 99.99\n",
      "friend: ['shyam', 'dhruv']\n",
      "address: {'city': 'Jaipur', 'country': 'India', 'pin-code': 215456}\n"
     ]
    }
   ],
   "source": [
    "# printing keys using loops\n",
    "# for keys in me:\n",
    "#     print(keys)\n",
    "\n",
    "# printing key: value pair using loop\n",
    "for keys in me:\n",
    "    print(f\"{keys}: {me[keys]}\")"
   ]
  },
  {
   "cell_type": "code",
   "execution_count": 21,
   "id": "01c894ef-a449-4eaf-93e1-fb337a52509c",
   "metadata": {},
   "outputs": [
    {
     "name": "stdout",
     "output_type": "stream",
     "text": [
      "banana\n",
      "chiku\n"
     ]
    }
   ],
   "source": [
    "product_price = {\n",
    "    \"apple\": 45,\n",
    "    \"orange\": 100,\n",
    "    \"banana\": 40,\n",
    "    \"chiku\": 40\n",
    "}\n",
    "\n",
    "# 40 Rs ke product print kroo\n",
    "# value de rakhi hai 40 uusse key print krni hai\n",
    "for keys in product_price:\n",
    "    if product_price[keys] == 40:\n",
    "        print(keys)"
   ]
  },
  {
   "cell_type": "code",
   "execution_count": 26,
   "id": "c5aad7ab-d7d5-4506-b5d4-50e008f12df6",
   "metadata": {},
   "outputs": [
    {
     "name": "stdout",
     "output_type": "stream",
     "text": [
      "{'i': 5, ' ': 7, 'a': 3, 'm': 1, 'b': 1, 'e': 2, 's': 4, 't': 11, 'd': 7, 'c': 1, 'n': 2, 'h': 1, 'w': 1, 'o': 1, 'r': 1, 'l': 1, '!': 7}\n"
     ]
    }
   ],
   "source": [
    "statement = \"i am besttttttt data scientist in this worldddddd!!!!!!!\"\n",
    "# make an object in which key should be the character and the value should be the count of that character\n",
    "\n",
    "char_count = {}\n",
    "for char in statement:\n",
    "    # print(char) # this will print the characters\n",
    "    if char in char_count:\n",
    "        char_count[char] += 1\n",
    "    else:\n",
    "        char_count[char] = 1\n",
    "\n",
    "print(char_count)"
   ]
  },
  {
   "cell_type": "code",
   "execution_count": 31,
   "id": "50fc357a-e257-4512-88ee-16eb332369d8",
   "metadata": {},
   "outputs": [
    {
     "name": "stdout",
     "output_type": "stream",
     "text": [
      "{'hitesh': 2, 'is': 1, 'studying': 1, 'python': 1, 'oh': 6, 'wow': 2}\n"
     ]
    }
   ],
   "source": [
    "statement2 = \"hitesh is studying python oh oh oh oh oh oh hitesh wow wow\"\n",
    "# make an object in which key should be the word and the value should be it's count\n",
    "\n",
    "words_list = statement2.split()\n",
    "# print(words_list) # array of words\n",
    "\n",
    "word_count = {}\n",
    "for word in words_list:\n",
    "    if word in word_count:\n",
    "        word_count[word] += 1\n",
    "    else:\n",
    "        word_count[word] = 1\n",
    "\n",
    "print(word_count)"
   ]
  }
 ],
 "metadata": {
  "kernelspec": {
   "display_name": "Python 3 (ipykernel)",
   "language": "python",
   "name": "python3"
  },
  "language_info": {
   "codemirror_mode": {
    "name": "ipython",
    "version": 3
   },
   "file_extension": ".py",
   "mimetype": "text/x-python",
   "name": "python",
   "nbconvert_exporter": "python",
   "pygments_lexer": "ipython3",
   "version": "3.12.4"
  }
 },
 "nbformat": 4,
 "nbformat_minor": 5
}

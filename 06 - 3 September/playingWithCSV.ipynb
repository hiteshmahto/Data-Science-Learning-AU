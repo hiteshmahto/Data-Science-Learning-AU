{
 "cells": [
  {
   "cell_type": "code",
   "execution_count": 16,
   "id": "1c451b5e-e039-4339-a58c-6aceb70cd0b2",
   "metadata": {},
   "outputs": [
    {
     "name": "stdout",
     "output_type": "stream",
     "text": [
      "<_io.TextIOWrapper name='googleplaystore.csv' mode='r' encoding='utf-8'>\n",
      "<class '_io.TextIOWrapper'>\n"
     ]
    }
   ],
   "source": [
    "from csv import reader # reader is function and csv is a module\n",
    "file = open(\"googleplaystore.csv\", \"r\", encoding=\"utf-8\")\n",
    "print(file)\n",
    "print(type(file))\n",
    "# <class '_io.TextIOWrapper'>, indicates that file is an instance of the _io.TextIOWrapper class, a type of file object in Python used for text file operations"
   ]
  },
  {
   "cell_type": "code",
   "execution_count": 17,
   "id": "c739871f-d832-4198-9c92-0d6231a4e892",
   "metadata": {},
   "outputs": [
    {
     "name": "stdout",
     "output_type": "stream",
     "text": [
      "App,Category,Rating,Reviews,Size,Installs,Type,Price,Content Rating,Genres,Last Updated,Current Ver,Android Ver\n",
      "\n",
      "Photo Editor & Candy Camera & Grid & ScrapBook,ART_AND_DESIGN,4.1,159,19M,\"10,000+\",Free,0,Everyone,Art & Design,\"January 7, 2018\",1.0.0,4.0.3 and up\n",
      "\n",
      "Coloring book moana,ART_AND_DESIGN,3.9,967,14M,\"500,000+\",Free,0,Everyone,Art & Design;Pretend Play,\"January 15, 2018\",2.0.0,4.0.3 and up\n",
      "\n",
      "\"U Launcher Lite â€“ FREE Live Cool Themes, Hide Apps\",ART_AND_DESIGN,4.7,87510,8.7M,\"5,000,000+\",Free,0,Everyone,Art & Design,\"August 1, 2018\",1.2.4,4.0.3 and up\n",
      "\n",
      "Sketch - Draw & Paint,ART_AND_DESIGN,4.5,215644,25M,\"50,000,000+\",Free,0,Teen,Art & Design,\"June 8, 2018\",Varies with device,4.2 and up\n",
      "\n"
     ]
    }
   ],
   "source": [
    "from csv import reader\n",
    "file = open(\"googleplaystore.csv\", \"r\")\n",
    "counter = 0\n",
    "# printing 5 rows of the googleplaystore.csv file\n",
    "for rows in file:\n",
    "    if counter == 5:\n",
    "        break\n",
    "    print(rows)\n",
    "    counter += 1"
   ]
  },
  {
   "cell_type": "code",
   "execution_count": 18,
   "id": "92d47b6a-c18b-466e-a819-58c35feea359",
   "metadata": {},
   "outputs": [
    {
     "name": "stdout",
     "output_type": "stream",
     "text": [
      "<_csv.reader object at 0x000001DAED21FC40>\n"
     ]
    }
   ],
   "source": [
    "from csv import reader\n",
    "file = open(\"googleplaystore.csv\", \"r\", encoding=\"utf-8\")\n",
    "android = reader(file) # This reads the CSV file and parses it into rows, where each row is represented as a list of strings, corresponding to the values in that row\n",
    "# android variable is an object created by the reader() from the csv module. Specifically, android is a reader object that allows you to iterate over the lines in the googleplaystore.csv file. Each iteration returns a list representing a row in the CSV file, where each element of the list corresponds to a field in that row.\n",
    "print(android)\n",
    "# for rows in android:\n",
    "#     print(rows)"
   ]
  },
  {
   "cell_type": "code",
   "execution_count": 19,
   "id": "06357706-ea4d-4142-a5c9-0c76ec1486a6",
   "metadata": {},
   "outputs": [
    {
     "name": "stdout",
     "output_type": "stream",
     "text": [
      "['App', 'Category', 'Rating', 'Reviews', 'Size', 'Installs', 'Type', 'Price', 'Content Rating', 'Genres', 'Last Updated', 'Current Ver', 'Android Ver']\n",
      "['App', 'Category', 'Rating', 'Reviews', 'Size', 'Installs', 'Type', 'Price', 'Content Rating', 'Genres', 'Last Updated', 'Current Ver', 'Android Ver']\n"
     ]
    }
   ],
   "source": [
    "from csv import reader\n",
    "file = open(\"googleplaystore.csv\", \"r\", encoding=\"utf-8\")\n",
    "android_list = list(reader(file))\n",
    "print(android_list[0])\n",
    "\n",
    "header = android_list[0]\n",
    "app_list = android_list[1:]\n",
    "print(header)"
   ]
  },
  {
   "cell_type": "code",
   "execution_count": 20,
   "id": "c160c031-276a-4294-a61a-7e91fbdc1aad",
   "metadata": {},
   "outputs": [
    {
     "name": "stdout",
     "output_type": "stream",
     "text": [
      "[['Coloring book moana', 'ART_AND_DESIGN', '3.9', '967', '14M', '500,000+', 'Free', '0', 'Everyone', 'Art & Design;Pretend Play', 'January 15, 2018', '2.0.0', '4.0.3 and up'], ['U Launcher Lite – FREE Live Cool Themes, Hide Apps', 'ART_AND_DESIGN', '4.7', '87510', '8.7M', '5,000,000+', 'Free', '0', 'Everyone', 'Art & Design', 'August 1, 2018', '1.2.4', '4.0.3 and up'], ['Sketch - Draw & Paint', 'ART_AND_DESIGN', '4.5', '215644', '25M', '50,000,000+', 'Free', '0', 'Teen', 'Art & Design', 'June 8, 2018', 'Varies with device', '4.2 and up'], ['Pixel Draw - Number Art Coloring Book', 'ART_AND_DESIGN', '4.3', '967', '2.8M', '100,000+', 'Free', '0', 'Everyone', 'Art & Design;Creativity', 'June 20, 2018', '1.1', '4.4 and up'], ['Paper flowers instructions', 'ART_AND_DESIGN', '4.4', '167', '5.6M', '50,000+', 'Free', '0', 'Everyone', 'Art & Design', 'March 26, 2017', '1.0', '2.3 and up']]\n",
      "\n",
      "{'rows': 4, 'columns': 13}\n"
     ]
    }
   ],
   "source": [
    "def explore_data(dataset, start, end, row_col = False):\n",
    "    if row_col:\n",
    "        return {\"rows\": end - start + 1, \"columns\": len(dataset[end])}\n",
    "    return dataset[start:end + 1]\n",
    "\n",
    "\n",
    "from csv import reader\n",
    "file = open(\"googleplaystore.csv\", \"r\", encoding=\"utf-8\")\n",
    "android = list(reader(file))\n",
    "header = android[0]\n",
    "app_list = android[1:]\n",
    "\n",
    "print(explore_data(app_list, 1, 5))\n",
    "print()\n",
    "print(explore_data(app_list, 6, 9, True))"
   ]
  },
  {
   "cell_type": "code",
   "execution_count": 21,
   "id": "e39f545d-ae84-44e1-b27f-f5d1a7d577b5",
   "metadata": {},
   "outputs": [
    {
     "name": "stdout",
     "output_type": "stream",
     "text": [
      "['Smoke Effect Photo Maker - Smoke Editor', 'ART_AND_DESIGN', '3.8', '178', '19M', '50,000+', 'Free', '0', 'Everyone', 'Art & Design', 'April 26, 2018', '1.1', '4.0.3 and up']\n",
      "\n",
      "['Infinite Painter', 'ART_AND_DESIGN', '4.1', '36815', '29M', '1,000,000+', 'Free', '0', 'Everyone', 'Art & Design', 'June 14, 2018', '6.1.61.1', '4.2 and up']\n",
      "\n",
      "['Garden Coloring Book', 'ART_AND_DESIGN', '4.4', '13791', '33M', '1,000,000+', 'Free', '0', 'Everyone', 'Art & Design', 'September 20, 2017', '2.9.2', '3.0 and up']\n",
      "\n",
      "Length of rows: 9\n",
      "Length of columns: 13\n"
     ]
    }
   ],
   "source": [
    "from csv import reader\n",
    "file = open(\"googleplaystore.csv\", \"r\", encoding=\"utf-8\")\n",
    "android = list(reader(file))\n",
    "header = android[0]\n",
    "app_list = android[1:]\n",
    "\n",
    "def explore_data(dataset, start, end, row_columns = False):\n",
    "    dataslice = dataset[start:end + 1]\n",
    "    if row_columns:\n",
    "        print(\"Length of rows:\", len(dataslice))\n",
    "        print(\"Length of columns:\", len(dataset[0]))\n",
    "        return\n",
    "    for row in dataslice:\n",
    "        print(row, end=\"\\n\\n\")\n",
    "\n",
    "explore_data(app_list, 6, 8)\n",
    "explore_data(app_list, 0, 8, True)"
   ]
  },
  {
   "cell_type": "code",
   "execution_count": 22,
   "id": "2244eda1-09ce-406b-931c-5260229fba0a",
   "metadata": {},
   "outputs": [
    {
     "name": "stdout",
     "output_type": "stream",
     "text": [
      "['Facebook Pages Manager', 'BUSINESS', '4.0', '1279184', 'Varies with device', '50,000,000+', 'Free', '0', 'Everyone', 'Business', 'August 2, 2018', 'Varies with device', 'Varies with device']\n",
      "['Facebook Ads Manager', 'BUSINESS', '4.1', '19023', 'Varies with device', '1,000,000+', 'Free', '0', 'Everyone', 'Business', 'August 1, 2018', '99.0.0.35.75', '4.1 and up']\n",
      "['Facebook', 'SOCIAL', '4.1', '78158306', 'Varies with device', '1,000,000,000+', 'Free', '0', 'Teen', 'Social', 'August 3, 2018', 'Varies with device', 'Varies with device']\n",
      "['Facebook Lite', 'SOCIAL', '4.3', '8606259', 'Varies with device', '500,000,000+', 'Free', '0', 'Teen', 'Social', 'August 1, 2018', 'Varies with device', 'Varies with device']\n",
      "['Who Viewed My Facebook Profile - Stalkers Visitors', 'SOCIAL', '4.6', '271445', '9.9M', '5,000,000+', 'Free', '0', 'Everyone', 'Social', 'June 24, 2018', '4.1.1', '4.0.3 and up']\n",
      "['Facebook Local', 'SOCIAL', '4.2', '4751', 'Varies with device', '1,000,000+', 'Free', '0', 'Teen', 'Social', 'June 30, 2018', '13.0', '4.1 and up']\n",
      "['HTC Social Plugin - Facebook', 'SOCIAL', '3.6', '13223', '2.8M', '10,000,000+', 'Free', '0', 'Mature 17+', 'Social', 'June 8, 2016', '8.00.752746', '4.4 and up']\n",
      "['Facebook', 'SOCIAL', '4.1', '78128208', 'Varies with device', '1,000,000,000+', 'Free', '0', 'Teen', 'Social', 'August 3, 2018', 'Varies with device', 'Varies with device']\n",
      "['Facebook Lite', 'SOCIAL', '4.3', '8595964', 'Varies with device', '500,000,000+', 'Free', '0', 'Teen', 'Social', 'August 1, 2018', 'Varies with device', 'Varies with device']\n",
      "['Video Downloader for Facebook', 'TOOLS', '4.6', '894435', '3.1M', '50,000,000+', 'Free', '0', 'Teen', 'Tools', 'July 1, 2018', '2.2.8', '4.0 and up']\n",
      "['Dp for Facebook', 'SOCIAL', '4.1', '56', '10M', '5,000+', 'Free', '0', 'Everyone', 'Social', 'May 16, 2017', '1.0', '4.0.3 and up']\n",
      "['EZ Video Download for Facebook', 'SOCIAL', '4.1', '34079', '1.3M', '1,000,000+', 'Free', '0', 'Teen', 'Social', 'March 14, 2017', '2.001', '4.0.3 and up']\n",
      "['Facebook Face to Face Events', 'BUSINESS', '4.4', '4518', '26M', '1,000,000+', 'Free', '0', 'Everyone', 'Business', 'March 1, 2018', '1.5', '4.1 and up']\n",
      "['Facebook Creator', 'SOCIAL', '4.2', '3895', 'Varies with device', '1,000,000+', 'Free', '0', 'Teen', 'Social', 'June 27, 2018', '176.0.0.29.0', '4.4 and up']\n",
      "['Swift for Facebook Lite', 'SOCIAL', '4.3', '9562', '5.8M', '500,000+', 'Free', '0', 'Teen', 'Social', 'May 31, 2018', '4.1.0', 'Varies with device']\n",
      "['Friendly for Facebook', 'SOCIAL', '4.5', '42621', '23M', '1,000,000+', 'Free', '0', 'Teen', 'Social', 'August 7, 2018', '2.1.05', '4.4 and up']\n",
      "['Facebook Pages Manager', 'BUSINESS', '4.0', '1279800', 'Varies with device', '50,000,000+', 'Free', '0', 'Everyone', 'Business', 'August 6, 2018', 'Varies with device', 'Varies with device']\n",
      "['Faster for Facebook Lite', 'SOCIAL', '4.3', '24456', '4.6M', '1,000,000+', 'Free', '0', 'Teen', 'Social', 'May 29, 2018', '4.7', '4.1 and up']\n",
      "['Facebook Ads Manager', 'BUSINESS', '4.1', '19051', 'Varies with device', '1,000,000+', 'Free', '0', 'Everyone', 'Business', 'August 1, 2018', '99.0.0.35.75', '4.1 and up']\n",
      "['Puffin for Facebook', 'SOCIAL', '4.0', '10743', 'Varies with device', '500,000+', 'Free', '0', 'Teen', 'Social', 'December 28, 2017', '7.0.4.17908', '4.1 and up']\n",
      "['Lite for Facebook Messenger', 'COMMUNICATION', '4.3', '76498', '4.3M', '1,000,000+', 'Free', '0', 'Teen', 'Communication', 'June 20, 2018', '6.3.2', 'Varies with device']\n",
      "['Profile Tracker - Who Viewed My Facebook Profile', 'SOCIAL', '4.7', '37090', '4.8M', '500,000+', 'Free', '0', 'Teen', 'Social', 'August 1, 2018', '5.4', '4.1 and up']\n",
      "['Pink Color for Facebook', 'SOCIAL', '4.1', '5285', '4.0M', '500,000+', 'Free', '0', 'Everyone', 'Social', 'July 1, 2018', '2.0.5', '4.1 and up']\n",
      "['Who Viewed My Facebook Profile - Stalkers Visitors', 'SOCIAL', '4.6', '273244', '9.9M', '5,000,000+', 'Free', '0', 'Everyone', 'Social', 'June 24, 2018', '4.1.1', '4.0.3 and up']\n",
      "['Phoenix - Facebook & Messenger', 'SOCIAL', '4.3', '9606', '3.4M', '100,000+', 'Free', '0', 'Teen', 'Social', 'July 18, 2018', '2.2.0717', '5.0 and up']\n",
      "['Faster Social for Facebook', 'SOCIAL', '4.2', '1236', '3.3M', '100,000+', 'Free', '0', 'Teen', 'Social', 'August 2, 2018', '1.8', '4.3 and up']\n",
      "['Videos downloader for Facebook:fast fb video saver', 'VIDEO_PLAYERS', '4.3', '20', '5.1M', '5,000+', 'Free', '0', 'Everyone', 'Video Players & Editors', 'April 27, 2018', '1.0.0', '4.0.3 and up']\n",
      "['Stickers for Facebook', 'SOCIAL', '4.3', '11066', '10M', '1,000,000+', 'Free', '0', 'Everyone', 'Social', 'March 13, 2018', '1.4', '4.4 and up']\n",
      "['Lite Messenger for Facebook Lite', 'SOCIAL', '3.8', '108', '2.8M', '10,000+', 'Free', '0', 'Teen', 'Social', 'May 28, 2018', '3.1', '4.2 and up']\n",
      "['Download Facebook Photo Albums', 'TOOLS', '4.0', '3840', '2.5M', '100,000+', 'Free', '0', 'Everyone', 'Tools', 'June 2, 2017', '2.4', '4.4 and up']\n",
      "['Mini for Facebook lite', 'SOCIAL', '4.1', '260', '1.3M', '10,000+', 'Free', '0', 'Teen', 'Social', 'June 21, 2018', '1.2', '3.0 and up']\n",
      "['IDM for Facebook ★ Downloader', 'PRODUCTIVITY', '4.3', '1905', '3.1M', '100,000+', 'Free', '0', 'Everyone', 'Productivity', 'October 17, 2015', '7.95', '2.3 and up']\n",
      "['HD Video Download for Facebook', 'VIDEO_PLAYERS', '4.4', '20755', '17M', '1,000,000+', 'Free', '0', 'Everyone', 'Video Players & Editors', 'March 16, 2018', '4.0.3', '4.1 and up']\n"
     ]
    }
   ],
   "source": [
    "# printing the rows in which app name is \"Instagram\" or app name includes \"Instagram\"\n",
    "from csv import reader\n",
    "file = open(\"googleplaystore.csv\", \"r\", encoding=\"utf-8\")\n",
    "android = list(reader(file))\n",
    "header = android[0]\n",
    "app_list = android[1:]\n",
    "\n",
    "def print_row_app(dataset, appname):\n",
    "    for app in dataset:\n",
    "        if appname in app[0]:\n",
    "            print(app)\n",
    "\n",
    "# print_row_app(app_list, \"Instagram\")\n",
    "print_row_app(app_list, \"Facebook\")"
   ]
  },
  {
   "cell_type": "code",
   "execution_count": 23,
   "id": "b8917346-661e-40b3-83f1-0ba3e5fd9581",
   "metadata": {},
   "outputs": [
    {
     "name": "stdout",
     "output_type": "stream",
     "text": [
      "['Instagram', 'SOCIAL', '4.5', '66577313', 'Varies with device', '1,000,000,000+', 'Free', '0', 'Teen', 'Social', 'July 31, 2018', 'Varies with device', 'Varies with device']\n",
      "['Instagram', 'SOCIAL', '4.5', '66577446', 'Varies with device', '1,000,000,000+', 'Free', '0', 'Teen', 'Social', 'July 31, 2018', 'Varies with device', 'Varies with device']\n",
      "['Instagram', 'SOCIAL', '4.5', '66577313', 'Varies with device', '1,000,000,000+', 'Free', '0', 'Teen', 'Social', 'July 31, 2018', 'Varies with device', 'Varies with device']\n",
      "['Instagram', 'SOCIAL', '4.5', '66509917', 'Varies with device', '1,000,000,000+', 'Free', '0', 'Teen', 'Social', 'July 31, 2018', 'Varies with device', 'Varies with device']\n"
     ]
    }
   ],
   "source": [
    "# printing the rows in which app name is \"Instagram\"\n",
    "from csv import reader\n",
    "file = open(\"googleplaystore.csv\", \"r\", encoding=\"utf-8\")\n",
    "android = list(reader(file))\n",
    "header = android[0]\n",
    "app_list = android[1:]\n",
    "\n",
    "def print_row_app(dataset, appname):\n",
    "    for app in dataset:\n",
    "        if appname == app[0]:\n",
    "            print(app)\n",
    "\n",
    "print_row_app(app_list, \"Instagram\")"
   ]
  },
  {
   "cell_type": "code",
   "execution_count": 24,
   "id": "4da3534a-0af4-45ac-932e-cf8eba8d2cac",
   "metadata": {},
   "outputs": [
    {
     "name": "stdout",
     "output_type": "stream",
     "text": [
      "[['b', 23, True], ['c', 13, False], ['d', 90, True]]\n"
     ]
    }
   ],
   "source": [
    "y = [\n",
    "    [\"a\", 67, True],\n",
    "    [\"b\", 23, True],\n",
    "    [\"c\", 13, False],\n",
    "    [\"d\", 90, True],\n",
    "    [\"e\", 71, False]\n",
    "]\n",
    "\n",
    "del(y[0])\n",
    "del(y[3])\n",
    "\n",
    "print(y)"
   ]
  },
  {
   "cell_type": "code",
   "execution_count": 25,
   "id": "0d4fd875-aceb-4663-828d-836620224199",
   "metadata": {},
   "outputs": [
    {
     "name": "stdout",
     "output_type": "stream",
     "text": [
      "Unique Values: ['black', 'red', 'green', 'blue', 'orange', 'white']\n",
      "Repeated Values: ['green', 'red', 'black']\n"
     ]
    }
   ],
   "source": [
    "color_list = ['black', 'red', 'green', 'green', 'red', 'blue', 'orange', 'red', 'black', 'white', 'black']\n",
    "unique_value = []\n",
    "repeated_value = []\n",
    "\n",
    "for color in color_list:\n",
    "    if color not in unique_value:\n",
    "        unique_value.append(color)\n",
    "    else:\n",
    "        if color not in repeated_value:\n",
    "            repeated_value.append(color)\n",
    "\n",
    "print(\"Unique Values:\", unique_value)\n",
    "print(\"Repeated Values:\", repeated_value)"
   ]
  },
  {
   "cell_type": "code",
   "execution_count": 26,
   "id": "2287ec0b-838e-407a-912a-ee1b667a1613",
   "metadata": {},
   "outputs": [
    {
     "name": "stdout",
     "output_type": "stream",
     "text": [
      "798\n",
      "9660\n"
     ]
    }
   ],
   "source": [
    "# print the list of apps name which are being repeated in the app_list\n",
    "from csv import reader\n",
    "file = open(\"googleplaystore.csv\", \"r\", encoding=\"utf-8\")\n",
    "android = list(reader(file))\n",
    "app_list = android[1:]\n",
    "\n",
    "unique_app_list = []\n",
    "repeated_app_list = []\n",
    "\n",
    "for row in app_list:\n",
    "    app = row[0]\n",
    "    if app not in unique_app_list:\n",
    "        unique_app_list.append(app)\n",
    "    elif app not in repeated_app_list:\n",
    "        repeated_app_list.append(app)\n",
    "\n",
    "print(len(repeated_app_list))\n",
    "print(len(unique_app_list))"
   ]
  }
 ],
 "metadata": {
  "kernelspec": {
   "display_name": "Python 3 (ipykernel)",
   "language": "python",
   "name": "python3"
  },
  "language_info": {
   "codemirror_mode": {
    "name": "ipython",
    "version": 3
   },
   "file_extension": ".py",
   "mimetype": "text/x-python",
   "name": "python",
   "nbconvert_exporter": "python",
   "pygments_lexer": "ipython3",
   "version": "3.12.4"
  }
 },
 "nbformat": 4,
 "nbformat_minor": 5
}

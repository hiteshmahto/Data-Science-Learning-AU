{
 "cells": [
  {
   "cell_type": "code",
   "execution_count": 2,
   "id": "fc401128-2575-4f53-afd0-5fc9a8c3860b",
   "metadata": {},
   "outputs": [
    {
     "name": "stdout",
     "output_type": "stream",
     "text": [
      "(0,0)\n",
      "(0,1)\n",
      "(0,2)\n",
      "(1,0)\n",
      "(1,1)\n",
      "(1,2)\n",
      "(2,0)\n",
      "(2,1)\n",
      "(2,2)\n",
      "(3,0)\n",
      "(3,1)\n",
      "(3,2)\n",
      "(4,0)\n",
      "(4,1)\n",
      "(4,2)\n"
     ]
    }
   ],
   "source": [
    "for i in range(0, 5):\n",
    "    for j in range(0, 3):\n",
    "        print(f\"({i},{j})\")"
   ]
  },
  {
   "cell_type": "code",
   "execution_count": 16,
   "id": "db6185ff-c727-449a-a9c7-28ab04bef1a8",
   "metadata": {},
   "outputs": [
    {
     "name": "stdout",
     "output_type": "stream",
     "text": [
      "[0, 1, 2, 3, 4, 5, 6, 7, 8, 9]\n",
      "[0, 1, 2, 3, 4, 5, 6, 7, 8, 9, 10, 11, 12, 13, 14]\n",
      "[5, 6, 7, 8, 9]\n",
      "[]\n",
      "[10, 9, 8, 7, 6, 5, 4, 3, 2, 1]\n",
      "[20, 19, 18, 17, 16, 15, 14, 13, 12, 11]\n",
      "[-10, -9, -8, -7, -6]\n",
      "[-1, -2, -3, -4, -5, -6, -7, -8, -9]\n"
     ]
    }
   ],
   "source": [
    "print(list(range(0, 10)))\n",
    "print(list(range(15)))\n",
    "print(list(range(5, 10)))\n",
    "\n",
    "print(list(range(10, 0)))\n",
    "print(list(range(10, 0, -1)))\n",
    "print(list(range(20, 10, -1)))\n",
    "\n",
    "print(list(range(-10, -5)))\n",
    "print(list(range(-1, -10, -1)))"
   ]
  },
  {
   "cell_type": "code",
   "execution_count": 20,
   "id": "866069f3-be3e-42b1-9ab2-82c962ffe32f",
   "metadata": {},
   "outputs": [
    {
     "name": "stdin",
     "output_type": "stream",
     "text": [
      "Enter number of rows:  5\n"
     ]
    },
    {
     "name": "stdout",
     "output_type": "stream",
     "text": [
      "5 4 3 2 1 \n",
      "4 3 2 1 \n",
      "3 2 1 \n",
      "2 1 \n",
      "1 \n"
     ]
    }
   ],
   "source": [
    "# reverse triangle number printing\n",
    "# rows = 5\n",
    "# 5 4 3 2 1\n",
    "# 4 3 2 1\n",
    "# 3 2 1\n",
    "# 2 1\n",
    "# 1\n",
    "\n",
    "rows = int(input(\"Enter number of rows: \"))\n",
    "for i in range(rows, 0, -1):\n",
    "    for j in range(i, 0, -1):\n",
    "        print(j, end = \" \")\n",
    "    print()"
   ]
  },
  {
   "cell_type": "code",
   "execution_count": 22,
   "id": "acefe08f-6937-4952-ab98-61dda545ebd4",
   "metadata": {},
   "outputs": [
    {
     "name": "stdin",
     "output_type": "stream",
     "text": [
      "Enter a number:  17\n"
     ]
    },
    {
     "name": "stdout",
     "output_type": "stream",
     "text": [
      "Prime\n"
     ]
    }
   ],
   "source": [
    "# number is prime or not\n",
    "\n",
    "number = int(input(\"Enter a number: \"))\n",
    "flag = True\n",
    "for i in range(2, number):\n",
    "    if(number % i == 0):\n",
    "        flag = False\n",
    "        break\n",
    "\n",
    "if flag:\n",
    "    print(\"Prime\")\n",
    "else:\n",
    "    print(\"Not Prime\")"
   ]
  },
  {
   "cell_type": "code",
   "execution_count": 23,
   "id": "b4e6e469-de35-436d-8de8-313890bebab6",
   "metadata": {},
   "outputs": [
    {
     "name": "stdout",
     "output_type": "stream",
     "text": [
      "2 is prime number!\n",
      "3 is prime number!\n",
      "4 is NOT a prime number!\n",
      "5 is prime number!\n",
      "6 is NOT a prime number!\n",
      "7 is prime number!\n",
      "8 is NOT a prime number!\n",
      "9 is NOT a prime number!\n",
      "10 is NOT a prime number!\n",
      "11 is prime number!\n",
      "12 is NOT a prime number!\n",
      "13 is prime number!\n",
      "14 is NOT a prime number!\n",
      "15 is NOT a prime number!\n",
      "16 is NOT a prime number!\n",
      "17 is prime number!\n",
      "18 is NOT a prime number!\n",
      "19 is prime number!\n",
      "20 is NOT a prime number!\n",
      "21 is NOT a prime number!\n",
      "22 is NOT a prime number!\n",
      "23 is prime number!\n",
      "24 is NOT a prime number!\n",
      "25 is NOT a prime number!\n",
      "26 is NOT a prime number!\n",
      "27 is NOT a prime number!\n",
      "28 is NOT a prime number!\n",
      "29 is prime number!\n",
      "30 is NOT a prime number!\n",
      "31 is prime number!\n",
      "32 is NOT a prime number!\n",
      "33 is NOT a prime number!\n",
      "34 is NOT a prime number!\n",
      "35 is NOT a prime number!\n",
      "36 is NOT a prime number!\n",
      "37 is prime number!\n",
      "38 is NOT a prime number!\n",
      "39 is NOT a prime number!\n",
      "40 is NOT a prime number!\n",
      "41 is prime number!\n",
      "42 is NOT a prime number!\n",
      "43 is prime number!\n",
      "44 is NOT a prime number!\n",
      "45 is NOT a prime number!\n",
      "46 is NOT a prime number!\n",
      "47 is prime number!\n",
      "48 is NOT a prime number!\n",
      "49 is NOT a prime number!\n",
      "50 is NOT a prime number!\n"
     ]
    }
   ],
   "source": [
    "# print all the prime and not prime numbers between 2 to 50\n",
    "\n",
    "for i in range(2, 51):\n",
    "    flag = True\n",
    "    for j in range(2, i):\n",
    "        if(i % j == 0):\n",
    "            flag = False\n",
    "            break\n",
    "    if flag:\n",
    "        print(f\"{i} is prime number!\")\n",
    "    else:\n",
    "        print(f\"{i} is NOT a prime number!\")"
   ]
  },
  {
   "cell_type": "code",
   "execution_count": 27,
   "id": "9c238051-0394-45bf-907c-e2aff5864492",
   "metadata": {},
   "outputs": [
    {
     "name": "stdin",
     "output_type": "stream",
     "text": [
      "Enter starting number:  25\n",
      "Enter ending number:  35\n"
     ]
    },
    {
     "name": "stdout",
     "output_type": "stream",
     "text": [
      "25 is NOT a prime number!\n",
      "26 is NOT a prime number!\n",
      "27 is NOT a prime number!\n",
      "28 is NOT a prime number!\n",
      "29 is prime number!\n",
      "30 is NOT a prime number!\n",
      "31 is prime number!\n",
      "32 is NOT a prime number!\n",
      "33 is NOT a prime number!\n",
      "34 is NOT a prime number!\n",
      "35 is NOT a prime number!\n"
     ]
    }
   ],
   "source": [
    "# print all the prime's and not prime numbers between the giving integers by user\n",
    "\n",
    "starting = int(input(\"Enter starting number: \"))\n",
    "ending = int(input(\"Enter ending number: \"))\n",
    "\n",
    "for i in range(starting, ending + 1):\n",
    "    flag = True\n",
    "    for j in range(2, i):\n",
    "        if(i % j == 0):\n",
    "            flag = False\n",
    "            break\n",
    "    if flag:\n",
    "        print(f\"{i} is prime number!\")\n",
    "    else:\n",
    "        print(f\"{i} is NOT a prime number!\")"
   ]
  }
 ],
 "metadata": {
  "kernelspec": {
   "display_name": "Python 3 (ipykernel)",
   "language": "python",
   "name": "python3"
  },
  "language_info": {
   "codemirror_mode": {
    "name": "ipython",
    "version": 3
   },
   "file_extension": ".py",
   "mimetype": "text/x-python",
   "name": "python",
   "nbconvert_exporter": "python",
   "pygments_lexer": "ipython3",
   "version": "3.12.4"
  }
 },
 "nbformat": 4,
 "nbformat_minor": 5
}

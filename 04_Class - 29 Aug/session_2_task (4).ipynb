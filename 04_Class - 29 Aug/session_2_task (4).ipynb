{
 "cells": [
  {
   "cell_type": "markdown",
   "metadata": {
    "id": "w6RlOAXV2PWh"
   },
   "source": [
    "### `Problem 1`: Write a program that will give you in hand monthly salary after deduction on CTC - HRA(10%), DA(5%), PF(3%) and taxes deduction as below:\n",
    "\n",
    "> Salary(Lakhs) : Tax(%)\n",
    "\n",
    "*   Below 5 : 0%\n",
    "*   5-10 : 10%\n",
    "*   10-20 : 20%\n",
    "*   above 20 : 30%"
   ]
  },
  {
   "cell_type": "code",
   "execution_count": 1,
   "metadata": {
    "id": "7tMHvKYO2etI"
   },
   "outputs": [
    {
     "name": "stdin",
     "output_type": "stream",
     "text": [
      "Enter the annual salary (in lakhs):  7\n"
     ]
    },
    {
     "name": "stdout",
     "output_type": "stream",
     "text": [
      "In-hand annual salary: 5.04 lakhs\n",
      "In-hand monthly salary: Rs 42000.00\n"
     ]
    }
   ],
   "source": [
    "salary = float(input(\"Enter the annual salary (in lakhs): \"))\n",
    "if salary < 5:\n",
    "    in_hand_salary = salary * 0.82\n",
    "elif salary < 10:\n",
    "    in_hand_salary = salary * 0.72\n",
    "elif salary < 20:\n",
    "    in_hand_salary = salary * 0.62\n",
    "else:\n",
    "    in_hand_salary = salary * 0.52\n",
    "\n",
    "print(f\"In-hand annual salary: {in_hand_salary:.2f} lakhs\")\n",
    "print(f\"In-hand monthly salary: Rs {(in_hand_salary*100000)/12:.2f}\")"
   ]
  },
  {
   "cell_type": "markdown",
   "metadata": {
    "id": "tYzCGqwl2hfN"
   },
   "source": [
    "### `Problem 2`: Write a program that take a user input of three angles and will find out whether it can form a triangle or not."
   ]
  },
  {
   "cell_type": "code",
   "execution_count": 12,
   "metadata": {
    "id": "FYEqln-I2kxV"
   },
   "outputs": [
    {
     "name": "stdin",
     "output_type": "stream",
     "text": [
      "Enter angle 1:  179\n",
      "Enter angle 2:  0.45\n",
      "Enter angle 3:  0.55\n"
     ]
    },
    {
     "name": "stdout",
     "output_type": "stream",
     "text": [
      "The angles can form a triangle\n"
     ]
    }
   ],
   "source": [
    "angle1 = float(input(\"Enter angle 1: \"))\n",
    "angle2 = float(input(\"Enter angle 2: \"))\n",
    "angle3 = float(input(\"Enter angle 3: \"))\n",
    "\n",
    "if angle1 + angle2 + angle3 == 180.0:\n",
    "    print(\"The angles can form a triangle\")\n",
    "else:\n",
    "    print(\"The angles can not form a triangle\")\n"
   ]
  },
  {
   "cell_type": "markdown",
   "metadata": {
    "id": "5vEpPh8C2pE4"
   },
   "source": [
    "### `Problem 3`: Write a program that will take user input of cost price and selling price and determines whether its a loss or a profit."
   ]
  },
  {
   "cell_type": "code",
   "execution_count": 4,
   "metadata": {
    "id": "jDwBXlkO2sfl"
   },
   "outputs": [
    {
     "name": "stdin",
     "output_type": "stream",
     "text": [
      "Enter Cost Price:  54\n",
      "Enter Selling Price:  78\n"
     ]
    },
    {
     "name": "stdout",
     "output_type": "stream",
     "text": [
      "Profit of 24.0\n"
     ]
    }
   ],
   "source": [
    "cost_price = float(input(\"Enter Cost Price: \"))\n",
    "selling_price = float(input(\"Enter Selling Price: \"))\n",
    "\n",
    "if cost_price > selling_price:\n",
    "    print(f\"Loss of {cost_price - selling_price}\")\n",
    "elif cost_price < selling_price:\n",
    "    print(f\"Profit of {selling_price - cost_price}\")\n",
    "else:\n",
    "    print(\"No Profit No Loss!\")"
   ]
  },
  {
   "cell_type": "markdown",
   "metadata": {
    "id": "J_FG_cJW2ugT"
   },
   "source": [
    "### `Problem 4`: Write a menu-driven program -\n",
    "1. cm to ft\n",
    "2. km to miles\n",
    "3. USD to INR\n",
    "4. exit"
   ]
  },
  {
   "cell_type": "code",
   "execution_count": 1,
   "metadata": {
    "id": "yBHhaCGQ2zpD"
   },
   "outputs": [
    {
     "name": "stdout",
     "output_type": "stream",
     "text": [
      "1. cm to ft\n",
      "2. km to miles\n",
      "3. USD to INR\n",
      "4. exit\n",
      "\n"
     ]
    },
    {
     "name": "stdin",
     "output_type": "stream",
     "text": [
      "Enter your choice:  1\n",
      "Enter centimeter:  34\n"
     ]
    },
    {
     "name": "stdout",
     "output_type": "stream",
     "text": [
      "ft: 1.12\n",
      "\n",
      "1. cm to ft\n",
      "2. km to miles\n",
      "3. USD to INR\n",
      "4. exit\n",
      "\n"
     ]
    },
    {
     "name": "stdin",
     "output_type": "stream",
     "text": [
      "Enter your choice:  skdfj\n"
     ]
    },
    {
     "name": "stdout",
     "output_type": "stream",
     "text": [
      "Please Enter valid choices!!!\n",
      "\n",
      "1. cm to ft\n",
      "2. km to miles\n",
      "3. USD to INR\n",
      "4. exit\n",
      "\n"
     ]
    },
    {
     "name": "stdin",
     "output_type": "stream",
     "text": [
      "Enter your choice:  4\n"
     ]
    },
    {
     "name": "stdout",
     "output_type": "stream",
     "text": [
      "Exiting...\n"
     ]
    }
   ],
   "source": [
    "while True:\n",
    "    print(\"1. cm to ft\\n2. km to miles\\n3. USD to INR\\n4. exit\\n\")\n",
    "    choice = input(\"Enter your choice: \")\n",
    "    if choice == '1':\n",
    "        cm = float(input(\"Enter centimeter: \"))\n",
    "        ft = 0.0328084 * cm\n",
    "        print(f\"ft: {ft:.2f}\\n\")\n",
    "    elif choice == \"2\":\n",
    "        km = float(input(\"Enter kilometer: \"))\n",
    "        miles = 0.6213712 * km\n",
    "        print(f\"miles: {miles:.2f}\\n\")\n",
    "    elif choice == \"3\":\n",
    "        USD = float(input(\"Enter USD: \"))\n",
    "        INR = 83.89 * USD\n",
    "        print(f\"INR: {INR:.2f}\\n\") \n",
    "    elif choice == \"4\":\n",
    "        print(\"Exiting...\")\n",
    "        break\n",
    "    else:\n",
    "        print(\"Please Enter valid choices!!!\\n\")"
   ]
  },
  {
   "cell_type": "markdown",
   "metadata": {
    "id": "LJJ30_Yw27ZU"
   },
   "source": [
    "### `Problem 5` - Exercise 12: Display Fibonacci series up to 10 terms.\n",
    "\n",
    "*Note: The Fibonacci Sequence is a series of numbers. The next number is found by adding up the two numbers before it. The first two numbers are 0 and 1. For example, 0, 1, 1, 2, 3, 5, 8, 13, 21. The next number in this series above is 13+21 = 34*"
   ]
  },
  {
   "cell_type": "code",
   "execution_count": 18,
   "metadata": {
    "id": "ae_1rpe52-5R"
   },
   "outputs": [
    {
     "name": "stdin",
     "output_type": "stream",
     "text": [
      "Enter the number of terms:  10\n"
     ]
    },
    {
     "name": "stdout",
     "output_type": "stream",
     "text": [
      "0  1  1  2  3  5  8  13  21  34  "
     ]
    }
   ],
   "source": [
    "n = int(input(\"Enter the number of terms: \"))\n",
    "\n",
    "a = 0\n",
    "b = 1\n",
    "for i in range(n):\n",
    "    print(a, end=\"  \")\n",
    "    newTerm = a + b\n",
    "    a = b\n",
    "    b = newTerm"
   ]
  },
  {
   "cell_type": "markdown",
   "metadata": {
    "id": "pk_I_S4m3PT5"
   },
   "source": [
    "### `Problem 6` - Find the factorial of a given number.\n",
    "\n",
    "Write a program to use the loop to find the factorial of a given number.\n",
    "\n",
    "The factorial (symbol: `!`) means to multiply all whole numbers from the chosen number down to 1.\n",
    "\n",
    "For example: calculate the factorial of 5\n",
    "\n",
    "```bash\n",
    "5! = 5 × 4 × 3 × 2 × 1 = 120\n",
    "```\n",
    "\n",
    "Output:\n",
    "\n",
    "```bash\n",
    "120\n",
    "```"
   ]
  },
  {
   "cell_type": "code",
   "execution_count": 21,
   "metadata": {
    "id": "lzXxHegx3Rkc"
   },
   "outputs": [
    {
     "name": "stdin",
     "output_type": "stream",
     "text": [
      "Enter the number:  5\n"
     ]
    },
    {
     "name": "stdout",
     "output_type": "stream",
     "text": [
      "5! = 120\n"
     ]
    }
   ],
   "source": [
    "number = int(input(\"Enter the number: \"))\n",
    "factorial = 1\n",
    "\n",
    "for i in range(number, 0, -1):\n",
    "    factorial *= i\n",
    "\n",
    "print(f\"{number}! = {factorial}\")"
   ]
  },
  {
   "cell_type": "markdown",
   "metadata": {
    "id": "-17IOi-g3UpU"
   },
   "source": [
    "### `Problem 7` - Reverse a given integer number.\n",
    "\n",
    "Example:\n",
    "\n",
    "`Input:`\n",
    "\n",
    "```bash\n",
    "76542\n",
    "```\n",
    "\n",
    "`Output:`\n",
    "\n",
    "```bash\n",
    "24567\n",
    "```"
   ]
  },
  {
   "cell_type": "code",
   "execution_count": 29,
   "metadata": {
    "id": "wJwLpKCr3aVA"
   },
   "outputs": [
    {
     "name": "stdin",
     "output_type": "stream",
     "text": [
      "Enter number:  76542\n"
     ]
    },
    {
     "name": "stdout",
     "output_type": "stream",
     "text": [
      "Reverse Integer is: 24567\n"
     ]
    }
   ],
   "source": [
    "number = int(input(\"Enter number: \"))\n",
    "reverse_integer = 0\n",
    "\n",
    "while number > 0:\n",
    "    remainder = int(number % 10)\n",
    "    reverse_integer = (reverse_integer * 10) + remainder\n",
    "    number = int(number / 10)\n",
    "\n",
    "print(f\"Reverse Integer is: {reverse_integer}\")"
   ]
  },
  {
   "cell_type": "markdown",
   "metadata": {
    "id": "-t8PJQaY3sHf"
   },
   "source": [
    "### `Problem 8`: Take a user input as integer N. Find out the sum from 1 to N. If any number if divisible by 5, then skip that number. And if the sum is greater than 300, don't need to calculate the sum further more. Print the final result. And don't use for loop to solve this problem.\n",
    "\n",
    "**Example 1:**\n",
    "\n",
    "`Input:`\n",
    "\n",
    "```bash\n",
    "30\n",
    "```\n",
    "\n",
    "`Output:`\n",
    "\n",
    "```bash\n",
    "276\n",
    "```"
   ]
  },
  {
   "cell_type": "code",
   "execution_count": 5,
   "metadata": {
    "id": "GZB6mGMP3ujT"
   },
   "outputs": [
    {
     "name": "stdin",
     "output_type": "stream",
     "text": [
      "Enter integer 'n':  30\n"
     ]
    },
    {
     "name": "stdout",
     "output_type": "stream",
     "text": [
      "The final sum is: 276\n"
     ]
    }
   ],
   "source": [
    "n = int(input(\"Enter integer 'n': \"))\n",
    "current_number = 1\n",
    "sum = 0\n",
    "\n",
    "while current_number <= n:\n",
    "    if current_number % 5 == 0:\n",
    "        current_number += 1\n",
    "        continue        \n",
    "    else:\n",
    "        if sum + current_number > 300:\n",
    "            break\n",
    "        sum += current_number\n",
    "        current_number += 1\n",
    "\n",
    "print(f\"The final sum is: {sum}\")"
   ]
  },
  {
   "cell_type": "markdown",
   "metadata": {
    "id": "Q7ggImeA3xm4"
   },
   "source": [
    "### `Problem 9`: Write a program that keeps on accepting a number from the user until the user enters Zero. Display the sum and average of all the numbers."
   ]
  },
  {
   "cell_type": "code",
   "execution_count": 9,
   "metadata": {
    "id": "t_YDSZDe4Kdo"
   },
   "outputs": [
    {
     "name": "stdin",
     "output_type": "stream",
     "text": [
      "Enter a number (0 to stop):  54\n",
      "Enter a number (0 to stop):  12\n",
      "Enter a number (0 to stop):  45\n",
      "Enter a number (0 to stop):  98\n",
      "Enter a number (0 to stop):  74\n",
      "Enter a number (0 to stop):  0\n"
     ]
    },
    {
     "name": "stdout",
     "output_type": "stream",
     "text": [
      "The sum of the numbers is: 283.0\n",
      "The average of the numbers is: 56.6\n"
     ]
    }
   ],
   "source": [
    "total_sum = 0\n",
    "count = 0\n",
    "\n",
    "while True:\n",
    "    num = float(input(\"Enter a number (0 to stop): \"))\n",
    "    if num == 0:\n",
    "        break\n",
    "    total_sum += num\n",
    "    count += 1\n",
    "\n",
    "if count > 0:\n",
    "    average = total_sum / count\n",
    "else:\n",
    "    average = 0\n",
    "\n",
    "print(f\"The sum of the numbers is: {total_sum}\")\n",
    "print(f\"The average of the numbers is: {average}\")"
   ]
  },
  {
   "cell_type": "markdown",
   "metadata": {
    "id": "6EhvEMvm4R7s"
   },
   "source": [
    "### `Problem 9`: Write a program which will find all such numbers which are divisible by 7 but are not a multiple of 5, between 2000 and 3200 (both included). The numbers obtained should be printed in a comma-separated sequence on a single line."
   ]
  },
  {
   "cell_type": "code",
   "execution_count": 11,
   "metadata": {
    "id": "d6RgP1B34T6c"
   },
   "outputs": [
    {
     "name": "stdout",
     "output_type": "stream",
     "text": [
      "2002, 2009, 2016, 2023, 2037, 2044, 2051, 2058, 2072, 2079, 2086, 2093, 2107, 2114, 2121, 2128, 2142, 2149, 2156, 2163, 2177, 2184, 2191, 2198, 2212, 2219, 2226, 2233, 2247, 2254, 2261, 2268, 2282, 2289, 2296, 2303, 2317, 2324, 2331, 2338, 2352, 2359, 2366, 2373, 2387, 2394, 2401, 2408, 2422, 2429, 2436, 2443, 2457, 2464, 2471, 2478, 2492, 2499, 2506, 2513, 2527, 2534, 2541, 2548, 2562, 2569, 2576, 2583, 2597, 2604, 2611, 2618, 2632, 2639, 2646, 2653, 2667, 2674, 2681, 2688, 2702, 2709, 2716, 2723, 2737, 2744, 2751, 2758, 2772, 2779, 2786, 2793, 2807, 2814, 2821, 2828, 2842, 2849, 2856, 2863, 2877, 2884, 2891, 2898, 2912, 2919, 2926, 2933, 2947, 2954, 2961, 2968, 2982, 2989, 2996, 3003, 3017, 3024, 3031, 3038, 3052, 3059, 3066, 3073, 3087, 3094, 3101, 3108, 3122, 3129, 3136, 3143, 3157, 3164, 3171, 3178, 3192, 3199, "
     ]
    }
   ],
   "source": [
    "for num in range(2000, 3201):\n",
    "    if num % 7 == 0 and num % 5 != 0:\n",
    "        print(num, end=\", \")"
   ]
  },
  {
   "cell_type": "markdown",
   "metadata": {
    "id": "tYvmRR-G4Vp4"
   },
   "source": [
    "### `Problem 10`: Write a program, which will find all such numbers between 1000 and 3000 (both included) such that each digit of the number is an even number. The numbers obtained should be printed in a space-separated sequence on a single line.\n",
    "\n"
   ]
  },
  {
   "cell_type": "code",
   "execution_count": 13,
   "metadata": {
    "id": "k6Gs1kIf4k19"
   },
   "outputs": [
    {
     "name": "stdout",
     "output_type": "stream",
     "text": [
      "2000 2002 2004 2006 2008 2020 2022 2024 2026 2028 2040 2042 2044 2046 2048 2060 2062 2064 2066 2068 2080 2082 2084 2086 2088 2200 2202 2204 2206 2208 2220 2222 2224 2226 2228 2240 2242 2244 2246 2248 2260 2262 2264 2266 2268 2280 2282 2284 2286 2288 2400 2402 2404 2406 2408 2420 2422 2424 2426 2428 2440 2442 2444 2446 2448 2460 2462 2464 2466 2468 2480 2482 2484 2486 2488 2600 2602 2604 2606 2608 2620 2622 2624 2626 2628 2640 2642 2644 2646 2648 2660 2662 2664 2666 2668 2680 2682 2684 2686 2688 2800 2802 2804 2806 2808 2820 2822 2824 2826 2828 2840 2842 2844 2846 2848 2860 2862 2864 2866 2868 2880 2882 2884 2886 2888 "
     ]
    }
   ],
   "source": [
    "for num in range(1000, 3001):\n",
    "    flag = True\n",
    "    temp = num\n",
    "    while temp > 0:\n",
    "        remainder = int(temp % 2)\n",
    "        if remainder % 2 != 0:\n",
    "            flag = False\n",
    "            break\n",
    "        temp /= 10\n",
    "    if flag:\n",
    "        print(num, end=\" \")"
   ]
  },
  {
   "cell_type": "markdown",
   "metadata": {
    "id": "GV18IINT4mf5"
   },
   "source": [
    "### `Problem 11`: A robot moves in a plane starting from the original point (0,0). The robot can move toward UP, DOWN, LEFT and RIGHT with a given steps.\n",
    "The trace of robot movement is shown as the following:\n",
    "```\n",
    "UP 5\n",
    "DOWN 3\n",
    "LEFT 3\n",
    "RIGHT 2\n",
    "!\n",
    "```\n",
    "> The numbers after the direction are steps.\n",
    "\n",
    "> `!` means robot stop there.\n",
    "\n",
    "**Please write a program to compute the distance from current position after a sequence of movement and original point.**\n",
    "\n",
    "*If the distance is a float, then just print the nearest integer.*\n",
    "\n",
    "Example:\n",
    "\n",
    "`Input`:\n",
    "```\n",
    "UP 5\n",
    "DOWN 3\n",
    "LEFT 3\n",
    "RIGHT 2\n",
    "!\n",
    "```\n",
    "`Output`:\n",
    "```\n",
    "2\n",
    "```"
   ]
  },
  {
   "cell_type": "code",
   "execution_count": 21,
   "metadata": {},
   "outputs": [
    {
     "name": "stdin",
     "output_type": "stream",
     "text": [
      "Enter robot movement (e.g., UP 5) {for stopping '!'}:  UP 5\n",
      "Enter robot movement (e.g., UP 5) {for stopping '!'}:  DOWN 3\n",
      "Enter robot movement (e.g., UP 5) {for stopping '!'}:  LEFT 3\n",
      "Enter robot movement (e.g., UP 5) {for stopping '!'}:  RIGHT 2\n",
      "Enter robot movement (e.g., UP 5) {for stopping '!'}:  !\n"
     ]
    },
    {
     "name": "stdout",
     "output_type": "stream",
     "text": [
      "Distance: 2\n"
     ]
    }
   ],
   "source": [
    "import math\n",
    "\n",
    "current_position = [0, 0]  # [x, y]\n",
    "\n",
    "while True:\n",
    "    user_input = input(\"Enter robot movement (e.g., UP 5) {for stopping '!'}: \")\n",
    "    input_split = user_input.split(\" \")\n",
    "\n",
    "    if user_input == \"!\":\n",
    "        break\n",
    "    \n",
    "    if len(input_split) != 2:\n",
    "        print(\"Invalid input. Please enter a direction followed by the number of steps.\")\n",
    "        continue\n",
    "\n",
    "    direction = input_split[0]\n",
    "    steps = input_split[1]\n",
    "\n",
    "    if direction == \"UP\":\n",
    "        current_position[1] += int(steps)\n",
    "    elif direction == \"DOWN\":\n",
    "        current_position[1] -= int(steps)\n",
    "    elif direction == \"LEFT\":\n",
    "        current_position[0] -= int(steps)\n",
    "    elif direction == \"RIGHT\":\n",
    "        current_position[0] += int(steps)\n",
    "    else:\n",
    "        print(\"Invalid direction. Please enter UP, DOWN, LEFT, or RIGHT.\")\n",
    "\n",
    "distance = math.sqrt(current_position[0]**2 + current_position[1]**2)\n",
    "print(\"Distance:\", round(distance))"
   ]
  },
  {
   "cell_type": "markdown",
   "metadata": {
    "id": "3fsAIAhK5GYY"
   },
   "source": [
    "### `Problem 12`:Write a program to print whether a given number is a prime number or not"
   ]
  },
  {
   "cell_type": "code",
   "execution_count": 4,
   "metadata": {
    "id": "j6y91lxy5LZs"
   },
   "outputs": [
    {
     "name": "stdin",
     "output_type": "stream",
     "text": [
      "Enter a number:  83\n"
     ]
    },
    {
     "name": "stdout",
     "output_type": "stream",
     "text": [
      "83 is Prime Number!\n"
     ]
    }
   ],
   "source": [
    "number = int(input(\"Enter a number: \"))\n",
    "flag = True\n",
    "for i in range(2, number):\n",
    "    if number % i == 0:\n",
    "        flag = False\n",
    "        break\n",
    "\n",
    "if flag:\n",
    "    print(f\"{number} is Prime Number!\")\n",
    "else:\n",
    "    print(f\"{number} is Not a Prime Number!\")"
   ]
  },
  {
   "cell_type": "markdown",
   "metadata": {
    "id": "asAbmbK-5NHv"
   },
   "source": [
    "### `Problem 13`:Print all the Armstrong numbers in a given range.\n",
    "Range will be provided by the user<br>\n",
    "Armstrong number is a number that is equal to the sum of cubes of its digits. For example 0, 1, 153, 370, 371 and 407 are the Armstrong numbers."
   ]
  },
  {
   "cell_type": "code",
   "execution_count": 37,
   "metadata": {
    "id": "PZuI67pm5jCT"
   },
   "outputs": [
    {
     "name": "stdin",
     "output_type": "stream",
     "text": [
      "Enter the start of the range:  0\n",
      "Enter the end of the range:  1000\n"
     ]
    },
    {
     "name": "stdout",
     "output_type": "stream",
     "text": [
      "Armstrong numbers between 0 and 1000 are:\n",
      "0  1  153  370  371  407  "
     ]
    }
   ],
   "source": [
    "start = int(input(\"Enter the start of the range: \"))\n",
    "end = int(input(\"Enter the end of the range: \"))\n",
    "\n",
    "print(f\"Armstrong numbers between {start} and {end} are:\")\n",
    "for num in range(start, end + 1):\n",
    "    temp = num\n",
    "    armstrong_num = 0\n",
    "    while num > 0:\n",
    "        remainder = int(num % 10)\n",
    "        armstrong_num += (remainder ** 3)\n",
    "        num /= 10\n",
    "    if armstrong_num == temp:\n",
    "        print(armstrong_num, end=\"  \")"
   ]
  },
  {
   "cell_type": "markdown",
   "metadata": {
    "id": "ClCQZMqT7gK0"
   },
   "source": [
    "### `Problem 14`:Calculate the angle between the hour hand and minute hand.\n",
    "\n",
    "Note: There can be two angles between hands; we need to print a minimum of two. Also, we need to print the floor of the final result angle. For example, if the final angle is 10.61, we need to print 10.\n",
    "\n",
    "Input:<br>\n",
    "H = 9 , M = 0<br>\n",
    "Output:<br>\n",
    "90<br>\n",
    "Explanation:<br>\n",
    "The minimum angle between hour and minute\n",
    "hand when the time is 9 is 90 degress."
   ]
  },
  {
   "cell_type": "code",
   "execution_count": 29,
   "metadata": {
    "id": "tNBTCZML7jy_"
   },
   "outputs": [
    {
     "name": "stdin",
     "output_type": "stream",
     "text": [
      "Enter hour:  15\n",
      "Enter minute:  20\n"
     ]
    },
    {
     "name": "stdout",
     "output_type": "stream",
     "text": [
      "The angle between hour and minute hand is: 20 degrees\n"
     ]
    }
   ],
   "source": [
    "hour = int(input(\"Enter hour: \"))\n",
    "minute = int(input(\"Enter minute: \"))\n",
    "\n",
    "hour %= 12\n",
    "hour_angle = (hour + (minute/60)) * 30\n",
    "minute_angle = minute * 6\n",
    "angle = int(abs(hour_angle - minute_angle))\n",
    "\n",
    "if angle > 180:\n",
    "    angle = 360 - angle\n",
    "\n",
    "print(f\"The angle between hour and minute hand is: {angle} degrees\")"
   ]
  },
  {
   "cell_type": "markdown",
   "metadata": {
    "id": "GwacF9Co72Qc"
   },
   "source": [
    "### `Problem 15`:Given two rectangles, find if the given two rectangles overlap or not. A rectangle is denoted by providing the x and y coordinates of two points: the left top corner and the right bottom corner of the rectangle. Two rectangles sharing a side are considered overlapping. (L1 and R1 are the extreme points of the first rectangle and L2 and R2 are the extreme points of the second rectangle).\n",
    "\n",
    "Note: It may be assumed that the rectangles are parallel to the coordinate axis.\n",
    "\n",
    "<img src='https://www.geeksforgeeks.org/wp-content/uploads/rectanglesOverlap.png' width='300' height='200'>"
   ]
  },
  {
   "cell_type": "code",
   "execution_count": 32,
   "metadata": {
    "id": "6rrw_lpH78Rs"
   },
   "outputs": [
    {
     "name": "stdout",
     "output_type": "stream",
     "text": [
      "RECTANGLE OVERLAP!!\n"
     ]
    }
   ],
   "source": [
    "L1 = (0, 10)  # Top-left corner - 1st rectangle\n",
    "R1 = (10, 0)  # Bottom-right corner - 1st rectangle\n",
    "L2 = (5, 5)   # Top-left corner - 2nd rectangle\n",
    "R2 = (15, 0)  # Bottom-right corner - 2nd rectangle\n",
    "\n",
    "if L1[0] >= R2[0] or L2[0] >= R1[0] or L1[1] <= R2[1] or L2[1] <= R1[1]:\n",
    "    print(\"RECTANGLE DO NOT OVERLAP!!\")\n",
    "else:\n",
    "    print(\"RECTANGLE OVERLAP!!\")"
   ]
  }
 ],
 "metadata": {
  "colab": {
   "provenance": []
  },
  "kernelspec": {
   "display_name": "Python 3 (ipykernel)",
   "language": "python",
   "name": "python3"
  },
  "language_info": {
   "codemirror_mode": {
    "name": "ipython",
    "version": 3
   },
   "file_extension": ".py",
   "mimetype": "text/x-python",
   "name": "python",
   "nbconvert_exporter": "python",
   "pygments_lexer": "ipython3",
   "version": "3.12.4"
  }
 },
 "nbformat": 4,
 "nbformat_minor": 4
}

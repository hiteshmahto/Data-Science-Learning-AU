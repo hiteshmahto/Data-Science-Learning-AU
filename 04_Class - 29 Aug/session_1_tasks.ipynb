{
 "cells": [
  {
   "cell_type": "markdown",
   "metadata": {
    "id": "A05OG15VqOPF"
   },
   "source": [
    "# Task : Session 1\n",
    "Solve these questions own your own and try to test yourself what you have learned in the session.\n",
    "\n",
    "Happy Learning!"
   ]
  },
  {
   "cell_type": "markdown",
   "metadata": {
    "id": "2doIXf8bqe9_"
   },
   "source": [
    "### Q1 :- Print the given strings as per stated format.\n",
    "\n",
    "**Given strings**:\n",
    "```\n",
    "\"Data\" \"Science\" \"Mentorship\" \"Program\"\n",
    "\"By\" \"CampusX\"\n",
    "```\n",
    "**Output**:\n",
    "```\n",
    "Data-Science-Mentorship-Program-started-By-CampusX\n",
    "```\n",
    "\n",
    "Concept- [Seperator and End]"
   ]
  },
  {
   "cell_type": "code",
   "execution_count": 9,
   "metadata": {
    "id": "-em6d3KErDtp"
   },
   "outputs": [
    {
     "name": "stdout",
     "output_type": "stream",
     "text": [
      "Data-Science-Mentorship-Program-By-CampusX\n"
     ]
    }
   ],
   "source": [
    "print(\"Data\", \"Science\", \"Mentorship\", \"Program\", \"By\", \"CampusX\", sep=\"-\")"
   ]
  },
  {
   "cell_type": "markdown",
   "metadata": {
    "id": "1KUpN7ZTrC3_"
   },
   "source": [
    "### Q2:- Write a program that will convert celsius value to fahrenheit."
   ]
  },
  {
   "cell_type": "code",
   "execution_count": 1,
   "metadata": {
    "id": "yxKYhYQiqWfj"
   },
   "outputs": [
    {
     "name": "stdin",
     "output_type": "stream",
     "text": [
      "Enter celcius:  54\n"
     ]
    },
    {
     "name": "stdout",
     "output_type": "stream",
     "text": [
      "Fahrenheit:  129.2\n"
     ]
    }
   ],
   "source": [
    "celcius = float(input(\"Enter celcius: \"))\n",
    "fahrenheit = (celcius * 1.8) + 32\n",
    "print(\"Fahrenheit: \", fahrenheit)"
   ]
  },
  {
   "cell_type": "markdown",
   "metadata": {
    "id": "RLrOBBJurLB2"
   },
   "source": [
    "### Q3:- Take 2 numbers as input from the user.Write a program to swap the numbers without using any special python syntax."
   ]
  },
  {
   "cell_type": "code",
   "execution_count": 3,
   "metadata": {
    "id": "yPn7if0TrJ4F"
   },
   "outputs": [
    {
     "name": "stdin",
     "output_type": "stream",
     "text": [
      "Enter number 1:  6\n",
      "Enter number 2:  3\n"
     ]
    },
    {
     "name": "stdout",
     "output_type": "stream",
     "text": [
      "Swapped Number: 3,6\n"
     ]
    }
   ],
   "source": [
    "a = input(\"Enter number 1: \")\n",
    "b = input(\"Enter number 2: \")\n",
    "c = a\n",
    "a = b\n",
    "b = c\n",
    "print(f\"Swapped Number: {a},{b}\")"
   ]
  },
  {
   "cell_type": "markdown",
   "metadata": {
    "id": "waLCP1bjr7ML"
   },
   "source": [
    "### Q4:- Write a program to find the euclidean distance between two coordinates.Take both the coordinates from the user as input."
   ]
  },
  {
   "cell_type": "code",
   "execution_count": 13,
   "metadata": {
    "id": "Pl1Sv-xnrxnH"
   },
   "outputs": [
    {
     "name": "stdin",
     "output_type": "stream",
     "text": [
      "Enter the x-coordinate of the first point:  5\n",
      "Enter the y-coordinate of the first point:  9\n",
      "Enter the x-coordinate of the second point:  14\n",
      "Enter the y-coordinate of the second point:  12\n"
     ]
    },
    {
     "name": "stdout",
     "output_type": "stream",
     "text": [
      "The Euclidean distance between the points is: 9.486832980505138\n"
     ]
    }
   ],
   "source": [
    "# Input coordinates of the first point\n",
    "x1 = float(input(\"Enter the x-coordinate of the first point: \"))\n",
    "y1 = float(input(\"Enter the y-coordinate of the first point: \"))\n",
    "\n",
    "# Input coordinates of the second point\n",
    "x2 = float(input(\"Enter the x-coordinate of the second point: \"))\n",
    "y2 = float(input(\"Enter the y-coordinate of the second point: \"))\n",
    "\n",
    "distance = (((x2 - x1) ** 2) + ((y2 - y1) ** 2)) ** 0.5\n",
    "print(f\"The Euclidean distance between the points is: {distance}\")"
   ]
  },
  {
   "cell_type": "markdown",
   "metadata": {
    "id": "VLrhg-FRsHjR"
   },
   "source": [
    "### Q5:- Write a program to find the simple interest when the value of principle,rate of interest and time period is provided by the user.\n"
   ]
  },
  {
   "cell_type": "code",
   "execution_count": 14,
   "metadata": {
    "id": "s40DlReZsTmY"
   },
   "outputs": [
    {
     "name": "stdin",
     "output_type": "stream",
     "text": [
      "Enter the principal amount:  100000\n",
      "Enter the rate of interest (in %):  12\n",
      "Enter the time period (in years):  5\n"
     ]
    },
    {
     "name": "stdout",
     "output_type": "stream",
     "text": [
      "The simple interest is: 60000.0\n"
     ]
    }
   ],
   "source": [
    "# Simple Interest (SI) = Principal (P) × Rate × Time (T)\n",
    "\n",
    "P = float(input(\"Enter the principal amount: \"))\n",
    "R = float(input(\"Enter the rate of interest (in %): \"))\n",
    "T = float(input(\"Enter the time period (in years): \"))\n",
    "\n",
    "simple_interest = (P * R * T) / 100\n",
    "print(f\"The simple interest is: {simple_interest}\")"
   ]
  },
  {
   "cell_type": "markdown",
   "metadata": {
    "id": "LMy0BTUktYKa"
   },
   "source": [
    "### Q6:- Write a program that will tell the number of dogs and chicken are there when the user will provide the value of total heads and legs.\n",
    "\n",
    "For example:\n",
    "Input:\n",
    "heads -> 4\n",
    "legs -> 12\n",
    "<br>\n",
    "Output:\n",
    "dogs -> 2\n",
    "chicken -> 2\n",
    "\n",
    "\n",
    "\n"
   ]
  },
  {
   "cell_type": "code",
   "execution_count": 14,
   "metadata": {
    "id": "XSBvJoA4tXaG"
   },
   "outputs": [
    {
     "name": "stdin",
     "output_type": "stream",
     "text": [
      "Enter number of heads:  145\n",
      "Enter number of legs:  500\n"
     ]
    },
    {
     "name": "stdout",
     "output_type": "stream",
     "text": [
      "Dogs: 105\n",
      "Chicken: 40\n"
     ]
    }
   ],
   "source": [
    "heads = int(input(\"Enter number of heads: \"))\n",
    "legs = int(input(\"Enter number of legs: \"))\n",
    "\n",
    "if legs % 2 != 0 or legs < 2 * heads or legs > 4 * heads:\n",
    "    print(\"Not Possible!\")\n",
    "else:\n",
    "    dogs = (legs - (2 * heads)) / 2\n",
    "    chicken = heads - dogs\n",
    "    if dogs < 0 or chicken < 0:\n",
    "        print(\"Not possible!\")\n",
    "    else:\n",
    "        print(\"Dogs:\", int(dogs))\n",
    "        print(\"Chicken:\", int(chicken))"
   ]
  },
  {
   "cell_type": "code",
   "execution_count": 11,
   "metadata": {},
   "outputs": [
    {
     "name": "stdin",
     "output_type": "stream",
     "text": [
      "Enter number of heads:  100\n",
      "Enter number of legs:  100\n"
     ]
    },
    {
     "name": "stdout",
     "output_type": "stream",
     "text": [
      "Not possible\n"
     ]
    }
   ],
   "source": [
    "heads = int(input(\"Enter number of heads: \"))\n",
    "legs = int(input(\"Enter number of legs: \"))\n",
    "\n",
    "if legs % 2 != 0 or legs < 2 * heads or legs > 4 * heads:\n",
    "    print(\"Not possible\")\n",
    "else:\n",
    "    dogs = (legs - (2 * heads)) / 2\n",
    "    chicken = heads - dogs\n",
    "\n",
    "    if dogs < 0 or chicken < 0 or not dogs.is_integer() or not chicken.is_integer():\n",
    "        print(\"Not possible\")\n",
    "    else:\n",
    "        print(\"Dogs:\", int(dogs))\n",
    "        print(\"Chicken:\", int(chicken))\n"
   ]
  },
  {
   "cell_type": "markdown",
   "metadata": {
    "id": "gJ7C5kZYt4BP"
   },
   "source": [
    "### Q7:- Write a program to find the sum of squares of first n natural numbers where n will be provided by the user."
   ]
  },
  {
   "cell_type": "code",
   "execution_count": 11,
   "metadata": {
    "id": "_tHsmEHzt2nX"
   },
   "outputs": [
    {
     "name": "stdin",
     "output_type": "stream",
     "text": [
      "Enter n:  7\n"
     ]
    },
    {
     "name": "stdout",
     "output_type": "stream",
     "text": [
      "The sum of squares of first 7 natural numbers is 140\n"
     ]
    }
   ],
   "source": [
    "n = int(input(\"Enter n: \"))\n",
    "sum = 0\n",
    "for i in range(1, n + 1):\n",
    "    sum += (i ** 2)\n",
    "\n",
    "print(f\"The sum of squares of first {n} natural numbers is {sum}\")"
   ]
  },
  {
   "cell_type": "markdown",
   "metadata": {
    "id": "FHrMM7g-yG1h"
   },
   "source": [
    "### Q8:- Given the first 2 terms of an Arithmetic Series.Find the Nth term of the series. Assume all inputs are provided by the user."
   ]
  },
  {
   "cell_type": "code",
   "execution_count": 13,
   "metadata": {
    "id": "go4_kmZmyVSx"
   },
   "outputs": [
    {
     "name": "stdin",
     "output_type": "stream",
     "text": [
      "Enter the first term of Arithmetic Series:  2\n",
      "Enter the second term of Arithmetic Series:  5\n",
      "Enter the nth number:  6\n"
     ]
    },
    {
     "name": "stdout",
     "output_type": "stream",
     "text": [
      "So the nth term will be: 17.0\n"
     ]
    }
   ],
   "source": [
    "first_term = float(input(\"Enter the first term of Arithmetic Series: \"))\n",
    "second_term = float(input(\"Enter the second term of Arithmetic Series: \"))\n",
    "n = int(input(\"Enter the nth number: \"))\n",
    "# nth term = a + (n-1)*d\n",
    "nth_term = first_term + (n - 1) * (second_term - first_term)\n",
    "print(f\"So the nth term will be: {nth_term}\")"
   ]
  },
  {
   "cell_type": "markdown",
   "metadata": {
    "id": "QgyRX_es1oum"
   },
   "source": [
    "### Q9:- Given 2 fractions, find the sum of those 2 fractions.Take the numerator and denominator values of the fractions from the user."
   ]
  },
  {
   "cell_type": "code",
   "execution_count": 2,
   "metadata": {
    "id": "X05xqFS1yW16"
   },
   "outputs": [
    {
     "name": "stdin",
     "output_type": "stream",
     "text": [
      "Enter the numerator for the first fraction:  4\n",
      "Enter the denominator for the first fraction:  6\n",
      "Enter the numerator for the second fraction:  3\n",
      "Enter the denominator for the second fraction:  2\n"
     ]
    },
    {
     "name": "stdout",
     "output_type": "stream",
     "text": [
      "The sum of the fractions is: 2.1666666666666665\n"
     ]
    }
   ],
   "source": [
    "# Get the numerator and denominator for the first fraction\n",
    "num1 = int(input(\"Enter the numerator for the first fraction: \"))\n",
    "den1 = int(input(\"Enter the denominator for the first fraction: \"))\n",
    "\n",
    "# Get the numerator and denominator for the second fraction\n",
    "num2 = int(input(\"Enter the numerator for the second fraction: \"))\n",
    "den2 = int(input(\"Enter the denominator for the second fraction: \"))\n",
    "\n",
    "sum = ((num1 * den2) + (num2 * den1)) / (den1 * den2)\n",
    "print(f\"The sum of the fractions is: {sum}\")"
   ]
  },
  {
   "cell_type": "markdown",
   "metadata": {
    "id": "eaql38ln13u7"
   },
   "source": [
    "### Q10:- Given the height, width and breadth of a milk tank, you have to find out how many glasses of milk can be obtained? Assume all the inputs are provided by the user.\n",
    "\n",
    "\n",
    "\n",
    "Input:<br>\n",
    "Dimensions of the milk tank<br>\n",
    "H = 20cm, L = 20cm, B = 20cm\n",
    "<br><br>\n",
    "Dimensions of the glass<br>\n",
    "h = 3cm, r = 1cm"
   ]
  },
  {
   "cell_type": "code",
   "execution_count": 5,
   "metadata": {
    "id": "FePZqno74eWv"
   },
   "outputs": [
    {
     "name": "stdin",
     "output_type": "stream",
     "text": [
      "Enter the height of the milk tank (in cm):  98\n",
      "Enter the length of the milk tank (in cm):  78\n",
      "Enter the breadth of the milk tank (in cm):  54\n",
      "Enter the height of the glass (in cm):  25\n",
      "Enter the radius of the glass (in cm):  13\n"
     ]
    },
    {
     "name": "stdout",
     "output_type": "stream",
     "text": [
      "The number of glasses of milk that can be obtained is: 31\n"
     ]
    }
   ],
   "source": [
    "import math\n",
    "H = int(input(\"Enter the height of the milk tank (in cm): \"))\n",
    "L = int(input(\"Enter the length of the milk tank (in cm): \"))\n",
    "B = int(input(\"Enter the breadth of the milk tank (in cm): \"))\n",
    "\n",
    "h = int(input(\"Enter the height of the glass (in cm): \"))\n",
    "r = int(input(\"Enter the radius of the glass (in cm): \"))\n",
    "\n",
    "volume_tank = H * L * B\n",
    "volume_glass = math.pi * (r ** 2) * h\n",
    "\n",
    "number_of_glasses = volume_tank // volume_glass\n",
    "\n",
    "print(f\"The number of glasses of milk that can be obtained is: {int(number_of_glasses)}\")\n"
   ]
  }
 ],
 "metadata": {
  "colab": {
   "provenance": []
  },
  "kernelspec": {
   "display_name": "Python 3 (ipykernel)",
   "language": "python",
   "name": "python3"
  },
  "language_info": {
   "codemirror_mode": {
    "name": "ipython",
    "version": 3
   },
   "file_extension": ".py",
   "mimetype": "text/x-python",
   "name": "python",
   "nbconvert_exporter": "python",
   "pygments_lexer": "ipython3",
   "version": "3.12.4"
  }
 },
 "nbformat": 4,
 "nbformat_minor": 4
}

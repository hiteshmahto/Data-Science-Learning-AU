{
 "cells": [
  {
   "cell_type": "code",
   "execution_count": 2,
   "id": "89f0126e-5d28-4bf8-ae9a-a15f407afb0b",
   "metadata": {},
   "outputs": [
    {
     "name": "stdout",
     "output_type": "stream",
     "text": [
      "77\n"
     ]
    }
   ],
   "source": [
    "def add(a, b):\n",
    "    return a + b\n",
    "\n",
    "print(add(34,43))"
   ]
  },
  {
   "cell_type": "code",
   "execution_count": 7,
   "id": "a69600f9-b237-47bf-8b26-f52b2f965e2e",
   "metadata": {},
   "outputs": [
    {
     "name": "stdout",
     "output_type": "stream",
     "text": [
      "The given number is digit\n",
      "The given number is digit\n",
      "None\n"
     ]
    }
   ],
   "source": [
    "def digit_checker(sentence):\n",
    "    if sentence.isdigit():\n",
    "        print(f\"The given number is digit\")\n",
    "    else:\n",
    "        print(f\"The given number is NOT digit\")\n",
    "\n",
    "digit_checker(\"45\")\n",
    "\n",
    "4*digit_checker(\"3ss4\")\n",
    "print(digit_checker(\"34\"))"
   ]
  },
  {
   "cell_type": "code",
   "execution_count": 8,
   "id": "5e86967d-1287-4b05-ac12-23b6d6493cef",
   "metadata": {},
   "outputs": [
    {
     "name": "stdout",
     "output_type": "stream",
     "text": [
      "False\n"
     ]
    },
    {
     "ename": "TypeError",
     "evalue": "unsupported operand type(s) for *: 'int' and 'NoneType'",
     "output_type": "error",
     "traceback": [
      "\u001b[1;31m---------------------------------------------------------------------------\u001b[0m",
      "\u001b[1;31mTypeError\u001b[0m                                 Traceback (most recent call last)",
      "Cell \u001b[1;32mIn[8], line 1\u001b[0m\n\u001b[1;32m----> 1\u001b[0m \u001b[38;5;241m4\u001b[39m\u001b[38;5;241m*\u001b[39m\u001b[38;5;28mprint\u001b[39m(\u001b[38;5;241m3\u001b[39m\u001b[38;5;241m>\u001b[39m\u001b[38;5;241m5\u001b[39m)\n",
      "\u001b[1;31mTypeError\u001b[0m: unsupported operand type(s) for *: 'int' and 'NoneType'"
     ]
    }
   ],
   "source": [
    "4*print(3>5)"
   ]
  },
  {
   "cell_type": "code",
   "execution_count": 10,
   "id": "f93196a1-5f72-43e6-af53-c45fcc0f0778",
   "metadata": {},
   "outputs": [
    {
     "name": "stdout",
     "output_type": "stream",
     "text": [
      "False\n"
     ]
    },
    {
     "data": {
      "text/plain": [
       "NoneType"
      ]
     },
     "execution_count": 10,
     "metadata": {},
     "output_type": "execute_result"
    }
   ],
   "source": [
    "type(print(3 > 5))"
   ]
  },
  {
   "cell_type": "code",
   "execution_count": 12,
   "id": "5440b544-1ee4-41d2-8f52-bfa91ac373fc",
   "metadata": {},
   "outputs": [
    {
     "name": "stdout",
     "output_type": "stream",
     "text": [
      "2208\n"
     ]
    }
   ],
   "source": [
    "def mul(a,b):\n",
    "    return a*b\n",
    "\n",
    "print(mul(23, 12)*8)"
   ]
  },
  {
   "cell_type": "code",
   "execution_count": 17,
   "id": "8871a0f8-7fa9-40ae-8765-38e28e4a9f2e",
   "metadata": {},
   "outputs": [
    {
     "ename": "AttributeError",
     "evalue": "'int' object has no attribute 'isdigit'",
     "output_type": "error",
     "traceback": [
      "\u001b[1;31m---------------------------------------------------------------------------\u001b[0m",
      "\u001b[1;31mAttributeError\u001b[0m                            Traceback (most recent call last)",
      "Cell \u001b[1;32mIn[17], line 8\u001b[0m\n\u001b[0;32m      5\u001b[0m             product \u001b[38;5;241m*\u001b[39m\u001b[38;5;241m=\u001b[39m ele\n\u001b[0;32m      6\u001b[0m     \u001b[38;5;28;01mreturn\u001b[39;00m product\n\u001b[1;32m----> 8\u001b[0m mul(\u001b[38;5;241m23\u001b[39m,\u001b[38;5;241m2\u001b[39m)\n",
      "Cell \u001b[1;32mIn[17], line 4\u001b[0m, in \u001b[0;36mmul\u001b[1;34m(*hitesh)\u001b[0m\n\u001b[0;32m      2\u001b[0m product \u001b[38;5;241m=\u001b[39m \u001b[38;5;241m1\u001b[39m\n\u001b[0;32m      3\u001b[0m \u001b[38;5;28;01mfor\u001b[39;00m ele \u001b[38;5;129;01min\u001b[39;00m hitesh:\n\u001b[1;32m----> 4\u001b[0m     \u001b[38;5;28;01mif\u001b[39;00m ele\u001b[38;5;241m.\u001b[39misdigit():\n\u001b[0;32m      5\u001b[0m         product \u001b[38;5;241m*\u001b[39m\u001b[38;5;241m=\u001b[39m ele\n\u001b[0;32m      6\u001b[0m \u001b[38;5;28;01mreturn\u001b[39;00m product\n",
      "\u001b[1;31mAttributeError\u001b[0m: 'int' object has no attribute 'isdigit'"
     ]
    }
   ],
   "source": [
    "def mul(*hitesh):\n",
    "    product = 1\n",
    "    for ele in hitesh:\n",
    "        if ele.isdigit():\n",
    "            product *= ele\n",
    "    return product\n",
    "\n",
    "mul(23,2)\n",
    "\n",
    "# isko dekhna ghar mein"
   ]
  },
  {
   "cell_type": "code",
   "execution_count": 19,
   "id": "0a5bdb24-b7fb-41e8-b076-2422e0d859c3",
   "metadata": {},
   "outputs": [
    {
     "ename": "SyntaxError",
     "evalue": "var-positional argument cannot have default value (1763443732.py, line 1)",
     "output_type": "error",
     "traceback": [
      "\u001b[1;36m  Cell \u001b[1;32mIn[19], line 1\u001b[1;36m\u001b[0m\n\u001b[1;33m    def mul(*hitesh = (0)):\u001b[0m\n\u001b[1;37m                    ^\u001b[0m\n\u001b[1;31mSyntaxError\u001b[0m\u001b[1;31m:\u001b[0m var-positional argument cannot have default value\n"
     ]
    }
   ],
   "source": [
    "def mul(*hitesh = (0)):\n",
    "    print(hitesh)\n",
    "\n",
    "mul(23,2)\n",
    "\n",
    "# default parameter and actual parameter"
   ]
  },
  {
   "cell_type": "code",
   "execution_count": 26,
   "id": "124ca03f-ca03-42e7-968d-a5f2e6897bb3",
   "metadata": {},
   "outputs": [
    {
     "name": "stdin",
     "output_type": "stream",
     "text": [
      "Enter number of rows:  5\n"
     ]
    },
    {
     "name": "stdout",
     "output_type": "stream",
     "text": [
      "S S S S * \n",
      "S S S * * * \n",
      "S S * * * * * \n",
      "S * * * * * * * \n",
      "* * * * * * * * * \n"
     ]
    }
   ],
   "source": [
    "rows = int(input(\"Enter number of rows: \"))\n",
    "for i in range(rows):\n",
    "    # space printing\n",
    "    for j in range(rows - i - 1):\n",
    "        print(\"S\", end=\" \")\n",
    "    # * printing\n",
    "    for j in range(2 * i + 1):\n",
    "        print(\"*\", end=\" \")\n",
    "    print()"
   ]
  },
  {
   "cell_type": "code",
   "execution_count": 28,
   "id": "6958362a-97a3-497b-87dd-b837b736b2e1",
   "metadata": {},
   "outputs": [
    {
     "name": "stdin",
     "output_type": "stream",
     "text": [
      "Enter number of rows:  5\n"
     ]
    },
    {
     "name": "stdout",
     "output_type": "stream",
     "text": [
      "* \n",
      "* * \n",
      "* * * \n",
      "* * * * \n",
      "* * * * * \n"
     ]
    }
   ],
   "source": [
    "rows = int(input(\"Enter number of rows: \"))\n",
    "for i in range(1, rows+1):\n",
    "    for j in range(i):\n",
    "        print(\"*\", end=\" \")\n",
    "    print()"
   ]
  },
  {
   "cell_type": "code",
   "execution_count": 30,
   "id": "d23d7d9d-537b-4479-9d3c-2b4d23ac87d2",
   "metadata": {},
   "outputs": [
    {
     "name": "stdout",
     "output_type": "stream",
     "text": [
      "    * \n",
      "  * * * \n",
      "* * * * * \n"
     ]
    }
   ],
   "source": [
    "k=2\n",
    "for i in range(1,6,2):\n",
    "    print(\"  \"*k+i*\"* \")\n",
    "    k -= 1"
   ]
  },
  {
   "cell_type": "code",
   "execution_count": null,
   "id": "76f4bd86-f269-4a08-9afb-8c0012c57368",
   "metadata": {},
   "outputs": [],
   "source": [
    "# friday 8-10 ques pattern printing"
   ]
  },
  {
   "cell_type": "code",
   "execution_count": 31,
   "id": "de71d3f2-6606-4f10-ae30-5e1eab482bf2",
   "metadata": {},
   "outputs": [
    {
     "name": "stdout",
     "output_type": "stream",
     "text": [
      "2000, 2002, 2004, 2006, 2008, 2020, 2022, 2024, 2026, 2028, 2040, 2042, 2044, 2046, 2048, 2060, 2062, 2064, 2066, 2068, 2080, 2082, 2084, 2086, 2088, 2200, 2202, 2204, 2206, 2208, 2220, 2222, 2224, 2226, 2228, 2240, 2242, 2244, 2246, 2248, 2260, 2262, 2264, 2266, 2268, 2280, 2282, 2284, 2286, 2288, 2400, 2402, 2404, 2406, 2408, 2420, 2422, 2424, 2426, 2428, 2440, 2442, 2444, 2446, 2448, 2460, 2462, 2464, 2466, 2468, 2480, 2482, 2484, 2486, 2488, 2600, 2602, 2604, 2606, 2608, 2620, 2622, 2624, 2626, 2628, 2640, 2642, 2644, 2646, 2648, 2660, 2662, 2664, 2666, 2668, 2680, 2682, 2684, 2686, 2688, 2800, 2802, 2804, 2806, 2808, 2820, 2822, 2824, 2826, 2828, 2840, 2842, 2844, 2846, 2848, 2860, 2862, 2864, 2866, 2868, 2880, 2882, 2884, 2886, 2888, "
     ]
    }
   ],
   "source": [
    "for num in range(1000, 3001):\n",
    "    temp = num\n",
    "    flag = True\n",
    "    while num > 0:\n",
    "        remainder = num % 10\n",
    "        if remainder % 2 != 0:\n",
    "            flag = False\n",
    "            break\n",
    "        num = num // 10\n",
    "    if flag:\n",
    "        print(temp, end=\", \")"
   ]
  },
  {
   "cell_type": "code",
   "execution_count": null,
   "id": "7aff77dd-4968-47b1-beb1-e6b920b77e97",
   "metadata": {},
   "outputs": [],
   "source": []
  },
  {
   "cell_type": "code",
   "execution_count": null,
   "id": "e162c4fd-52b0-4033-9f5e-8fb4aa405866",
   "metadata": {},
   "outputs": [],
   "source": []
  },
  {
   "cell_type": "code",
   "execution_count": null,
   "id": "df744b98-3c10-4136-b532-85a609bce975",
   "metadata": {},
   "outputs": [],
   "source": []
  },
  {
   "cell_type": "code",
   "execution_count": null,
   "id": "8e4cde1d-5296-48aa-968e-99d5c96bde2d",
   "metadata": {},
   "outputs": [],
   "source": []
  },
  {
   "cell_type": "code",
   "execution_count": null,
   "id": "47950e9f-20d2-4ef1-af26-612b699e05bb",
   "metadata": {},
   "outputs": [],
   "source": []
  },
  {
   "cell_type": "code",
   "execution_count": null,
   "id": "996d42ea-142c-4cd4-ba8b-76d5a4ddb55e",
   "metadata": {},
   "outputs": [],
   "source": []
  },
  {
   "cell_type": "code",
   "execution_count": null,
   "id": "3b246f59-5eb0-4dfe-8730-d6ad4abad35c",
   "metadata": {},
   "outputs": [],
   "source": []
  },
  {
   "cell_type": "code",
   "execution_count": null,
   "id": "3532d1db-8949-44bb-b5c6-5f1fa4912125",
   "metadata": {},
   "outputs": [],
   "source": []
  }
 ],
 "metadata": {
  "kernelspec": {
   "display_name": "Python 3 (ipykernel)",
   "language": "python",
   "name": "python3"
  },
  "language_info": {
   "codemirror_mode": {
    "name": "ipython",
    "version": 3
   },
   "file_extension": ".py",
   "mimetype": "text/x-python",
   "name": "python",
   "nbconvert_exporter": "python",
   "pygments_lexer": "ipython3",
   "version": "3.12.4"
  }
 },
 "nbformat": 4,
 "nbformat_minor": 5
}

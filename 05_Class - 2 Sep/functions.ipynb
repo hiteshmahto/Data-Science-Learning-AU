{
 "cells": [
  {
   "cell_type": "code",
   "execution_count": null,
   "id": "df744b98-3c10-4136-b532-85a609bce975",
   "metadata": {},
   "outputs": [],
   "source": [
    "def add(a, b):\n",
    "    return a + b\n",
    "\n",
    "print(add(34,43))"
   ]
  },
  {
   "cell_type": "code",
   "execution_count": 7,
   "id": "8e4cde1d-5296-48aa-968e-99d5c96bde2d",
   "metadata": {},
   "outputs": [
    {
     "name": "stdout",
     "output_type": "stream",
     "text": [
      "The given number is digit\n",
      "The given number is digit\n",
      "None\n"
     ]
    }
   ],
   "source": [
    "def digit_checker(sentence):\n",
    "    if sentence.isdigit():\n",
    "        print(f\"The given number is digit\")\n",
    "    else:\n",
    "        print(f\"The given number is NOT digit\")\n",
    "\n",
    "digit_checker(\"45\")\n",
    "\n",
    "# so digit_checker function is returning None \n",
    "print(digit_checker(\"34\"))\n",
    "\n",
    "# print(4 * None) # ERROR\n",
    "# 4 * digit_checker(\"34\") # ERROR"
   ]
  },
  {
   "cell_type": "code",
   "execution_count": 12,
   "id": "47950e9f-20d2-4ef1-af26-612b699e05bb",
   "metadata": {},
   "outputs": [
    {
     "data": {
      "text/plain": [
       "4"
      ]
     },
     "execution_count": 12,
     "metadata": {},
     "output_type": "execute_result"
    }
   ],
   "source": [
    "4 * False # 0\n",
    "4 * True # 4"
   ]
  },
  {
   "cell_type": "code",
   "execution_count": 14,
   "id": "996d42ea-142c-4cd4-ba8b-76d5a4ddb55e",
   "metadata": {},
   "outputs": [
    {
     "name": "stdout",
     "output_type": "stream",
     "text": [
      "\n",
      "None\n"
     ]
    }
   ],
   "source": [
    "# print function returns None\n",
    "print(print())"
   ]
  },
  {
   "cell_type": "code",
   "execution_count": 15,
   "id": "3b246f59-5eb0-4dfe-8730-d6ad4abad35c",
   "metadata": {},
   "outputs": [
    {
     "name": "stdout",
     "output_type": "stream",
     "text": [
      "False\n"
     ]
    },
    {
     "ename": "TypeError",
     "evalue": "unsupported operand type(s) for *: 'int' and 'NoneType'",
     "output_type": "error",
     "traceback": [
      "\u001b[1;31m---------------------------------------------------------------------------\u001b[0m",
      "\u001b[1;31mTypeError\u001b[0m                                 Traceback (most recent call last)",
      "Cell \u001b[1;32mIn[15], line 1\u001b[0m\n\u001b[1;32m----> 1\u001b[0m \u001b[38;5;241m4\u001b[39m \u001b[38;5;241m*\u001b[39m \u001b[38;5;28mprint\u001b[39m(\u001b[38;5;241m3\u001b[39m\u001b[38;5;241m>\u001b[39m\u001b[38;5;241m5\u001b[39m)\n",
      "\u001b[1;31mTypeError\u001b[0m: unsupported operand type(s) for *: 'int' and 'NoneType'"
     ]
    }
   ],
   "source": [
    "4 * print(3>5) # 4 * None --> ERROR"
   ]
  },
  {
   "cell_type": "code",
   "execution_count": 16,
   "id": "3532d1db-8949-44bb-b5c6-5f1fa4912125",
   "metadata": {},
   "outputs": [
    {
     "name": "stdout",
     "output_type": "stream",
     "text": [
      "False\n"
     ]
    },
    {
     "data": {
      "text/plain": [
       "NoneType"
      ]
     },
     "execution_count": 16,
     "metadata": {},
     "output_type": "execute_result"
    }
   ],
   "source": [
    "type(print(3 > 5))"
   ]
  },
  {
   "cell_type": "code",
   "execution_count": 18,
   "id": "9b65b690-3b20-41f4-96fb-81d399d47c8d",
   "metadata": {},
   "outputs": [
    {
     "name": "stdout",
     "output_type": "stream",
     "text": [
      "2208\n"
     ]
    }
   ],
   "source": [
    "def mul(a, b):\n",
    "    return a * b\n",
    "\n",
    "print(mul(23, 12) * 8)"
   ]
  },
  {
   "cell_type": "code",
   "execution_count": 27,
   "id": "564f9102-e76a-45d2-ba61-bf63c3e01655",
   "metadata": {},
   "outputs": [
    {
     "name": "stdout",
     "output_type": "stream",
     "text": [
      "(23, 2, 'hitesh', 2)\n"
     ]
    },
    {
     "data": {
      "text/plain": [
       "92"
      ]
     },
     "execution_count": 27,
     "metadata": {},
     "output_type": "execute_result"
    }
   ],
   "source": [
    "def mul(*args): # you can use any name instead of args\n",
    "    print(args) # args is a tuple\n",
    "    product = 1\n",
    "    for ele in args:\n",
    "        if str(ele).isdigit():\n",
    "            product *= ele\n",
    "    return product\n",
    "\n",
    "mul(23, 2, \"hitesh\", 2)"
   ]
  },
  {
   "cell_type": "code",
   "execution_count": null,
   "id": "c4ed3aa0-fdcf-45c6-8e79-a5b60c37d44f",
   "metadata": {},
   "outputs": [],
   "source": [
    "# default parameter and actual parameter\n",
    "def greet(name, message=\"Hello\"):\n",
    "    return f\"{message}, {name}!\"\n",
    "\n",
    "# Calling function with both parameters (actual parameters)\n",
    "print(greet(\"Hitesh\", \"Good morning\"))  # Good morning, Hitesh!\n",
    "\n",
    "# Calling function with only the required parameter (name)\n",
    "print(greet(\"Hitesh\"))  # Hello, Hitesh!\n",
    "\n",
    "# Default parameters must come after non-default parameters"
   ]
  },
  {
   "cell_type": "code",
   "execution_count": 31,
   "id": "fde15a7e-837a-4b63-b3a7-607f8e2c95be",
   "metadata": {},
   "outputs": [
    {
     "name": "stdout",
     "output_type": "stream",
     "text": [
      "['Apple']\n",
      "['Apple', 'Banana']\n",
      "['Apple', 'Banana', 'Chiku']\n"
     ]
    }
   ],
   "source": [
    "# Default parameters are evaluated only once\n",
    "def add_item(item, items_list=[]):\n",
    "    items_list.append(item)\n",
    "    return items_list\n",
    "\n",
    "# Calling with different items but the same default list\n",
    "print(add_item(\"Apple\"))   # ['Apple']\n",
    "print(add_item(\"Banana\"))  # ['Apple', 'Banana']\n",
    "print(add_item(\"Chiku\"))  # ['Apple', 'Banana', 'Chiku']"
   ]
  },
  {
   "cell_type": "code",
   "execution_count": 32,
   "id": "c523c301-7355-4948-863d-ee4a32fc84e7",
   "metadata": {},
   "outputs": [
    {
     "name": "stdout",
     "output_type": "stream",
     "text": [
      "(23, 2)\n",
      "(0,)\n"
     ]
    }
   ],
   "source": [
    "def mul(*args):\n",
    "    # Check if args is empty and set default value\n",
    "    if not args:\n",
    "        args = (0,)\n",
    "    print(args)\n",
    "\n",
    "mul(23, 2)  # (23, 2)\n",
    "mul()       # (0,)\n"
   ]
  },
  {
   "cell_type": "code",
   "execution_count": 35,
   "id": "83e97f1f-7ca5-4354-9763-65074cb43f6f",
   "metadata": {},
   "outputs": [
    {
     "name": "stdout",
     "output_type": "stream",
     "text": [
      "Enter number of rows:  7\n"
     ]
    },
    {
     "name": "stdout",
     "output_type": "stream",
     "text": [
      "            * \n",
      "          * * * \n",
      "        * * * * * \n",
      "      * * * * * * * \n",
      "    * * * * * * * * * \n",
      "  * * * * * * * * * * * \n",
      "* * * * * * * * * * * * * \n"
     ]
    }
   ],
   "source": [
    "rows = int(input(\"Enter number of rows: \"))\n",
    "for i in range(rows):\n",
    "    for j in range(rows - i - 1):\n",
    "        print(\" \", end=\" \")\n",
    "    for j in range(2 * i + 1):\n",
    "        print(\"*\", end=\" \")\n",
    "    print()"
   ]
  },
  {
   "cell_type": "code",
   "execution_count": 36,
   "id": "2e9ff4df-8a05-4ee2-be2d-67a30a3d93ea",
   "metadata": {},
   "outputs": [
    {
     "name": "stdout",
     "output_type": "stream",
     "text": [
      "    * \n",
      "  * * * \n",
      "* * * * * \n"
     ]
    }
   ],
   "source": [
    "k = 2\n",
    "for i in range(1, 6, 2):\n",
    "    print(\"  \" * k + i * \"* \")\n",
    "    k -= 1"
   ]
  },
  {
   "cell_type": "code",
   "execution_count": 42,
   "id": "59b77039-3d16-4495-bbd1-35cac0bc4499",
   "metadata": {},
   "outputs": [
    {
     "name": "stdout",
     "output_type": "stream",
     "text": [
      "1\n",
      "3\n",
      "5\n"
     ]
    }
   ],
   "source": [
    "for i in range(1, 6, 2):\n",
    "    print(i)"
   ]
  },
  {
   "cell_type": "code",
   "execution_count": 38,
   "id": "b5a9c326-3a15-4c65-acd1-96bf2d0514ee",
   "metadata": {},
   "outputs": [
    {
     "name": "stdout",
     "output_type": "stream",
     "text": [
      "    * \n",
      "  * * * \n",
      "* * * * * \n"
     ]
    }
   ],
   "source": [
    "k = 2\n",
    "for i in range(1, 6, 2):\n",
    "    print(\"  \" * k + i * \"* \")\n",
    "    k -= 1"
   ]
  },
  {
   "cell_type": "code",
   "execution_count": 41,
   "id": "fd36d222-0acb-4290-abe3-7f560aa97a22",
   "metadata": {},
   "outputs": [
    {
     "name": "stdout",
     "output_type": "stream",
     "text": [
      "Enter number of rows:  8\n"
     ]
    },
    {
     "name": "stdout",
     "output_type": "stream",
     "text": [
      "              * \n",
      "            * * * \n",
      "          * * * * * \n",
      "        * * * * * * * \n",
      "      * * * * * * * * * \n",
      "    * * * * * * * * * * * \n",
      "  * * * * * * * * * * * * * \n",
      "* * * * * * * * * * * * * * * \n"
     ]
    }
   ],
   "source": [
    "rows = int(input(\"Enter number of rows: \"))\n",
    "k = rows - 1\n",
    "for i in range(1, rows * 2, 2):\n",
    "    print(\"  \" * k + i * \"* \")\n",
    "    k -= 1"
   ]
  },
  {
   "cell_type": "code",
   "execution_count": 47,
   "id": "f9d793b7-9a03-48c1-90c5-19d7fc7016cf",
   "metadata": {},
   "outputs": [
    {
     "name": "stdout",
     "output_type": "stream",
     "text": [
      "2000, 2002, 2004, 2006, 2008, 2020, 2022, 2024, 2026, 2028, 2040, 2042, 2044, 2046, 2048, 2060, 2062, 2064, 2066, 2068, 2080, 2082, 2084, 2086, 2088, 2200, 2202, 2204, 2206, 2208, 2220, 2222, 2224, 2226, 2228, 2240, 2242, 2244, 2246, 2248, 2260, 2262, 2264, 2266, 2268, 2280, 2282, 2284, 2286, 2288, 2400, 2402, 2404, 2406, 2408, 2420, 2422, 2424, 2426, 2428, 2440, 2442, 2444, 2446, 2448, 2460, 2462, 2464, 2466, 2468, 2480, 2482, 2484, 2486, 2488, 2600, 2602, 2604, 2606, 2608, 2620, 2622, 2624, 2626, 2628, 2640, 2642, 2644, 2646, 2648, 2660, 2662, 2664, 2666, 2668, 2680, 2682, 2684, 2686, 2688, 2800, 2802, 2804, 2806, 2808, 2820, 2822, 2824, 2826, 2828, 2840, 2842, 2844, 2846, 2848, 2860, 2862, 2864, 2866, 2868, 2880, 2882, 2884, 2886, 2888\n"
     ]
    }
   ],
   "source": [
    "list45 = []\n",
    "for num in range(1000, 3001):\n",
    "    temp = num\n",
    "    flag = True\n",
    "    while num > 0:\n",
    "        remainder = num % 10\n",
    "        if remainder % 2 != 0:\n",
    "            flag = False\n",
    "            break\n",
    "        num = num // 10\n",
    "    if flag:\n",
    "        list45.append(str(temp))\n",
    "\n",
    "# print(list45)\n",
    "print(\", \".join(list45))"
   ]
  },
  {
   "cell_type": "code",
   "execution_count": 53,
   "id": "8930424b-5b00-4d13-9985-13e337d9c15a",
   "metadata": {},
   "outputs": [
    {
     "name": "stdout",
     "output_type": "stream",
     "text": [
      "Hello - world - from - Python\n"
     ]
    }
   ],
   "source": [
    "# separator_string.join(iterable)\n",
    "words = [\"Hello\", \"world\", \"from\", \"Python\"]\n",
    "sentence = \" - \".join(words)\n",
    "print(sentence)"
   ]
  },
  {
   "cell_type": "code",
   "execution_count": 50,
   "id": "461bc9e3-f397-47e3-95f9-35a16ea49a18",
   "metadata": {},
   "outputs": [],
   "source": [
    "# This will raise an error because one of the elements is an integer\n",
    "numbers = [1, 2, 3]\n",
    "# result = \", \".join(numbers)  # Raises TypeError"
   ]
  },
  {
   "cell_type": "code",
   "execution_count": null,
   "id": "69a0ad57-52ff-46ff-a7a2-1cdbceb15adb",
   "metadata": {},
   "outputs": [],
   "source": [
    "# always practice 100-100 interview que\n",
    "# dsa que\n",
    "# sql que\n",
    "# data science ques"
   ]
  }
 ],
 "metadata": {
  "kernelspec": {
   "display_name": "Python 3 (ipykernel)",
   "language": "python",
   "name": "python3"
  },
  "language_info": {
   "codemirror_mode": {
    "name": "ipython",
    "version": 3
   },
   "file_extension": ".py",
   "mimetype": "text/x-python",
   "name": "python",
   "nbconvert_exporter": "python",
   "pygments_lexer": "ipython3",
   "version": "3.12.4"
  }
 },
 "nbformat": 4,
 "nbformat_minor": 5
}

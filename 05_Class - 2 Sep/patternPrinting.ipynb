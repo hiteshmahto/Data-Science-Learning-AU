{
 "cells": [
  {
   "cell_type": "code",
   "execution_count": null,
   "id": "6f983dd8-2c79-46b1-b5a4-4db7c607c7a0",
   "metadata": {},
   "outputs": [],
   "source": [
    "# friday 8-10 ques pattern printing"
   ]
  }
 ],
 "metadata": {
  "kernelspec": {
   "display_name": "Python 3 (ipykernel)",
   "language": "python",
   "name": "python3"
  },
  "language_info": {
   "codemirror_mode": {
    "name": "ipython",
    "version": 3
   },
   "file_extension": ".py",
   "mimetype": "text/x-python",
   "name": "python",
   "nbconvert_exporter": "python",
   "pygments_lexer": "ipython3",
   "version": "3.12.4"
  }
 },
 "nbformat": 4,
 "nbformat_minor": 5
}

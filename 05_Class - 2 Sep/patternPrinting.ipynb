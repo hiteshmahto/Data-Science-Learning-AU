{
 "cells": [
  {
   "cell_type": "markdown",
   "id": "c8837e8d-04d1-4c95-9f36-7cb77ff097a1",
   "metadata": {},
   "source": [
    "<img src='https://media.geeksforgeeks.org/wp-content/uploads/20230201105319/Pattern-Printing-in-Java.jpg' width='600'>"
   ]
  },
  {
   "cell_type": "code",
   "execution_count": 1,
   "id": "7b3e1856-0942-43cb-a19a-2883fcb79cb1",
   "metadata": {},
   "outputs": [
    {
     "name": "stdin",
     "output_type": "stream",
     "text": [
      "Enter the number:  5\n"
     ]
    },
    {
     "name": "stdout",
     "output_type": "stream",
     "text": [
      "1 2 3 4 5 \n",
      " 2 3 4 5 \n",
      "  3 4 5 \n",
      "   4 5 \n",
      "    5 \n",
      "   4 5 \n",
      "  3 4 5 \n",
      " 2 3 4 5 \n",
      "1 2 3 4 5 \n"
     ]
    }
   ],
   "source": [
    "# Mirror Image Triangle Pattern\n",
    "n = int(input(\"Enter the number: \"))\n",
    "for i in range(n):\n",
    "    for j in range(i):\n",
    "        print(\" \", end=\"\")\n",
    "    for k in range(i+1, n+1):\n",
    "        print(k, end=\" \")\n",
    "    print()\n",
    "\n",
    "for i in range(n - 2, -1, -1):\n",
    "    for j in range(i):\n",
    "        print(\" \", end=\"\")\n",
    "    for k in range(i + 1, n + 1):\n",
    "        print(k, end=\" \")\n",
    "    print()"
   ]
  },
  {
   "cell_type": "code",
   "execution_count": null,
   "id": "b12f386d-d96e-488c-9115-4c9be2634c31",
   "metadata": {},
   "outputs": [],
   "source": [
    "# Hollow Triangle Pattern\n"
   ]
  },
  {
   "cell_type": "code",
   "execution_count": null,
   "id": "f11b9576-3234-48f1-bb25-cf23d3e60989",
   "metadata": {},
   "outputs": [],
   "source": []
  },
  {
   "cell_type": "code",
   "execution_count": null,
   "id": "07cda1d1-ccde-45ae-aaf8-dee41da3b069",
   "metadata": {},
   "outputs": [],
   "source": []
  },
  {
   "cell_type": "code",
   "execution_count": null,
   "id": "69f2a5fb-baa9-478d-af95-40c893e5b6c1",
   "metadata": {},
   "outputs": [],
   "source": []
  },
  {
   "cell_type": "code",
   "execution_count": null,
   "id": "21bb13d8-46e9-49b9-bda6-7badb8c923c7",
   "metadata": {},
   "outputs": [],
   "source": []
  },
  {
   "cell_type": "code",
   "execution_count": null,
   "id": "19873f7d-3fc9-4cf2-accb-65cf12a60fcb",
   "metadata": {},
   "outputs": [],
   "source": []
  },
  {
   "cell_type": "code",
   "execution_count": null,
   "id": "2829440a-d767-4f09-a368-8c682f6a185c",
   "metadata": {},
   "outputs": [],
   "source": []
  },
  {
   "cell_type": "code",
   "execution_count": null,
   "id": "4df23eef-d42f-4d08-82c1-e90ac6c7adc8",
   "metadata": {},
   "outputs": [],
   "source": []
  },
  {
   "cell_type": "code",
   "execution_count": null,
   "id": "7ffd4bad-823d-4f78-a7f4-a381addc90a3",
   "metadata": {},
   "outputs": [],
   "source": []
  },
  {
   "cell_type": "code",
   "execution_count": null,
   "id": "999f4865-af08-41ee-8f9d-59c00f343cba",
   "metadata": {},
   "outputs": [],
   "source": []
  }
 ],
 "metadata": {
  "kernelspec": {
   "display_name": "Python 3 (ipykernel)",
   "language": "python",
   "name": "python3"
  },
  "language_info": {
   "codemirror_mode": {
    "name": "ipython",
    "version": 3
   },
   "file_extension": ".py",
   "mimetype": "text/x-python",
   "name": "python",
   "nbconvert_exporter": "python",
   "pygments_lexer": "ipython3",
   "version": "3.12.4"
  }
 },
 "nbformat": 4,
 "nbformat_minor": 5
}

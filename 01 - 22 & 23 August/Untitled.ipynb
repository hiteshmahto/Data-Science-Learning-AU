{
 "cells": [
  {
   "cell_type": "code",
   "execution_count": 7,
   "id": "47b8a047-feb3-4189-9e36-b967b7edbece",
   "metadata": {},
   "outputs": [
    {
     "name": "stdin",
     "output_type": "stream",
     "text": [
      "Enter anything:  hello i am hitesh\n"
     ]
    },
    {
     "name": "stdout",
     "output_type": "stream",
     "text": [
      "hello i am hitesh\n",
      "['hello', 'i', 'am', 'hitesh']\n"
     ]
    }
   ],
   "source": [
    "str = input(\"Enter anything: \")\n",
    "print(str)\n",
    "list2 = str.split(\" \")\n",
    "print(list2)"
   ]
  }
 ],
 "metadata": {
  "kernelspec": {
   "display_name": "Python 3 (ipykernel)",
   "language": "python",
   "name": "python3"
  },
  "language_info": {
   "codemirror_mode": {
    "name": "ipython",
    "version": 3
   },
   "file_extension": ".py",
   "mimetype": "text/x-python",
   "name": "python",
   "nbconvert_exporter": "python",
   "pygments_lexer": "ipython3",
   "version": "3.12.4"
  }
 },
 "nbformat": 4,
 "nbformat_minor": 5
}

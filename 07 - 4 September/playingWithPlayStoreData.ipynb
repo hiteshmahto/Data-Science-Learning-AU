{
 "cells": [
  {
   "cell_type": "code",
   "execution_count": 8,
   "id": "6b506907-61a7-4882-bcb5-999b7678a302",
   "metadata": {},
   "outputs": [
    {
     "name": "stdout",
     "output_type": "stream",
     "text": [
      "9660\n",
      "1181\n"
     ]
    }
   ],
   "source": [
    "# sir code\n",
    "\n",
    "from csv import reader\n",
    "file = open(\"googleplaystore.csv\", \"r\", encoding=\"utf-8\")\n",
    "android = list(reader(file))\n",
    "app_list = android[1:]\n",
    "\n",
    "unique_app_list = []\n",
    "duplicate_app_list = []\n",
    "\n",
    "for app in app_list:\n",
    "    app_name = app[0]\n",
    "    if app_name in unique_app_list:\n",
    "        duplicate_app_list.append(app_name)\n",
    "    else:\n",
    "        unique_app_list.append(app_name)\n",
    "\n",
    "unique_apps_len = len(unique_app_list)\n",
    "print(unique_apps_len)\n",
    "print(len(duplicate_app_list))\n",
    "# print(unique_app_list)"
   ]
  },
  {
   "cell_type": "code",
   "execution_count": 6,
   "id": "d5665587-9200-47c6-9ab8-3a31de03112d",
   "metadata": {},
   "outputs": [
    {
     "ename": "ValueError",
     "evalue": "could not convert string to float: '3.0M'",
     "output_type": "error",
     "traceback": [
      "\u001b[1;31m---------------------------------------------------------------------------\u001b[0m",
      "\u001b[1;31mValueError\u001b[0m                                Traceback (most recent call last)",
      "Cell \u001b[1;32mIn[6], line 12\u001b[0m\n\u001b[0;32m     10\u001b[0m \u001b[38;5;28;01mfor\u001b[39;00m app \u001b[38;5;129;01min\u001b[39;00m app_list:\n\u001b[0;32m     11\u001b[0m     name \u001b[38;5;241m=\u001b[39m app[\u001b[38;5;241m0\u001b[39m]\n\u001b[1;32m---> 12\u001b[0m     n_review \u001b[38;5;241m=\u001b[39m \u001b[38;5;28mfloat\u001b[39m(app[\u001b[38;5;241m3\u001b[39m])\n\u001b[0;32m     14\u001b[0m     \u001b[38;5;66;03m# If the app is already in max_review, update only if the current review count is higher\u001b[39;00m\n\u001b[0;32m     15\u001b[0m     \u001b[38;5;28;01mif\u001b[39;00m name \u001b[38;5;129;01min\u001b[39;00m max_review:\n",
      "\u001b[1;31mValueError\u001b[0m: could not convert string to float: '3.0M'"
     ]
    }
   ],
   "source": [
    "# sir code\n",
    "\n",
    "from csv import reader\n",
    "file = open(\"googleplaystore.csv\", \"r\", encoding=\"utf-8\")\n",
    "android = list(reader(file))\n",
    "app_list = android[1:]\n",
    "\n",
    "max_review = {}\n",
    "\n",
    "for app in app_list:\n",
    "    name = app[0]\n",
    "    n_review = float(app[3])\n",
    "    \n",
    "    # If the app is already in max_review, update only if the current review count is higher\n",
    "    if name in max_review:\n",
    "        if max_review[name] < n_review:\n",
    "            max_review[name] = n_review\n",
    "            # print(max_review[name])\n",
    "    else:\n",
    "        # Add the app to max_review if it's not already present\n",
    "        max_review[name] = n_review\n",
    "        # print(max_review[name])"
   ]
  },
  {
   "cell_type": "code",
   "execution_count": null,
   "id": "b53a02fa-6ed3-40d6-9055-398fe3b7e896",
   "metadata": {},
   "outputs": [],
   "source": [
    "print(app_list[10474])"
   ]
  },
  {
   "cell_type": "code",
   "execution_count": null,
   "id": "de772e6e-2373-4ed5-9622-c376c9d53c8b",
   "metadata": {},
   "outputs": [],
   "source": []
  },
  {
   "cell_type": "code",
   "execution_count": null,
   "id": "dda5836b-8079-4125-b5c9-acfc8cb28c16",
   "metadata": {},
   "outputs": [],
   "source": []
  },
  {
   "cell_type": "code",
   "execution_count": null,
   "id": "d89889f4-e375-4739-b364-1d4ccafb9828",
   "metadata": {},
   "outputs": [],
   "source": []
  }
 ],
 "metadata": {
  "kernelspec": {
   "display_name": "Python 3 (ipykernel)",
   "language": "python",
   "name": "python3"
  },
  "language_info": {
   "codemirror_mode": {
    "name": "ipython",
    "version": 3
   },
   "file_extension": ".py",
   "mimetype": "text/x-python",
   "name": "python",
   "nbconvert_exporter": "python",
   "pygments_lexer": "ipython3",
   "version": "3.12.4"
  }
 },
 "nbformat": 4,
 "nbformat_minor": 5
}

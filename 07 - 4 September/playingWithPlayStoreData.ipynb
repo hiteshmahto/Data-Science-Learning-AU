{
 "cells": [
  {
   "cell_type": "code",
   "execution_count": 65,
   "id": "5a867ac3-bb44-4318-9082-bbe856d5d8bc",
   "metadata": {},
   "outputs": [],
   "source": [
    "from csv import reader\n",
    "file = open(\"googleplaystore.csv\", \"r\", encoding=\"utf-8\")\n",
    "android = list(reader(file))\n",
    "app_list = android[1:]"
   ]
  },
  {
   "cell_type": "code",
   "execution_count": 66,
   "id": "3f02adaa-f6f1-48c4-8d75-42c6b1d6cbe8",
   "metadata": {},
   "outputs": [
    {
     "name": "stdout",
     "output_type": "stream",
     "text": [
      "['Instagram', 'SOCIAL', '4.5', '66577313', 'Varies with device', '1,000,000,000+', 'Free', '0', 'Teen', 'Social', 'July 31, 2018', 'Varies with device', 'Varies with device']\n",
      "['Instagram', 'SOCIAL', '4.5', '66577446', 'Varies with device', '1,000,000,000+', 'Free', '0', 'Teen', 'Social', 'July 31, 2018', 'Varies with device', 'Varies with device']\n",
      "['Instagram', 'SOCIAL', '4.5', '66577313', 'Varies with device', '1,000,000,000+', 'Free', '0', 'Teen', 'Social', 'July 31, 2018', 'Varies with device', 'Varies with device']\n",
      "['Instagram', 'SOCIAL', '4.5', '66509917', 'Varies with device', '1,000,000,000+', 'Free', '0', 'Teen', 'Social', 'July 31, 2018', 'Varies with device', 'Varies with device']\n"
     ]
    }
   ],
   "source": [
    "for app in app_list:\n",
    "    if app[0] == \"Instagram\":\n",
    "        print(app)"
   ]
  },
  {
   "cell_type": "code",
   "execution_count": 67,
   "id": "6b506907-61a7-4882-bcb5-999b7678a302",
   "metadata": {},
   "outputs": [
    {
     "name": "stdout",
     "output_type": "stream",
     "text": [
      "9660\n",
      "1181\n"
     ]
    }
   ],
   "source": [
    "unique_app_list = []\n",
    "duplicate_app_list = []\n",
    "\n",
    "for app in app_list:\n",
    "    app_name = app[0]\n",
    "    if app_name in unique_app_list:\n",
    "        duplicate_app_list.append(app_name)\n",
    "    else:\n",
    "        unique_app_list.append(app_name)\n",
    "\n",
    "unique_apps_len = len(unique_app_list)\n",
    "print(unique_apps_len)\n",
    "print(len(duplicate_app_list))\n",
    "# print(unique_app_list)"
   ]
  },
  {
   "cell_type": "code",
   "execution_count": 68,
   "id": "0430ab46-0f7d-4b4e-bb7c-cf74199bf610",
   "metadata": {},
   "outputs": [
    {
     "name": "stdout",
     "output_type": "stream",
     "text": [
      "10472\n",
      "['Life Made WI-Fi Touchscreen Photo Frame', '1.9', '19', '3.0M', '1,000+', 'Free', '0', 'Everyone', '', 'February 11, 2018', '1.0.19', '4.0 and up']\n"
     ]
    }
   ],
   "source": [
    "# removing this error - ValueError: could not convert string to float: '3.0M' ---> by deleting a row\n",
    "counter = 0\n",
    "for app in app_list:\n",
    "    if app[3] == '3.0M':\n",
    "        break\n",
    "    counter += 1\n",
    "\n",
    "print(counter)\n",
    "print(app_list[counter])"
   ]
  },
  {
   "cell_type": "code",
   "execution_count": 69,
   "id": "d07f27af-69b1-4260-a73a-330cc39d82aa",
   "metadata": {},
   "outputs": [],
   "source": [
    "del(app_list[counter])"
   ]
  },
  {
   "cell_type": "code",
   "execution_count": 70,
   "id": "b913ad4b-6ae1-478c-a456-0daa1fbf8e21",
   "metadata": {},
   "outputs": [
    {
     "name": "stdout",
     "output_type": "stream",
     "text": [
      "['osmino Wi-Fi: free WiFi', 'TOOLS', '4.2', '134203', '4.1M', '10,000,000+', 'Free', '0', 'Everyone', 'Tools', 'August 7, 2018', '6.06.14', '4.4 and up']\n"
     ]
    }
   ],
   "source": [
    "print(app_list[counter])"
   ]
  },
  {
   "cell_type": "code",
   "execution_count": 71,
   "id": "57441e43-c15d-4650-a530-f9a161c7fef0",
   "metadata": {},
   "outputs": [
    {
     "name": "stdout",
     "output_type": "stream",
     "text": [
      "66509917.0\n"
     ]
    }
   ],
   "source": [
    "# wrong logic of else statement\n",
    "max_review = {}\n",
    "for app in app_list:\n",
    "    name = app[0]\n",
    "    n_review = float(app[3])\n",
    "    if (name in max_review) and (max_review[name] < n_review):\n",
    "        max_review[name] = n_review\n",
    "    else:\n",
    "        max_review[name] = n_review\n",
    "\n",
    "print(max_review[\"Instagram\"])"
   ]
  },
  {
   "cell_type": "code",
   "execution_count": 72,
   "id": "d06936f1-f691-44e3-b630-466adeb164fa",
   "metadata": {},
   "outputs": [
    {
     "name": "stdout",
     "output_type": "stream",
     "text": [
      "66577446.0\n"
     ]
    }
   ],
   "source": [
    "max_review = {}\n",
    "for app in app_list:\n",
    "    name = app[0]\n",
    "    n_review = float(app[3])\n",
    "    if (name in max_review) and (max_review[name] < n_review):\n",
    "        max_review[name] = n_review\n",
    "    elif name not in max_review:\n",
    "        max_review[name] = n_review\n",
    "\n",
    "print(max_review[\"Instagram\"])"
   ]
  },
  {
   "cell_type": "code",
   "execution_count": 73,
   "id": "d5665587-9200-47c6-9ab8-3a31de03112d",
   "metadata": {},
   "outputs": [
    {
     "name": "stdout",
     "output_type": "stream",
     "text": [
      "66577446.0\n",
      "9659\n"
     ]
    }
   ],
   "source": [
    "# another method of doing same thing\n",
    "max_review = {}\n",
    "\n",
    "for app in app_list:\n",
    "    name = app[0]\n",
    "    n_review = float(app[3])\n",
    "    \n",
    "    # If the app is already in max_review, update only if the current review count is higher\n",
    "    if name in max_review:\n",
    "        if max_review[name] < n_review:\n",
    "            max_review[name] = n_review\n",
    "    else:\n",
    "        # Add the app to max_review if it's not already present\n",
    "        max_review[name] = n_review\n",
    "\n",
    "print(max_review[\"Instagram\"])\n",
    "print(len(max_review))"
   ]
  },
  {
   "cell_type": "code",
   "execution_count": 74,
   "id": "b53a02fa-6ed3-40d6-9055-398fe3b7e896",
   "metadata": {},
   "outputs": [
    {
     "name": "stdout",
     "output_type": "stream",
     "text": [
      "9665\n"
     ]
    }
   ],
   "source": [
    "# i have a max_review dict and now i want to delete rows from the app_list which has duplicate values and i will choose the max review row\n",
    "filtered_app_list = []\n",
    "\n",
    "for app in app_list:\n",
    "    name = app[0]\n",
    "    n_review = float(app[3])\n",
    "    \n",
    "    # Check if the current row's review count matches the max review count for that app\n",
    "    if app not in filtered_app_list and n_review == max_review[name]:\n",
    "        filtered_app_list.append(app)\n",
    "\n",
    "# Now filtered_app_list contains only rows with the maximum review count for each app\n",
    "print(len(filtered_app_list))\n",
    "# print(len(app_list))\n",
    "\n",
    "u_app = []\n",
    "d_app = []\n",
    "for app in filtered_app_list:\n",
    "    if app in u_app:\n",
    "        d_app.append(app)\n",
    "    else:\n",
    "        u_app.append(app)\n",
    "\n",
    "# print(u_app)"
   ]
  },
  {
   "cell_type": "code",
   "execution_count": null,
   "id": "de772e6e-2373-4ed5-9622-c376c9d53c8b",
   "metadata": {},
   "outputs": [],
   "source": []
  },
  {
   "cell_type": "code",
   "execution_count": null,
   "id": "dda5836b-8079-4125-b5c9-acfc8cb28c16",
   "metadata": {},
   "outputs": [],
   "source": []
  },
  {
   "cell_type": "code",
   "execution_count": null,
   "id": "d89889f4-e375-4739-b364-1d4ccafb9828",
   "metadata": {},
   "outputs": [],
   "source": []
  }
 ],
 "metadata": {
  "kernelspec": {
   "display_name": "Python 3 (ipykernel)",
   "language": "python",
   "name": "python3"
  },
  "language_info": {
   "codemirror_mode": {
    "name": "ipython",
    "version": 3
   },
   "file_extension": ".py",
   "mimetype": "text/x-python",
   "name": "python",
   "nbconvert_exporter": "python",
   "pygments_lexer": "ipython3",
   "version": "3.12.4"
  }
 },
 "nbformat": 4,
 "nbformat_minor": 5
}

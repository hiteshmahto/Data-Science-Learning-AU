{
 "cells": [
  {
   "cell_type": "code",
   "execution_count": 1,
   "id": "c88fa2fa-769b-4f46-abdb-2f3818d94414",
   "metadata": {},
   "outputs": [],
   "source": [
    "from csv import reader"
   ]
  },
  {
   "cell_type": "code",
   "execution_count": 2,
   "id": "903846ec-fbed-43f6-b670-b12f453ffe0e",
   "metadata": {},
   "outputs": [],
   "source": [
    "file=open(\"googleplaystore.csv\",\"r\",encoding=\"utf-8\")"
   ]
  },
  {
   "cell_type": "code",
   "execution_count": 3,
   "id": "b5d558df-a0ee-4934-a988-f5f4740deeb4",
   "metadata": {},
   "outputs": [],
   "source": [
    "android=reader(file)"
   ]
  },
  {
   "cell_type": "code",
   "execution_count": 4,
   "id": "2a1c1edb-f229-449f-9394-09ca48c9a175",
   "metadata": {},
   "outputs": [],
   "source": [
    "android1=list(android)"
   ]
  },
  {
   "cell_type": "code",
   "execution_count": 5,
   "id": "10184391-ff16-4029-800f-4fa115f0e0af",
   "metadata": {},
   "outputs": [],
   "source": [
    "header=android1[0]"
   ]
  },
  {
   "cell_type": "code",
   "execution_count": 6,
   "id": "8fa0af26-77e9-456f-9b2e-fc15b7345a0a",
   "metadata": {},
   "outputs": [],
   "source": [
    "app_list=android1[1:]"
   ]
  },
  {
   "cell_type": "code",
   "execution_count": 7,
   "id": "acc97de0-919e-4738-8a48-4a2ab8777efb",
   "metadata": {},
   "outputs": [],
   "source": [
    "# app_list\n",
    "def explore_data(dataset,start,end,row_columns=False):\n",
    "    dataslice=dataset[start:end]\n",
    "    for row in dataslice:\n",
    "        print(row)\n",
    "        print(\"\\n\")\n",
    "    if row_columns==True:\n",
    "        print(\"len of data\",len(dataset))\n",
    "        print(\"len of column\",len(dataset[0]))"
   ]
  },
  {
   "cell_type": "code",
   "execution_count": 8,
   "id": "c4f3c4a9-e64b-4b27-87f7-94abf1a30962",
   "metadata": {},
   "outputs": [
    {
     "name": "stdout",
     "output_type": "stream",
     "text": [
      "['Paper flowers instructions', 'ART_AND_DESIGN', '4.4', '167', '5.6M', '50,000+', 'Free', '0', 'Everyone', 'Art & Design', 'March 26, 2017', '1.0', '2.3 and up']\n",
      "\n",
      "\n",
      "['Smoke Effect Photo Maker - Smoke Editor', 'ART_AND_DESIGN', '3.8', '178', '19M', '50,000+', 'Free', '0', 'Everyone', 'Art & Design', 'April 26, 2018', '1.1', '4.0.3 and up']\n",
      "\n",
      "\n",
      "['Infinite Painter', 'ART_AND_DESIGN', '4.1', '36815', '29M', '1,000,000+', 'Free', '0', 'Everyone', 'Art & Design', 'June 14, 2018', '6.1.61.1', '4.2 and up']\n",
      "\n",
      "\n",
      "len of data 10841\n",
      "len of column 13\n"
     ]
    }
   ],
   "source": [
    "explore_data(app_list,5,8,True)"
   ]
  },
  {
   "cell_type": "code",
   "execution_count": 9,
   "id": "b6a7074f-3f29-419c-bd68-e1d22a509932",
   "metadata": {},
   "outputs": [
    {
     "name": "stdout",
     "output_type": "stream",
     "text": [
      "['App', 'Category', 'Rating', 'Reviews', 'Size', 'Installs', 'Type', 'Price', 'Content Rating', 'Genres', 'Last Updated', 'Current Ver', 'Android Ver']\n"
     ]
    }
   ],
   "source": [
    "print(header)"
   ]
  },
  {
   "cell_type": "code",
   "execution_count": 10,
   "id": "b46fb94a-8210-4953-b36c-51282e44347f",
   "metadata": {},
   "outputs": [
    {
     "name": "stdout",
     "output_type": "stream",
     "text": [
      "['Instagram', 'SOCIAL', '4.5', '66577313', 'Varies with device', '1,000,000,000+', 'Free', '0', 'Teen', 'Social', 'July 31, 2018', 'Varies with device', 'Varies with device']\n",
      "['Instagram', 'SOCIAL', '4.5', '66577446', 'Varies with device', '1,000,000,000+', 'Free', '0', 'Teen', 'Social', 'July 31, 2018', 'Varies with device', 'Varies with device']\n",
      "['Instagram', 'SOCIAL', '4.5', '66577313', 'Varies with device', '1,000,000,000+', 'Free', '0', 'Teen', 'Social', 'July 31, 2018', 'Varies with device', 'Varies with device']\n",
      "['Instagram', 'SOCIAL', '4.5', '66509917', 'Varies with device', '1,000,000,000+', 'Free', '0', 'Teen', 'Social', 'July 31, 2018', 'Varies with device', 'Varies with device']\n"
     ]
    }
   ],
   "source": [
    "for app in app_list:\n",
    "    name=app[0]\n",
    "    if name==\"Instagram\":\n",
    "        print(app)"
   ]
  },
  {
   "cell_type": "code",
   "execution_count": 11,
   "id": "12cf2979-b93a-4873-8796-c84a31dce68a",
   "metadata": {},
   "outputs": [],
   "source": [
    "y=[\n",
    "    [\"a\"],\n",
    "    [\"b\"]\n",
    "]"
   ]
  },
  {
   "cell_type": "code",
   "execution_count": 12,
   "id": "35bdce97-217a-40e6-a2c8-59516dab0072",
   "metadata": {},
   "outputs": [],
   "source": [
    "del(y[0])"
   ]
  },
  {
   "cell_type": "code",
   "execution_count": 13,
   "id": "4d6491fd-82b9-4bd4-ae18-9862cacfdf26",
   "metadata": {},
   "outputs": [
    {
     "data": {
      "text/plain": [
       "[['b']]"
      ]
     },
     "execution_count": 13,
     "metadata": {},
     "output_type": "execute_result"
    }
   ],
   "source": [
    "y"
   ]
  },
  {
   "cell_type": "code",
   "execution_count": 14,
   "id": "dde127f8-49e7-49b4-a117-2002c35f19ad",
   "metadata": {},
   "outputs": [],
   "source": [
    "unique_app_list=[]\n",
    "dublicate_aap_list=[]\n",
    "for app in app_list:\n",
    "    name=app[0]\n",
    "    if name in unique_app_list:\n",
    "        dublicate_aap_list.append(name)\n",
    "    else:\n",
    "        unique_app_list.append(name)"
   ]
  },
  {
   "cell_type": "code",
   "execution_count": 15,
   "id": "acf51656-6eed-4b85-927f-a5a0f59e0fa1",
   "metadata": {},
   "outputs": [],
   "source": [
    "unique_app=len(unique_app_list)"
   ]
  },
  {
   "cell_type": "code",
   "execution_count": 16,
   "id": "3ab367da-c715-4165-88ee-b70d69a1a695",
   "metadata": {},
   "outputs": [
    {
     "data": {
      "text/plain": [
       "9660"
      ]
     },
     "execution_count": 16,
     "metadata": {},
     "output_type": "execute_result"
    }
   ],
   "source": [
    "unique_app"
   ]
  },
  {
   "cell_type": "code",
   "execution_count": null,
   "id": "36fdba1c-77c8-417f-9a4d-d0d847e7075b",
   "metadata": {},
   "outputs": [],
   "source": []
  },
  {
   "cell_type": "code",
   "execution_count": null,
   "id": "661f157a-069a-471e-81b7-77d88f0c82f0",
   "metadata": {},
   "outputs": [],
   "source": []
  }
 ],
 "metadata": {
  "kernelspec": {
   "display_name": "Python 3 (ipykernel)",
   "language": "python",
   "name": "python3"
  },
  "language_info": {
   "codemirror_mode": {
    "name": "ipython",
    "version": 3
   },
   "file_extension": ".py",
   "mimetype": "text/x-python",
   "name": "python",
   "nbconvert_exporter": "python",
   "pygments_lexer": "ipython3",
   "version": "3.12.4"
  }
 },
 "nbformat": 4,
 "nbformat_minor": 5
}

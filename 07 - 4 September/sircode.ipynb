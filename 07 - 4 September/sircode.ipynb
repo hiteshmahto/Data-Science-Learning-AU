{
 "cells": [
  {
   "cell_type": "code",
   "execution_count": 14,
   "id": "dde127f8-49e7-49b4-a117-2002c35f19ad",
   "metadata": {},
   "outputs": [],
   "source": [
    "unique_app_list=[]\n",
    "dublicate_aap_list=[]\n",
    "for app in app_list:\n",
    "    name=app[0]\n",
    "    if name in unique_app_list:\n",
    "        dublicate_aap_list.append(name)\n",
    "    else:\n",
    "        unique_app_list.append(name)"
   ]
  },
  {
   "cell_type": "code",
   "execution_count": 15,
   "id": "acf51656-6eed-4b85-927f-a5a0f59e0fa1",
   "metadata": {},
   "outputs": [],
   "source": [
    "unique_app=len(unique_app_list)"
   ]
  },
  {
   "cell_type": "code",
   "execution_count": 16,
   "id": "3ab367da-c715-4165-88ee-b70d69a1a695",
   "metadata": {},
   "outputs": [
    {
     "data": {
      "text/plain": [
       "9660"
      ]
     },
     "execution_count": 16,
     "metadata": {},
     "output_type": "execute_result"
    }
   ],
   "source": [
    "unique_app"
   ]
  }
 ],
 "metadata": {
  "kernelspec": {
   "display_name": "Python 3 (ipykernel)",
   "language": "python",
   "name": "python3"
  },
  "language_info": {
   "codemirror_mode": {
    "name": "ipython",
    "version": 3
   },
   "file_extension": ".py",
   "mimetype": "text/x-python",
   "name": "python",
   "nbconvert_exporter": "python",
   "pygments_lexer": "ipython3",
   "version": "3.12.4"
  }
 },
 "nbformat": 4,
 "nbformat_minor": 5
}

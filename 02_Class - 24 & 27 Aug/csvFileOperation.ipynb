{
 "cells": [
  {
   "cell_type": "code",
   "execution_count": null,
   "id": "7c9d20b5-b579-406f-8fd3-1619e1087807",
   "metadata": {},
   "outputs": [],
   "source": [
    "# open() - used to open the file named \"AppleStore.csv\".\n",
    "# \"AppleStore.csv\": This is the name of the file you want to open. It should be in the same directory as your script or notebook, or you should provide the correct path to it\n",
    "# \"r\": is the mode in which you open the file. \"r\" stands for \"read,\" meaning you're opening the file to read its contents.\n",
    "# encoding=\"utf-8\": This specifies the character encoding used in the file. UTF-8 is a common encoding that supports many characters and symbols."
   ]
  },
  {
   "cell_type": "code",
   "execution_count": 4,
   "id": "17cf8c76-087a-4d02-9097-1c66ff70dfd6",
   "metadata": {},
   "outputs": [
    {
     "data": {
      "text/plain": [
       "['id,track_name,size_bytes,currency,price,rating_count_tot,rating_count_ver,user_rating,user_rating_ver,ver,cont_rating,prime_genre,sup_devices.num,ipadSc_urls.num,lang.num,vpp_lic\\n',\n",
       " '284882215,Facebook,389879808,USD,0,2974676,212,3.5,3.5,95,4+,Social Networking,37,1,29,1\\n',\n",
       " '389801252,Instagram,113954816,USD,0,2161558,1289,4.5,4,10.23,12+,Photo & Video,37,0,29,1\\n']"
      ]
     },
     "execution_count": 4,
     "metadata": {},
     "output_type": "execute_result"
    }
   ],
   "source": [
    "import csv # This line imports the csv module, which provides functionality to work with CSV (Comma-Separated Values) files\n",
    "file = open(\"AppleStore.csv\", \"r\", encoding=\"utf-8\")\n",
    "# print(type(file))\n",
    "\n",
    "# list(file): The file object is an iterable, so when we pass it to list(), it reads all the lines from the file and stores them as individual string elements in a list. Each line from the CSV file becomes a string element in this list\n",
    "app_list = list(file)\n",
    "# app_list[0]\n",
    "app_list[0:3]"
   ]
  },
  {
   "cell_type": "code",
   "execution_count": 18,
   "id": "254bf4d9-3633-4700-832a-4fc64dc334e2",
   "metadata": {},
   "outputs": [
    {
     "name": "stdout",
     "output_type": "stream",
     "text": [
      "[['id', 'track_name', 'size_bytes', 'currency', 'price', 'rating_count_tot', 'rating_count_ver', 'user_rating', 'user_rating_ver', 'ver', 'cont_rating', 'prime_genre', 'sup_devices.num', 'ipadSc_urls.num', 'lang.num', 'vpp_lic'], ['284882215', 'Facebook', '389879808', 'USD', '0', '2974676', '212', '3.5', '3.5', '95', '4+', 'Social Networking', '37', '1', '29', '1'], ['389801252', 'Instagram', '113954816', 'USD', '0', '2161558', '1289', '4.5', '4', '10.23', '12+', 'Photo & Video', '37', '0', '29', '1'], ['529479190', 'Clash of Clans', '116476928', 'USD', '0', '2130805', '579', '4.5', '4.5', '9.24.12', '9+', 'Games', '38', '5', '18', '1']]\n",
      "Clash of Clans\n"
     ]
    }
   ],
   "source": [
    "import csv\n",
    "file = open(\"AppleStore.csv\", \"r\", encoding=\"utf-8\")\n",
    "new_file = csv.reader(file) # This reads the CSV file and parses it into rows, where each row is represented as a list of strings, corresponding to the values in that row\n",
    "\n",
    "# to print new_file there is two methods:\n",
    "# Method 1: Loop through `new_file`\n",
    "# for row in new_file:\n",
    "    # print(row)\n",
    "\n",
    "\"\"\"Que: Print the genre of all the apps\"\"\"\n",
    "# for row in new_file:\n",
    "#     print(row[11])\n",
    "\n",
    "# Method 2: Convert to a List and Print\n",
    "new_file_list = list(new_file)\n",
    "# print(new_file_list) # prints whole list\n",
    "print(new_file_list[0:4]) # prints first four rows of the new_file_list\n",
    "\n",
    "print(new_file_list[3][1]) # Clash of Clans"
   ]
  },
  {
   "cell_type": "code",
   "execution_count": 3,
   "id": "ec4487b2-e849-4bd7-9be1-dc79ba41d47a",
   "metadata": {},
   "outputs": [
    {
     "name": "stdout",
     "output_type": "stream",
     "text": [
      "3.3767258382642997\n"
     ]
    }
   ],
   "source": [
    "# find the average rating of free apps\n",
    "# Step 1: make a list of free app ratings\n",
    "# Step 2: find the sum and length of that free app rating list and then calculate the average\n",
    "\n",
    "import csv\n",
    "file = open(\"AppleStore.csv\", \"r\", encoding=\"utf-8\")\n",
    "new_file = csv.reader(file)\n",
    "new_file_list = list(new_file)\n",
    "# print(type(new_file_list[1][7])) # type of user_rating is string\n",
    "\n",
    "\n",
    "free_app_rating = []\n",
    "for sublist in new_file_list[1:]:\n",
    "    price = float(sublist[4])\n",
    "    rating = float(sublist[7])\n",
    "    if(price == 0.0):\n",
    "        free_app_rating.append(rating)\n",
    "\n",
    "# print(free_app_rating)\n",
    "\n",
    "# There are 2 methods of Finding sum and length of `free_app_rating` list\n",
    "\"\"\"Method 1: Using loops\"\"\"\n",
    "'''\n",
    "total_rating = 0\n",
    "count_free_apps = -1\n",
    "for rating in free_app_rating:\n",
    "    total_rating += rating\n",
    "    count_free_apps += 1\n",
    "    \n",
    "avg_rating = total_rating / count_free_apps\n",
    "print(avg_rating)\n",
    "'''\n",
    "\n",
    "\"\"\"Method 2: Using build-in function\"\"\"\n",
    "total_rating = sum(free_app_rating)\n",
    "count_free_apps = len(free_app_rating)\n",
    "avg_rating = total_rating / count_free_apps\n",
    "print(avg_rating)"
   ]
  },
  {
   "cell_type": "code",
   "execution_count": 4,
   "id": "e7c5d9db-7143-4cbc-aef1-d493dabd4bc8",
   "metadata": {},
   "outputs": [
    {
     "name": "stdout",
     "output_type": "stream",
     "text": [
      "3.720948742438714\n"
     ]
    }
   ],
   "source": [
    "# finding the average rating of paid apps\n",
    "\n",
    "import csv\n",
    "file = open(\"AppleStore.csv\", \"r\", encoding=\"utf-8\")\n",
    "new_file = csv.reader(file)\n",
    "new_file_list = list(new_file)\n",
    "\n",
    "paid_app_rating = []\n",
    "for sublist in new_file_list[1:]:\n",
    "    price = float(sublist[4])\n",
    "    rating = float(sublist[7])\n",
    "    if(price > 0.0):\n",
    "        paid_app_rating.append(rating)\n",
    "\n",
    "total_rating = sum(paid_app_rating)\n",
    "count_paid_apps = len(paid_app_rating)\n",
    "avg_rating = total_rating / count_paid_apps\n",
    "print(avg_rating)"
   ]
  },
  {
   "cell_type": "code",
   "execution_count": 25,
   "id": "4b96db8b-ec7f-4e79-9002-c7015cf42c9d",
   "metadata": {},
   "outputs": [
    {
     "name": "stdout",
     "output_type": "stream",
     "text": [
      "3.5280985915492957\n"
     ]
    }
   ],
   "source": [
    "# finding the average rating of the apps with price between 0 to 10 (include 0 and 10 also)\n",
    "# Step 1: make the rating_list of 0 to 10 priced apps\n",
    "# Step 2: then find the average of that list\n",
    "\n",
    "import csv\n",
    "file = open(\"AppleStore.csv\", \"r\", encoding=\"utf-8\")\n",
    "new_file = csv.reader(file)\n",
    "new_file_list = list(new_file)\n",
    "\n",
    "rating_list = []\n",
    "for sublist in new_file_list[1:]:\n",
    "    price = float(sublist[4])\n",
    "    rating = float(sublist[7])\n",
    "    if(price <= 10):\n",
    "        rating_list.append(rating)\n",
    "\n",
    "# print(rating_list)\n",
    "\n",
    "total_rating = sum(rating_list)\n",
    "count = len(rating_list)\n",
    "avg_rating = total_rating / count\n",
    "print(avg_rating)"
   ]
  },
  {
   "cell_type": "code",
   "execution_count": 29,
   "id": "72c81dd7-76f0-4174-a026-05ead610398c",
   "metadata": {},
   "outputs": [
    {
     "name": "stdout",
     "output_type": "stream",
     "text": [
      "299.99\n",
      "0.0\n"
     ]
    }
   ],
   "source": [
    "# finding the max and min price\n",
    "import csv\n",
    "file = open(\"AppleStore.csv\", \"r\", encoding=\"utf-8\")\n",
    "new_file = csv.reader(file)\n",
    "new_file_list = list(new_file)\n",
    "\n",
    "price_list = []\n",
    "for sublist in new_file_list[1:]:\n",
    "    price = float(sublist[4])\n",
    "    price_list.append(price)\n",
    "\n",
    "print(max(price_list))\n",
    "print(min(price_list))"
   ]
  },
  {
   "cell_type": "code",
   "execution_count": 1,
   "id": "8a960278-eb15-4985-80ce-7ca423d84e66",
   "metadata": {},
   "outputs": [],
   "source": [
    "# finding the average rating of the apps with price 0-10, 10-20, 20-30, 30-40 ..... 290-300 and drawing some conclusions\n",
    "# Step 1: make the rating_list of given ranged price\n",
    "# Step 2: then find the average of that list and append it in a newlist\n",
    "# Step 3: repeat step 1 and 2 untill you complete all the price range \n",
    "\n",
    "import csv\n",
    "file = open(\"AppleStore.csv\", \"r\", encoding=\"utf-8\")\n",
    "new_file = csv.reader(file)\n",
    "new_file_list = list(new_file)\n",
    "\n",
    "# print(new_file_list)\n",
    "\n",
    "\n",
    "\n",
    "\n",
    "\n",
    "\n",
    "\n",
    "\n",
    "\n",
    "\n",
    "\n",
    "# rating_list = []\n",
    "# for sublist in new_file_list[1:]:\n",
    "#     price = float(sublist[4])\n",
    "#     rating = float(sublist[7])\n",
    "#     if(price <= 10):\n",
    "#         rating_list.append(rating)\n",
    "\n",
    "# # print(rating_list)\n",
    "\n",
    "# total_rating = sum(rating_list)\n",
    "# count = len(rating_list)\n",
    "# avg_rating = total_rating / count\n",
    "# print(avg_rating)"
   ]
  },
  {
   "cell_type": "code",
   "execution_count": null,
   "id": "bacd5b69-aecc-44c2-8687-166afd65ce3e",
   "metadata": {},
   "outputs": [],
   "source": []
  }
 ],
 "metadata": {
  "kernelspec": {
   "display_name": "Python 3 (ipykernel)",
   "language": "python",
   "name": "python3"
  },
  "language_info": {
   "codemirror_mode": {
    "name": "ipython",
    "version": 3
   },
   "file_extension": ".py",
   "mimetype": "text/x-python",
   "name": "python",
   "nbconvert_exporter": "python",
   "pygments_lexer": "ipython3",
   "version": "3.12.4"
  }
 },
 "nbformat": 4,
 "nbformat_minor": 5
}
